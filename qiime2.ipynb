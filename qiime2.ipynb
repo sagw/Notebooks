{
 "metadata": {
  "name": "",
  "signature": "sha256:e2f384b3d1d0384320a5a0dcbf9fe9d225e9bc91b83e90abe1f12c0c4e2cfa8e"
 },
 "nbformat": 3,
 "nbformat_minor": 0,
 "worksheets": [
  {
   "cells": [
    {
     "cell_type": "code",
     "collapsed": false,
     "input": [
      "!wc -l /Users/sarahgignoux-wolfsohn/Documents/SD1/SD1_otus_97/SD1_OTUs_97/rep_set.fna"
     ],
     "language": "python",
     "metadata": {},
     "outputs": [
      {
       "output_type": "stream",
       "stream": "stdout",
       "text": [
        "  195866 /Users/sarahgignoux-wolfsohn/Documents/SD1/SD1_otus_97/SD1_OTUs_97/rep_set.fna\r\n"
       ]
      }
     ],
     "prompt_number": 1
    },
    {
     "cell_type": "code",
     "collapsed": false,
     "input": [
      "!wc -l /Users/sarahgignoux-wolfsohn/Documents/SD1/SD1_otus_97/SD1_OTUs_97/step1_otus/step1_rep_set.fna"
     ],
     "language": "python",
     "metadata": {},
     "outputs": [
      {
       "output_type": "stream",
       "stream": "stdout",
       "text": [
        "   12928 /Users/sarahgignoux-wolfsohn/Documents/SD1/SD1_otus_97/SD1_OTUs_97/step1_otus/step1_rep_set.fna\r\n"
       ]
      }
     ],
     "prompt_number": 2
    },
    {
     "cell_type": "code",
     "collapsed": false,
     "input": [
      "!wc -l /Users/sarahgignoux-wolfsohn/Documents/SD1/SD1_otus_97/SD1_OTUs_97/step2_otus/step2_rep_set.fna"
     ],
     "language": "python",
     "metadata": {},
     "outputs": [
      {
       "output_type": "stream",
       "stream": "stdout",
       "text": [
        "  163920 /Users/sarahgignoux-wolfsohn/Documents/SD1/SD1_otus_97/SD1_OTUs_97/step2_otus/step2_rep_set.fna\r\n"
       ]
      }
     ],
     "prompt_number": 3
    },
    {
     "cell_type": "code",
     "collapsed": false,
     "input": [
      "!wc -l /Users/sarahgignoux-wolfsohn/Documents/SD1/SD1_otus_97/SD1_OTUs_97/step4_otus/step4_rep_set.fna "
     ],
     "language": "python",
     "metadata": {},
     "outputs": [
      {
       "output_type": "stream",
       "stream": "stdout",
       "text": [
        "   21876 /Users/sarahgignoux-wolfsohn/Documents/SD1/SD1_otus_97/SD1_OTUs_97/step4_otus/step4_rep_set.fna\r\n"
       ]
      }
     ],
     "prompt_number": 4
    },
    {
     "cell_type": "code",
     "collapsed": false,
     "input": [
      "!assign_taxonomy.py -i /Users/sarahgignoux-wolfsohn/Documents/SD1/SD1_otus_97/SD1_OTUs_97/rep_set.fna -r /Users/sarahgignoux-wolfsohn/Documents/gg/gg_13_8_otus/rep_set/97_otus.fasta -t /Users/sarahgignoux-wolfsohn/Documents/gg/gg_13_8_otus/taxonomy/97_otu_taxonomy.txt -o /Users/sarahgignoux-wolfsohn/Documents/SD1/SD1_otus_97/SD1_otus_97_tax -m blast"
     ],
     "language": "python",
     "metadata": {},
     "outputs": [],
     "prompt_number": 3
    },
    {
     "cell_type": "code",
     "collapsed": false,
     "input": [
      "!make_otu_table.py -i /Users/sarahgignoux-wolfsohn/Documents/SD1/SD1_otus_97/SD1_OTUs_97/final_otu_map.txt -o /Users/sarahgignoux-wolfsohn/Documents/SD1/SD1_otus_97/SD1_OTUs_97/SD1_otu_table_97.biom\n"
     ],
     "language": "python",
     "metadata": {},
     "outputs": [],
     "prompt_number": 42
    },
    {
     "cell_type": "code",
     "collapsed": false,
     "input": [
      "!print_biom_table_summary.py -i /Users/sarahgignoux-wolfsohn/Documents/SD1/SD1_otus_97/SD1_OTUs_97/SD1_otu_table_97.biom"
     ],
     "language": "python",
     "metadata": {},
     "outputs": [
      {
       "output_type": "stream",
       "stream": "stdout",
       "text": [
        "Num samples: 277\r\n",
        "Num observations: 97933\r\n",
        "Total count: 51481564.0\r\n",
        "Table density (fraction of non-zero values): 0.0327\r\n",
        "Table md5 (unzipped): a4db378aa7a650c74ca9185708f6f2b2\r\n",
        "\r\n",
        "Counts/sample summary:\r\n",
        " Min: 2586.0\r\n",
        " Max: 1744431.0\r\n",
        " Median: 103762.0\r\n",
        " Mean: 185854.021661\r\n",
        " Std. dev.: 231830.968159\r\n",
        " Sample Metadata Categories: None provided\r\n",
        " Observation Metadata Categories: None provided\r\n",
        "\r\n",
        "Counts/sample detail:\r\n",
        " SD1.CK14.D3: 2586.0\r\n",
        " SD1.CK14.D3.CK14.P.T10: 10040.0\r\n",
        " SD1.CK14H2.CK14.P.T10: 10061.0\r\n",
        " SD1.CK14.D3.CK14.B.T57.H: 10258.0\r\n",
        " SD1.CK4.D1.CK4.O.T37.D: 10318.0\r\n",
        " SD1.CK14.D1: 10428.0\r\n",
        " SD1.CK4H3.CK14.W: 10585.0\r\n",
        " SD1.CK4D1.CK14.G: 11831.0\r\n",
        " SD1.CK4.H3.CK4.B.T22.H: 11890.0\r\n",
        " SD1.CK14.H1.CK14.B.T37.H: 11919.0\r\n",
        " SD1.CK4H2.CK4.G: 12358.0\r\n",
        " SD1.CK14.D2: 12639.0\r\n",
        " SD1.CK4D1.CK4.G: 13150.0\r\n",
        " SD1.CK14D2.CK4.G: 13471.0\r\n",
        " neg: 13687.0\r\n",
        " SD1.CK14H2.CK14.W: 14037.0\r\n",
        " SD1.CK4D1.CK4.B: 14727.0\r\n",
        " SD1.CK14.H2.CK4.O.T57.H: 15027.0\r\n",
        " SD1.CK14H3.CK4.O: 15427.0\r\n",
        " SD1.CK14.H2.CK4.B.T57.H: 15686.0\r\n",
        " SD1.CK14.H3.CK14.B.T37.H: 15743.0\r\n",
        " SD1.CK14D3.CK14.W: 16261.0\r\n",
        " SD1.CK4.H2.CK14.B.T37.H: 16279.0\r\n",
        " SD1.CK14D3.CK14.O: 18144.0\r\n",
        " SD1.CK14.H2.CK4.G.T57.H: 19321.0\r\n",
        " SD1.CK4H2.CK4.G.T10: 19574.0\r\n",
        " SD1.CK14H1.CK4.G: 19810.0\r\n",
        " SD1.CK4D1.CK4.G.T10: 20403.0\r\n",
        " SD1.CK4.H2.CK14.G.T34.H: 20543.0\r\n",
        " SD1.CK14.H2.CK14.O.T57.H: 21529.0\r\n",
        " SD1.CK4D1.CK14.O: 21701.0\r\n",
        " SD1.CK14D2.CK14.B: 21989.0\r\n",
        " SD1.CK14D1.CK4.O: 22358.0\r\n",
        " STR8UP.NEG.CONTROL: 22983.0\r\n",
        " SD1.CK4.H2.CK4.G.T57.H: 23031.0\r\n",
        " SD1.CK14.D1.CK4.B.T57.H: 24100.0\r\n",
        " SD1.CK4H3.CK4.B: 24514.0\r\n",
        " SD1.CK4H1.CK4.O: 24646.0\r\n",
        " SD1.CK14H3.CK4.G: 24939.0\r\n",
        " SD1.CK14.H1.CK4.O.T57.H: 25187.0\r\n",
        " SD1.CK4H3.CK14.G: 25812.0\r\n",
        " SD1.CK4H2.CK14.O.T10: 27116.0\r\n",
        " SD1.CK4D2.CK4.G: 27228.0\r\n",
        " SD1.CK4D3.CK4.O: 27607.0\r\n",
        " SD1.CK4.D2.CK14.G.T10: 28207.0\r\n",
        " SD1.CK4H1.CK4.P.T10: 29175.0\r\n",
        " SD1.CK14.H3.CK14.G.T57.H: 29261.0\r\n",
        " SD1.CK4H2.CK4.P.T10: 30023.0\r\n",
        " SD1.CK14D1.CK4.W: 30507.0\r\n",
        " SD1.CK4D2.CK14.O: 30516.0\r\n",
        " SD1.CK14H1.CK14.P: 30683.0\r\n",
        " SD1.CK4D3.CK4.G: 30691.0\r\n",
        " SD1.CK14.H2.CK14.G.T57.H: 32992.0\r\n",
        " SD1.CK14D3.CK14.B: 34273.0\r\n",
        " SD1.CK4.D3.CK14.B.T10: 34804.0\r\n",
        " SD1.CK14D2.CK4.O: 35948.0\r\n",
        " SD1.CK4D1.CK4.B.T10: 38662.0\r\n",
        " SD1.CK14.H1.CK14.G.T57.H: 38728.0\r\n",
        " SD1.CK4H3.CK14.G.T10: 38871.0\r\n",
        " SD1.CK4H3.CK4.O: 38891.0\r\n",
        " SD1.CK14.H3.CK4.B.T57.H: 40700.0\r\n",
        " SD1.CK14.D1.CK14.G.T10: 40904.0\r\n",
        " SD1.CK14H2.CK4.O.T10: 41331.0\r\n",
        " SD1.CK4H2.CK4.B.T10: 41748.0\r\n",
        " SD1.CK4H3.CK14.B.T10: 41915.0\r\n",
        " SD1.CK4H2.CK4.W.T10: 42029.0\r\n",
        " SD1.CK14.D3.CK4.O.T57.H: 43258.0\r\n",
        " SD1.CK4.H2.CK14.B.T57.H: 43537.0\r\n",
        " SD1.CK4D3.CK14.O: 43872.0\r\n",
        " SD1.CK14H1.CK14.B: 45764.0\r\n",
        " SD1.CK14.D3.CK14.G.T57.D: 46488.0\r\n",
        " SD1.CK14H1.CK4.G.T10: 48139.0\r\n",
        " SD1.CK14H1.CK14.O.T10: 48536.0\r\n",
        " SD1.CK4D1.CK4.W: 49032.0\r\n",
        " SD1.CK4D1.CK4.O: 49246.0\r\n",
        " SD1.CK4H2.CK14.W.T10: 49498.0\r\n",
        " SD1.CK4H2.CK4.O: 50565.0\r\n",
        " SD1.CK4D1.CK14.W.T10: 50651.0\r\n",
        " SD1.CK4H3.CK14.O.T10: 50680.0\r\n",
        " SD1.CK4H1.CK14.B: 51791.0\r\n",
        " SD1.CK14D3.CK4.W: 52312.0\r\n",
        " SD1.CK14H2.CK14.G: 54224.0\r\n",
        " SD1.CK14H3.CK14.O: 54350.0\r\n",
        " SD1.CK4H1.CK14.W.T10: 54441.0\r\n",
        " SD1.CK14D3.CK4.G: 54592.0\r\n",
        " SD1.CK4.D3.CK14.O.T10: 54841.0\r\n",
        " SD1.CK14H3.CK14.P: 55146.0\r\n",
        " SD1.CK14D1.CK14.W: 55397.0\r\n",
        " SD1.CK4H3.CK4.G: 55893.0\r\n",
        " SD1.CK4H1.CK4.O.T10: 57241.0\r\n",
        " SD1.CK14.D1.CK4.O.T10: 59033.0\r\n",
        " SD1.CK14D1.CK4.G: 60414.0\r\n",
        " SD1.CK14H2.CK4.O: 60467.0\r\n",
        " SD1.CK14H1.CK4.B: 62669.0\r\n",
        " SD1.CK14.D1.CK4.W.T10: 62941.0\r\n",
        " SD1.CK14H2.CK14.G.T10: 62973.0\r\n",
        " SD1.CK14.H2.CK14.P.T57.H: 63165.0\r\n",
        " SD1.CK4.H1.CK14.G.T57.H: 63442.0\r\n",
        " SD1.CK14H1.CK4.P.T10: 64031.0\r\n",
        " SD1.CK14H3.CK14.B.T10: 65679.0\r\n",
        " SD1.CK4D1.CK14.B.T10: 66359.0\r\n",
        " SD1.CK14H1.CK4.O.T10: 70161.0\r\n",
        " SD1.CK4H2.CK4.O.T10: 71594.0\r\n",
        " SD1.CK14H2.CK14.B.T10: 72012.0\r\n",
        " SD1.CK4.H2: 72135.0\r\n",
        " SD1.CK4.H3: 73778.0\r\n",
        " SD1.CK14D2.CK14.O: 74594.0\r\n",
        " SD1.CK14H2.CK14.O.T10: 74645.0\r\n",
        " SD1.CK4H2.CK14.B.T10: 74754.0\r\n",
        " SD1.CK4.D2.CK14.O.T10: 74871.0\r\n",
        " SD1.CK4.D3.CK4.W.T10: 76469.0\r\n",
        " SD1.CK14D3.CK4.P: 76722.0\r\n",
        " SD1.CK4D2.CK4.P.T10: 77389.0\r\n",
        " SD1.CK4H2.CK4.P: 78243.0\r\n",
        " SD1.CK4.H2.CK4.W.T34.H: 79777.0\r\n",
        " SD1.CK14D2.CK14.G: 79851.0\r\n",
        " SD1.CK14.D1.CK14.W.T10: 79874.0\r\n",
        " SD1.CK4H1.CK14.B.T10: 80736.0\r\n",
        " SD1.CK4.H1.CK14.W.T34.H: 81857.0\r\n",
        " SD1.CK14.H1.CK14.W.T37.H: 82645.0\r\n",
        " SD1.CK14.D1.CK14.B.T37.D: 83141.0\r\n",
        " SD1.CK4D1.CK14.O.T10: 84050.0\r\n",
        " SD1.CK4.H3.CK4.P.T34.H: 85628.0\r\n",
        " SD1.CK4H1.CK14.G: 88227.0\r\n",
        " SD1.CK4.H2.CK14.W.T57.H: 89166.0\r\n",
        " SD1.CK14.H3.CK14.O.T57.H: 89646.0\r\n",
        " SD1.CK4.H2.CK14.P.T57.H: 89924.0\r\n",
        " SD1.CK4.H1.CK14.P.T57.H: 92124.0\r\n",
        " SD1.CK14.D1.CK4.B.T10: 92225.0\r\n",
        " SD1.CK4.D1.CK4.G.T57.D: 92837.0\r\n",
        " SD1.CK4H1.CK4.G: 93204.0\r\n",
        " SD1.CK14.H2.CK4.W.T57.H: 94798.0\r\n",
        " SD1.CK14.H3.CK4.P.T57.H: 100170.0\r\n",
        " SD1.CK14D1.CK4.B: 100279.0\r\n",
        " SD1.CK4.D3.CK14.W.T10: 102218.0\r\n",
        " SD1.CK14.H3.CK4.G.T57.H: 103163.0\r\n",
        " SD1.CK4D2.CK4.W: 103517.0\r\n",
        " SD1.CK14.H1: 103722.0\r\n",
        " SD1.CK14H3.CK4.B.T10: 103762.0\r\n",
        " SD1.CK14H2.CK4.W.T10: 104934.0\r\n",
        " SD1.CK14D2.CK4.W: 106154.0\r\n",
        " SD1.CK4H2.CK14.G: 106814.0\r\n",
        " SD1.CK14H1.CK14.G: 107500.0\r\n",
        " SD1.CK14.D2.CK4.B.T57.D: 108836.0\r\n",
        " SD1.CK14H3.CK14.O.T10: 109093.0\r\n",
        " SD1.CK4H3.CK4.O.T10: 109402.0\r\n",
        " SD1.CK14.D2.CK14.P.T10: 110376.0\r\n",
        " SD1.CK4.H3.CK4.W.T22.H: 110509.0\r\n",
        " SD1.CK14H3.CK4.P.T10: 111077.0\r\n",
        " SD1.CK14H1.CK4.W.T10: 112093.0\r\n",
        " SD1.CK14.D2.CK4.G.T10: 116878.0\r\n",
        " SD1.CK4.H3.CK14.G.T34.H: 119399.0\r\n",
        " SD1.CK4.D3: 119586.0\r\n",
        " SD1.CK14H3.CK14.G.T10: 120201.0\r\n",
        " SD1.CK4D2.CK4.O.T10: 126919.0\r\n",
        " SD1.CK14.D1.CK14.P.T57.H: 127317.0\r\n",
        " SD1.CK4H1.CK4.W: 127563.0\r\n",
        " SD1.CK4.H3.CK14.P.T34.H: 128225.0\r\n",
        " SD1.CK14H3.CK4.O.T10: 128734.0\r\n",
        " SD1.CK14H2.CK14.W.T10: 128901.0\r\n",
        " SD1.CK4D1.CK14.P.T10: 133589.0\r\n",
        " SD1.CK14H3.CK4.G.T10: 135107.0\r\n",
        " SD1.CK4.D3.CK4.G.T22.D: 140091.0\r\n",
        " SD1.CK4H3.CK14.P: 140503.0\r\n",
        " SD1.CK14.H3.CK14.P.T57.H: 140713.0\r\n",
        " SD1.CK4.D3.CK4.G.T10: 141552.0\r\n",
        " SD1.CK4.H1.CK4.G.T57.H: 142252.0\r\n",
        " SD1.CK4H1.CK14.P: 147554.0\r\n",
        " SD1.CK4D1.CK4.P: 149483.0\r\n",
        " SD1.CK4H1.CK14.P.T10: 151247.0\r\n",
        " SD1.CK14.D1.CK14.W.T37.D: 154873.0\r\n",
        " SD1.CK14.D2.CK4.W.T57.D: 154957.0\r\n",
        " SD1.CK4.H2.CK4.O.T37.H: 155356.0\r\n",
        " SD1.CK14.H3.CK4.O.T57.H: 155436.0\r\n",
        " SD1.CK14D1.CK14.B: 156367.0\r\n",
        " SD1.CK4H3.CK4.B.T10: 159055.0\r\n",
        " SD1.CK14H2.CK4.P: 161228.0\r\n",
        " SD1.CK14.D2.CK14.P.T57.H: 161880.0\r\n",
        " SD1.CK4D2.CK14.P: 162659.0\r\n",
        " SD1.CK14.D1.CK14.O.T57.H: 164637.0\r\n",
        " SD1.CK14D2.CK4.P: 166149.0\r\n",
        " SD1.CK4.D2.CK4.P.T34.D: 169172.0\r\n",
        " SD1.CK14D3.CK4.B: 172716.0\r\n",
        " SD1.CK4.D3.CK4.O.T10: 175978.0\r\n",
        " SD1.CK14.D1.CK4.G.T10: 176702.0\r\n",
        " SD1.CK4H2.CK4.W: 177593.0\r\n",
        " SD1.CK14H3.CK14.W.T10: 179336.0\r\n",
        " SD1.CK4.D1.CK14.G.T57.H: 179452.0\r\n",
        " SD1.CK4.H1: 179738.0\r\n",
        " SD1.CK14.D1.CK14.B.T10: 180419.0\r\n",
        " SD1.CK4H3.CK4.P.T10: 180529.0\r\n",
        " SD1.CK4.D2.CK4.O.T37.D: 182056.0\r\n",
        " SD1.CK14H1.CK14.G.T10: 184504.0\r\n",
        " SD1.CK4D2.CK4.W.T10: 186506.0\r\n",
        " SD1.CK4H1.CK14.G.T10: 188279.0\r\n",
        " SD1.CK4D2.CK4.B.T10: 189546.0\r\n",
        " SD1.CK14H2.CK14.P: 190937.0\r\n",
        " SD1.CK14.H1.CK4.P.T57.H: 197434.0\r\n",
        " SD1.CK4D1.CK4.P.T10: 200226.0\r\n",
        " SD1.CK14H2.CK4.W: 203258.0\r\n",
        " SD1.CK4.D2.CK14.B.T10: 211254.0\r\n",
        " SD1.CK4H3.CK4.P: 211318.0\r\n",
        " SD1.CK4D3.CK14.P: 214758.0\r\n",
        " SD1.CK4H1.CK14.O: 215233.0\r\n",
        " SD1.CK14H3.CK14.P.T10: 217631.0\r\n",
        " SD1.CK14H1.CK4.B.T10: 218887.0\r\n",
        " SD1.CK14.H3: 222846.0\r\n",
        " SD1.CK4H3.CK4.W.T10: 226348.0\r\n",
        " SD1.CK4H2.CK14.P.T10: 227443.0\r\n",
        " SD1.CK4H1.CK4.W.T10: 238441.0\r\n",
        " SD1.CK4D1.CK14.G.T10: 239186.0\r\n",
        " SD1.CK4D2.CK4.P: 239968.0\r\n",
        " SD1.CK14.H2: 241193.0\r\n",
        " SD1.CK14.D3.CK4.G.T10: 248694.0\r\n",
        " SD1.CK14H1.CK14.B.T10: 253223.0\r\n",
        " SD1.CK4H2.CK14.O: 260928.0\r\n",
        " SD1.CK4.D3.CK4.P.T34.D: 264396.0\r\n",
        " SD1.CK4D2.CK4.B: 266239.0\r\n",
        " SD1.CK14H3.CK4.B: 266286.0\r\n",
        " SD1.CK4D1.CK4.W.T10: 269942.0\r\n",
        " SD1.CK4D1.CK14.P: 280001.0\r\n",
        " SD1.CK14.H1.CK4.G.T57.H: 284061.0\r\n",
        " SD1.CK14H3.CK4.W: 285609.0\r\n",
        " SD1.CK14.D1.CK4.W.T57.D: 289171.0\r\n",
        " SD1.CK14.D1.CK14.O.T10: 292102.0\r\n",
        " SD1.CK4.D3.CK14.P.T10: 295610.0\r\n",
        " SD1.CK4.H3.CK4.O.T22.H: 299080.0\r\n",
        " SD1.CK14.H2.CK4.P.T57.H: 309155.0\r\n",
        " SD1.CK14H3.CK4.W.T10: 320218.0\r\n",
        " SD1.CK14.D3.CK4.P.T57.H: 324540.0\r\n",
        " SD1.CK14.D1.CK14.P.T10: 325268.0\r\n",
        " SD1.CK4D1.CK4.O.T10: 325497.0\r\n",
        " SD1.CK4.H2.CK14.O.T34.H: 326532.0\r\n",
        " SD1.CK4.D3.CK4.O.T22.D: 335127.0\r\n",
        " SD1.CK14H3.CK4.P: 352963.0\r\n",
        " SD1.CK14H2.CK4.P.T10: 355536.0\r\n",
        " SD1.CK14.H1.CK4.B.T57.H: 356718.0\r\n",
        " SD1.CK4H1.CK4.P: 363449.0\r\n",
        " SD1.CK14D2.CK14.P: 376619.0\r\n",
        " SD1.CK4H2.CK14.P: 383850.0\r\n",
        " SD1.CK14.D2.CK4.P.T10: 389417.0\r\n",
        " SD1.CK14.H3.CK4.W.T57.H: 389769.0\r\n",
        " SD1.CK4.D3.CK14.W.T22.D: 396162.0\r\n",
        " SD1.CK14.D1.CK14.G.T57.D: 396247.0\r\n",
        " SD1.CK14.D2.CK4.O.T10: 397709.0\r\n",
        " SD1.CK4.D3.CK4.B.T22.D: 423022.0\r\n",
        " SD1.CK4.D2.CK14.P.T10: 424782.0\r\n",
        " SD1.CK14.D3.CK14.P.T57.H: 436547.0\r\n",
        " SD1.CK14.D2.CK4.G.T57.D: 437310.0\r\n",
        " SD1.CK14.D1.CK4.P.T10: 446178.0\r\n",
        " SD1.CK14.H1.CK14.P.T57.H: 448185.0\r\n",
        " SD1.CK4.H2.CK4.P.T34.H: 461999.0\r\n",
        " SD1.CK14H1.CK14.P.T10: 483058.0\r\n",
        " SD1.CK14.D3.CK4.B.T10: 490063.0\r\n",
        " SD1.CK4.H1.CK4.B.T57.H: 504250.0\r\n",
        " SD1.CK4.H3.CK14.W.T22.H: 513915.0\r\n",
        " SD1.CK4H3.CK14.P.T10: 517557.0\r\n",
        " SD1.CK14.H1.CK4.W.T57.H: 524395.0\r\n",
        " SD1.CK4.D3.CK4.P.T10: 526900.0\r\n",
        " SD1.CK4.D2.CK4.B.T57.H: 573478.0\r\n",
        " SD1.CK14D1.CK14.P: 578169.0\r\n",
        " SD1.CK14D3.CK14.P: 618629.0\r\n",
        " SD1.CK14.D2.CK4.W.T57.H: 635235.0\r\n",
        " SD1.CK4H2.CK4.B: 663838.0\r\n",
        " SD1.CK14.D3.CK4.W.T57.H: 709980.0\r\n",
        " SD1.CK4.D2.CK14.W.T10: 728452.0\r\n",
        " SD1.CK4.D3.CK14.O.T34.D: 761031.0\r\n",
        " SD1.CK4.D3.CK14.P.T34.D: 769483.0\r\n",
        " SD1.CK14.D2.CK14.B.T37.D: 784990.0\r\n",
        " SD1.CK4.H3.CK14.B.T22.H: 821363.0\r\n",
        " SD1.CK14.D3.CK14.O.T57.H: 960505.0\r\n",
        " SD1.CK14.D2.CK14.O.T57.D: 961925.0\r\n",
        " SD1.CK4.D2: 1006076.0\r\n",
        " SD1.CK14D1.CK4.P: 1045267.0\r\n",
        " SD1.CK4.D1.CK14.W.T34.D: 1180094.0\r\n",
        " SD1.CK14.D2.CK4.P.T57.D: 1279876.0\r\n",
        " SD1.CK4.D1: 1744431.0\r\n"
       ]
      }
     ],
     "prompt_number": 38
    },
    {
     "cell_type": "code",
     "collapsed": false,
     "input": [
      "!convert_biom.py -b -i /Users/sarahgignoux-wolfsohn/Documents/SD1/SD1_otus_97/SD1_OTUs_97/SD1_otu_table2_97.biom -o /Users/sarahgignoux-wolfsohn/Documents/SD1/SD1_otus_97/SD1_OTUs_97/SD1_otu_table_97.biom"
     ],
     "language": "python",
     "metadata": {},
     "outputs": [],
     "prompt_number": 44
    },
    {
     "cell_type": "code",
     "collapsed": false,
     "input": [
      "!head /Users/sarahgignoux-wolfsohn/Documents/SD1/SD1_otus_97/SD1_otus_97_tax/rep_set_tax_assignments.log"
     ],
     "language": "python",
     "metadata": {},
     "outputs": [
      {
       "output_type": "stream",
       "stream": "stdout",
       "text": [
        "BlastTaxonAssigner parameters:\r\n",
        "Application:blastn/megablast\r\n",
        "Max E value:0.001\r\n",
        "Min percent identity:90.0\r\n",
        "id_to_taxonomy_filepath:/Users/sarahgignoux-wolfsohn/Documents/gg/gg_13_8_otus/taxonomy/97_otu_taxonomy.txt\r\n",
        "reference_seqs_filepath:/Users/sarahgignoux-wolfsohn/Documents/gg/gg_13_8_otus/rep_set/97_otus.fasta\r\n",
        "Number of sequences inspected: 97933\r\n",
        "Number with no blast hits: 7750\r\n",
        "Result path: \"/tmp/assign-taxIt1NTuHQRomvDAcEhRYc.txt\"\r\n"
       ]
      }
     ],
     "prompt_number": 45
    },
    {
     "cell_type": "code",
     "collapsed": false,
     "input": [
      "!identify_chimeric_seqs.py -n 6 -m ChimeraSlayer -i /Users/sarahgignoux-wolfsohn/Documents/SD1/SD1_otus_97/SD1_OTUs_97/pynast_aligned_seqs/rep_set_aligned.fasta -a /Users/sarahgignoux-wolfsohn/Documents/gg/gg_13_8_otus/rep_set_aligned/97_otus.fasta -o /Users/sarahgignoux-wolfsohn/Documents/SD1/SD1_otus_97/SD1_OTUs_97/chimeric_seqs.txt"
     ],
     "language": "python",
     "metadata": {},
     "outputs": [],
     "prompt_number": 7
    },
    {
     "cell_type": "code",
     "collapsed": false,
     "input": [
      "!head /Users/sarahgignoux-wolfsohn/Documents/SD1/SD1_otus_97/SD1_OTUs_97/chimeric_seqs.txt"
     ],
     "language": "python",
     "metadata": {},
     "outputs": [],
     "prompt_number": 8
    },
    {
     "cell_type": "code",
     "collapsed": false,
     "input": [
      "#empty output.  the aligned sequences must not have any chimeric sequences in them, maybe we should use the otu table without the pynast failures?"
     ],
     "language": "python",
     "metadata": {},
     "outputs": [],
     "prompt_number": 9
    },
    {
     "cell_type": "code",
     "collapsed": false,
     "input": [
      "!exclude_seqs_by_blast.py -i /Users/sarahgignoux-wolfsohn/Documents/SD1/SD1_otus_97/SD1_OTUs_97/rep_set.fna -d /Users/sarahgignoux-wolfsohn/Documents/SD1/SD1_otus_97/SD1_OTUs_97/zoox_sequences.fasta -o /Users/sarahgignoux-wolfsohn/Documents/SD1/SD1_otus_97/SD1_OTUs_97/zoox_contaminants"
     ],
     "language": "python",
     "metadata": {},
     "outputs": [],
     "prompt_number": 15
    },
    {
     "cell_type": "code",
     "collapsed": false,
     "input": [
      "#hit the uncultured dinoflagellate, but not the symbiodinium.  "
     ],
     "language": "python",
     "metadata": {},
     "outputs": []
    },
    {
     "cell_type": "code",
     "collapsed": false,
     "input": [
      "!exclude_seqs_by_blast.py -i /Users/sarahgignoux-wolfsohn/Documents/SD1/SD1_otus_97/SD1_OTUs_97/rep_set.fna -d /Users/sarahgignoux-wolfsohn/Documents/SD1/SD1_otus_97/SD1_OTUs_97/symbiodinium.txt -o /Users/sarahgignoux-wolfsohn/Documents/SD1/SD1_otus_97/SD1_OTUs_97/symbiodinium_contaminants"
     ],
     "language": "python",
     "metadata": {},
     "outputs": [],
     "prompt_number": 16
    },
    {
     "cell_type": "code",
     "collapsed": false,
     "input": [
      "!cut -d' ' -f1 /Users/sarahgignoux-wolfsohn/Documents/SD1/SD1_otus_97/SD1_OTUs_97/zoox_contaminants/matching.fna > /Users/sarahgignoux-wolfsohn/Documents/SD1/SD1_otus_97/SD1_OTUs_97/zoox_contaminants/zoox_contaminants_matching.csv"
     ],
     "language": "python",
     "metadata": {},
     "outputs": [],
     "prompt_number": 35
    },
    {
     "cell_type": "code",
     "collapsed": false,
     "input": [
      "!head /Users/sarahgignoux-wolfsohn/Documents/SD1/SD1_otus_97/SD1_OTUs_97/zoox_contaminants/zoox_contaminants_matching.csv"
     ],
     "language": "python",
     "metadata": {},
     "outputs": [
      {
       "output_type": "stream",
       "stream": "stdout",
       "text": [
        ">1000148\r\n",
        "CTACGCGAAGAACCTTACCCACCTTTGACATGGTCGGAACCCTGCAGAGACGCAGGGGTGCCCGAAAGGGAGCCGACACACAGGTGCTGCATGGCTGTCGTCAGCTCGTGTCGT\r\n",
        ">1002009\r\n",
        "CTACGCGAAGAACCTTACCAGGCCTTGACATCCCGATCGCGGTTTAGAGAAATCTTTACCTTCAGTTTGGCTGGATCGGTGACAGGTGCTGCATGGCTGTCGTCAGCTCGTGTCGT\r\n",
        ">100208\r\n",
        "CTACGCGAAGAACCTTACCTACCCTTGACATGTCAGGAATCCTGGAGAGATCTGGGAGTGCCCGAAAGGGAGCCTGAACACAGGTGCTGCATGGCTGTCGTCAGCTCGTGTTGT\r\n",
        ">1002348\r\n",
        "CAACGCGAAGAACCTTACCTACCCTTGACATACTTGTCGCGATTACCAGAGATGGTTTTCTTCAGTTTGGCTGGACGATGTACAGGTGCTGCATGGCTGTCGTCAGCTCGTGTCGT\r\n",
        ">100404\r\n",
        "CAACGCGAGGAACCTTACCAACCCTTGACATCCTAGGACCGCCAGAGAGATCTGGTTTTCACTTCGGTGACCTAGTGACAGGTGCTGCATGGCTGTCGTCAGCTCGTGTCGT\r\n"
       ]
      }
     ],
     "prompt_number": 36
    },
    {
     "cell_type": "code",
     "collapsed": false,
     "input": [
      "!cut -d'C' -f1 /Users/sarahgignoux-wolfsohn/Documents/SD1/SD1_otus_97/SD1_OTUs_97/zoox_contaminants/zoox_contaminants_matching.csv > /Users/sarahgignoux-wolfsohn/Documents/SD1/SD1_otus_97/SD1_OTUs_97/zoox_contaminants/zoox_contaminants_matching2.csv"
     ],
     "language": "python",
     "metadata": {},
     "outputs": [],
     "prompt_number": 37
    },
    {
     "cell_type": "code",
     "collapsed": false,
     "input": [
      "!head /Users/sarahgignoux-wolfsohn/Documents/SD1/SD1_otus_97/SD1_OTUs_97/zoox_contaminants/zoox_contaminants_matching2.csv"
     ],
     "language": "python",
     "metadata": {},
     "outputs": [
      {
       "output_type": "stream",
       "stream": "stdout",
       "text": [
        ">1000148\r\n",
        "\r\n",
        ">1002009\r\n",
        "\r\n",
        ">100208\r\n",
        "\r\n",
        ">1002348\r\n",
        "\r\n",
        ">100404\r\n",
        "\r\n"
       ]
      }
     ],
     "prompt_number": 38
    },
    {
     "cell_type": "code",
     "collapsed": false,
     "input": [
      "!sed 's/>//g' /Users/sarahgignoux-wolfsohn/Documents/SD1/SD1_otus_97/SD1_OTUs_97/zoox_contaminants/zoox_contaminants_matching2.csv > /Users/sarahgignoux-wolfsohn/Documents/SD1/SD1_otus_97/SD1_OTUs_97/zoox_contaminants/zoox_contaminants_matching3.csv\n"
     ],
     "language": "python",
     "metadata": {},
     "outputs": [],
     "prompt_number": 39
    },
    {
     "cell_type": "code",
     "collapsed": false,
     "input": [
      "!head /Users/sarahgignoux-wolfsohn/Documents/SD1/SD1_otus_97/SD1_OTUs_97/zoox_contaminants/zoox_contaminants_matching3.csv"
     ],
     "language": "python",
     "metadata": {},
     "outputs": [
      {
       "output_type": "stream",
       "stream": "stdout",
       "text": [
        "1000148\r\n",
        "\r\n",
        "1002009\r\n",
        "\r\n",
        "100208\r\n",
        "\r\n",
        "1002348\r\n",
        "\r\n",
        "100404\r\n",
        "\r\n"
       ]
      }
     ],
     "prompt_number": 40
    },
    {
     "cell_type": "code",
     "collapsed": false,
     "input": [
      "!assign_taxonomy.py -i /Users/sarahgignoux-wolfsohn/Documents/SD1/SD1_otus_97/SD1_OTUs_97/rep_set.fna -o /Users/sarahgignoux-wolfsohn/Documents/SD1/SD1_otus_97/SD1_otus_97_tax/SD1_otus_97_silva -t /Users/sarahgignoux-wolfsohn/Documents/gg/silva/silva_104/Silva_taxa_mapping_104set_97_otus.txt -r /Users/sarahgignoux-wolfsohn/Documents/gg/silva/silva_104/silva_104_rep_set.fasta -m blast"
     ],
     "language": "python",
     "metadata": {},
     "outputs": [],
     "prompt_number": 48
    },
    {
     "cell_type": "code",
     "collapsed": false,
     "input": [
      "!usearch -uchime_ref /Users/sarahgignoux-wolfsohn/Documents/SD1/SD1_otus_97/SD1_OTUs_97/rep_set.fna -db /Users/sarahgignoux-wolfsohn/Documents/SD1/SD1_otus_97/SD1_otus_97_tax/chimera_ref.fa -uchimeout /Users/sarahgignoux-wolfsohn/Documents/SD1/SD1_otus_97/SD1_otus_97_tax/uchime_out -strand plus -chimeras uchime_chimeras"
     ],
     "language": "python",
     "metadata": {},
     "outputs": [
      {
       "output_type": "stream",
       "stream": "stdout",
       "text": [
        "usearch_i86osx32 v6.0.307, 4.0Gb RAM (4.3Gb total), 4 cores\r\n",
        "(C) Copyright 2010-12 Robert C. Edgar, all rights reserved.\r\n",
        "http://drive5.com/usearch\r\n",
        "\r\n",
        "Licensed to: gw.sarah@gmail.com\r\n",
        "\r\n",
        "00:00 942.1kb Reading /Users/sarahgignoux-wolfsohn/Documents/SD1/SD1_otus_97/SD1_OTUs_97/rep_set.fna"
       ]
      },
      {
       "output_type": "stream",
       "stream": "stdout",
       "text": [
        ", 21Mb\r\n"
       ]
      },
      {
       "output_type": "stream",
       "stream": "stdout",
       "text": [
        "00:00  22Mb 97933 (97.9k) seqs"
       ]
      },
      {
       "output_type": "stream",
       "stream": "stdout",
       "text": [
        ", min 10, avg 112, max 280nt\r\n",
        "00:00  23Mb Reading /Users/sarahgignoux-wolfsohn/Documents/SD1/SD1_otus_97/SD1_otus_97_tax/chimera_ref.fa"
       ]
      },
      {
       "output_type": "stream",
       "stream": "stdout",
       "text": [
        ", 30Mb\r\n",
        "00:00  53Mb 20098 (20.1k) seqs"
       ]
      },
      {
       "output_type": "stream",
       "stream": "stdout",
       "text": [
        ", min 320, avg 1443, max 2210nt\r\n",
        "00:00  53Mb    0.0% Masking\r"
       ]
      },
      {
       "output_type": "stream",
       "stream": "stdout",
       "text": [
        "00:01  53Mb   20.0% Masking\r"
       ]
      },
      {
       "output_type": "stream",
       "stream": "stdout",
       "text": [
        "00:01  53Mb  100.0% Masking\r",
        "\r\n",
        "00:01  53Mb    0.0% Word stats\r"
       ]
      },
      {
       "output_type": "stream",
       "stream": "stdout",
       "text": [
        "00:02  53Mb   53.2% Word stats\r"
       ]
      },
      {
       "output_type": "stream",
       "stream": "stdout",
       "text": [
        "00:02  53Mb  100.0% Word stats\r",
        "\r\n"
       ]
      },
      {
       "output_type": "stream",
       "stream": "stdout",
       "text": [
        "00:02 129Mb    0.0% Build index\r"
       ]
      },
      {
       "output_type": "stream",
       "stream": "stdout",
       "text": [
        "00:03 152Mb   46.3% Build index\r"
       ]
      },
      {
       "output_type": "stream",
       "stream": "stdout",
       "text": [
        "00:03 173Mb  100.0% Build index\r",
        "\r\n",
        "00:03 174Mb    0.0% Search 0/1 chimeras found (0.0%)\r"
       ]
      },
      {
       "output_type": "stream",
       "stream": "stdout",
       "text": [
        "00:04 179Mb    0.5% Search 1/537 chimeras found (0.2%)\r"
       ]
      },
      {
       "output_type": "stream",
       "stream": "stdout",
       "text": [
        "00:05 185Mb    1.9% Search 8/1837 chimeras found (0.4%)\r"
       ]
      },
      {
       "output_type": "stream",
       "stream": "stdout",
       "text": [
        "00:06 191Mb    3.3% Search 12/3205 chimeras found (0.4%)\r"
       ]
      },
      {
       "output_type": "stream",
       "stream": "stdout",
       "text": [
        "00:07 197Mb    4.7% Search 15/4569 chimeras found (0.3%)\r"
       ]
      },
      {
       "output_type": "stream",
       "stream": "stdout",
       "text": [
        "00:08 203Mb    6.3% Search 18/6129 chimeras found (0.3%)\r"
       ]
      },
      {
       "output_type": "stream",
       "stream": "stdout",
       "text": [
        "00:09 208Mb    7.4% Search 30/7213 chimeras found (0.4%)\r"
       ]
      },
      {
       "output_type": "stream",
       "stream": "stdout",
       "text": [
        "00:10 214Mb    8.5% Search 67/8329 chimeras found (0.8%)\r"
       ]
      },
      {
       "output_type": "stream",
       "stream": "stdout",
       "text": [
        "00:11 220Mb    9.4% Search 93/9245 chimeras found (1.0%)\r"
       ]
      },
      {
       "output_type": "stream",
       "stream": "stdout",
       "text": [
        "00:12 224Mb   10.2% Search 128/10025 chimeras found (1.3%)\r"
       ]
      },
      {
       "output_type": "stream",
       "stream": "stdout",
       "text": [
        "00:13 229Mb   11.2% Search 154/10961 chimeras found (1.4%)\r"
       ]
      },
      {
       "output_type": "stream",
       "stream": "stdout",
       "text": [
        "00:14 234Mb   12.2% Search 183/11913 chimeras found (1.5%)\r"
       ]
      },
      {
       "output_type": "stream",
       "stream": "stdout",
       "text": [
        "00:15 238Mb   13.1% Search 214/12801 chimeras found (1.7%)\r"
       ]
      },
      {
       "output_type": "stream",
       "stream": "stdout",
       "text": [
        "00:16 243Mb   14.0% Search 239/13725 chimeras found (1.7%)\r"
       ]
      },
      {
       "output_type": "stream",
       "stream": "stdout",
       "text": [
        "00:17 247Mb   14.7% Search 272/14441 chimeras found (1.9%)\r"
       ]
      },
      {
       "output_type": "stream",
       "stream": "stdout",
       "text": [
        "00:18 251Mb   15.6% Search 2"
       ]
      },
      {
       "output_type": "stream",
       "stream": "stdout",
       "text": [
        "96/15257 chimeras found (1.9%)\r"
       ]
      },
      {
       "output_type": "stream",
       "stream": "stdout",
       "text": [
        "00:19 255Mb   16.4% Search 324/16097 chimeras found (2.0%)\r"
       ]
      },
      {
       "output_type": "stream",
       "stream": "stdout",
       "text": [
        "00:20 262Mb   17.2% Search 355/16877 chimeras found (2.1%)\r"
       ]
      },
      {
       "output_type": "stream",
       "stream": "stdout",
       "text": [
        "00:21 266Mb   18.2% Search 380/17805 chimeras found (2.1%)\r"
       ]
      },
      {
       "output_type": "stream",
       "stream": "stdout",
       "text": [
        "00:22 270Mb   19.1% Search 405/18737 chimeras found (2.2%)\r"
       ]
      },
      {
       "output_type": "stream",
       "stream": "stdout",
       "text": [
        "00:23 274Mb   19.9% Search 431/19533 chimeras found (2.2%)\r"
       ]
      },
      {
       "output_type": "stream",
       "stream": "stdout",
       "text": [
        "00:24 279Mb   21.0% Search 463/20545 chimeras found (2.3%)\r"
       ]
      },
      {
       "output_type": "stream",
       "stream": "stdout",
       "text": [
        "00:25 283Mb   22.0% Search 490/21517 chimeras found (2.3%)\r"
       ]
      },
      {
       "output_type": "stream",
       "stream": "stdout",
       "text": [
        "00:26 287Mb   23.0% Search 525/22509 chimeras found (2.3%)\r"
       ]
      },
      {
       "output_type": "stream",
       "stream": "stdout",
       "text": [
        "00:27 291Mb   23.8% Search 548/23333 chimeras found (2.3%)\r"
       ]
      },
      {
       "output_type": "stream",
       "stream": "stdout",
       "text": [
        "00:28 295Mb   24.6% Search 575/24129 chimeras found (2.4%)\r"
       ]
      },
      {
       "output_type": "stream",
       "stream": "stdout",
       "text": [
        "00:29 299Mb   25.7% Search 611/25185 chimeras found (2.4%)\r"
       ]
      },
      {
       "output_type": "stream",
       "stream": "stdout",
       "text": [
        "00:30 304Mb   26.5% Search 628/25917 chimeras found (2.4%)\r"
       ]
      },
      {
       "output_type": "stream",
       "stream": "stdout",
       "text": [
        "00:31 308Mb   27.4% Search 651/26881 chimeras found (2.4%)\r"
       ]
      },
      {
       "output_type": "stream",
       "stream": "stdout",
       "text": [
        "00:32 312Mb   28.3% Search 685/27737 chimeras found (2.5%)\r"
       ]
      },
      {
       "output_type": "stream",
       "stream": "stdout",
       "text": [
        "00:33 317Mb   29.4% Search 709/28745 chimeras found (2.5%)\r"
       ]
      },
      {
       "output_type": "stream",
       "stream": "stdout",
       "text": [
        "00:34 321Mb   30.2% Search 741/29541 chimeras found (2.5%)\r"
       ]
      },
      {
       "output_type": "stream",
       "stream": "stdout",
       "text": [
        "00:35 326Mb   31.1% Search 775/30449 chimeras found (2.5%)\r"
       ]
      },
      {
       "output_type": "stream",
       "stream": "stdout",
       "text": [
        "00:36 330Mb   31.9% Search 805/31197 chimeras found (2.6%)\r"
       ]
      },
      {
       "output_type": "stream",
       "stream": "stdout",
       "text": [
        "00:37 334Mb   32.7% Search 832/32017 chimeras found (2.6%)\r"
       ]
      },
      {
       "output_type": "stream",
       "stream": "stdout",
       "text": [
        "00:38 338Mb   33.5% Search 861/32805 chimeras found (2.6%)\r"
       ]
      },
      {
       "output_type": "stream",
       "stream": "stdout",
       "text": [
        "00:39 342Mb   34.4% Search 884/33713 chimeras found (2.6%)\r"
       ]
      },
      {
       "output_type": "stream",
       "stream": "stdout",
       "text": [
        "00:40 346Mb   35.3% Search 914/34565 chimeras found (2.6%)\r"
       ]
      },
      {
       "output_type": "stream",
       "stream": "stdout",
       "text": [
        "00:41 351Mb   36.3% Search 943/35549 chimeras found (2.7%)\r"
       ]
      },
      {
       "output_type": "stream",
       "stream": "stdout",
       "text": [
        "00:42 355Mb   37.2% Search 96"
       ]
      },
      {
       "output_type": "stream",
       "stream": "stdout",
       "text": [
        "9/36437 chimeras found (2.7%)\r"
       ]
      },
      {
       "output_type": "stream",
       "stream": "stdout",
       "text": [
        "00:43 359Mb   38.1% Search 989/37277 chimeras found (2.7%)\r"
       ]
      },
      {
       "output_type": "stream",
       "stream": "stdout",
       "text": [
        "00:44 363Mb   38.9% Search 1018/38117 chimeras found (2.7%)\r"
       ]
      },
      {
       "output_type": "stream",
       "stream": "stdout",
       "text": [
        "00:45 367Mb   39.9% Search 1041/39077 chimeras found (2.7%)\r"
       ]
      },
      {
       "output_type": "stream",
       "stream": "stdout",
       "text": [
        "00:46 372Mb   40.9% Search 1068/40021 chimeras found (2.7%)\r"
       ]
      },
      {
       "output_type": "stream",
       "stream": "stdout",
       "text": [
        "00:47 376Mb   41.9% Search 1098/40993 chimeras found (2.7%)\r"
       ]
      },
      {
       "output_type": "stream",
       "stream": "stdout",
       "text": [
        "00:48 380Mb   42.7% Search 1127/41773 chimeras found (2.7%)\r"
       ]
      },
      {
       "output_type": "stream",
       "stream": "stdout",
       "text": [
        "00:49 385Mb   43.6% Search 1153/42713 chimeras found (2.7%)\r"
       ]
      },
      {
       "output_type": "stream",
       "stream": "stdout",
       "text": [
        "00:50 389Mb   44.5% Search 1181/43625 chimeras found (2.7%)\r"
       ]
      },
      {
       "output_type": "stream",
       "stream": "stdout",
       "text": [
        "00:51 394Mb   45.4% Search 1212/44509 chimeras found (2.7%)\r"
       ]
      },
      {
       "output_type": "stream",
       "stream": "stdout",
       "text": [
        "00:52 398Mb   46.2% Search 1231/45269 chimeras found (2.7%)\r"
       ]
      },
      {
       "output_type": "stream",
       "stream": "stdout",
       "text": [
        "00:53 401Mb   46.9% Search 1248/45957 chimeras found (2.7%)\r"
       ]
      },
      {
       "output_type": "stream",
       "stream": "stdout",
       "text": [
        "00:54 405Mb   47.7% Search 1263/46701 chimeras found (2.7%)\r"
       ]
      },
      {
       "output_type": "stream",
       "stream": "stdout",
       "text": [
        "00:55 407Mb   48.2% Search 1284/47221 chimeras found (2.7%)\r"
       ]
      },
      {
       "output_type": "stream",
       "stream": "stdout",
       "text": [
        "00:56 410Mb   48.9% Search 1304/47861 chimeras found (2.7%)\r"
       ]
      },
      {
       "output_type": "stream",
       "stream": "stdout",
       "text": [
        "00:57 413Mb   49.5% Search 1318/48493 chimeras found (2.7%)\r"
       ]
      },
      {
       "output_type": "stream",
       "stream": "stdout",
       "text": [
        "00:58 416Mb   50.2% Search 1343/49189 chimeras found (2.7%)\r"
       ]
      },
      {
       "output_type": "stream",
       "stream": "stdout",
       "text": [
        "00:59 419Mb   50.8% Search 1362/49737 chimeras found (2.7%)\r"
       ]
      },
      {
       "output_type": "stream",
       "stream": "stdout",
       "text": [
        "01:00 422Mb   51.4% Search 1383/50341 chimeras found (2.7%)\r"
       ]
      },
      {
       "output_type": "stream",
       "stream": "stdout",
       "text": [
        "01:01 425Mb   51.9% Search 1396/50869 chimeras found (2.7%)\r"
       ]
      },
      {
       "output_type": "stream",
       "stream": "stdout",
       "text": [
        "01:02 428Mb   52.7% Search 1412/51613 chimeras found (2.7%)\r"
       ]
      },
      {
       "output_type": "stream",
       "stream": "stdout",
       "text": [
        "01:03 432Mb   53.2% Search 1433/52137 chimeras found (2.7%)\r"
       ]
      },
      {
       "output_type": "stream",
       "stream": "stdout",
       "text": [
        "01:04 435Mb   54.0% Search 1448/52841 chimeras found (2.7%)\r"
       ]
      },
      {
       "output_type": "stream",
       "stream": "stdout",
       "text": [
        "01:05 438Mb   54.6% Search 1486/53489 chimeras found (2.8%)\r"
       ]
      },
      {
       "output_type": "stream",
       "stream": "stdout",
       "text": [
        "01:06 441Mb   55.3% Search 1505/54177 chimeras found (2.8%)\r"
       ]
      },
      {
       "output_type": "stream",
       "stream": "stdout",
       "text": [
        "01:07 444Mb   55.9% Search 1531/54777 chimeras found (2.8%)\r"
       ]
      },
      {
       "output_type": "stream",
       "stream": "stdout",
       "text": [
        "01:08 448Mb   56.5% Search 1554/55337 chimeras found (2.8%)\r"
       ]
      },
      {
       "output_type": "stream",
       "stream": "stdout",
       "text": [
        "01:09 452Mb   57.3% Search 1580/56077 chimeras found (2.8%)\r"
       ]
      },
      {
       "output_type": "stream",
       "stream": "stdout",
       "text": [
        "01:10 455Mb   58.2% Search 1595/56989 chimeras found (2.8%)\r"
       ]
      },
      {
       "output_type": "stream",
       "stream": "stdout",
       "text": [
        "01:11 459Mb   59.0% Search "
       ]
      },
      {
       "output_type": "stream",
       "stream": "stdout",
       "text": [
        "1617/57773 chimeras found (2.8%)\r"
       ]
      },
      {
       "output_type": "stream",
       "stream": "stdout",
       "text": [
        "01:12 462Mb   59.7% Search 1637/58461 chimeras found (2.8%)\r"
       ]
      },
      {
       "output_type": "stream",
       "stream": "stdout",
       "text": [
        "01:13 466Mb   60.5% Search 1663/59205 chimeras found (2.8%)\r"
       ]
      },
      {
       "output_type": "stream",
       "stream": "stdout",
       "text": [
        "01:14 470Mb   61.3% Search 1697/60057 chimeras found (2.8%)\r"
       ]
      },
      {
       "output_type": "stream",
       "stream": "stdout",
       "text": [
        "01:15 474Mb   62.0% Search 1724/60761 chimeras found (2.8%)\r"
       ]
      },
      {
       "output_type": "stream",
       "stream": "stdout",
       "text": [
        "01:16 478Mb   62.9% Search 1737/61565 chimeras found (2.8%)\r"
       ]
      },
      {
       "output_type": "stream",
       "stream": "stdout",
       "text": [
        "01:17 481Mb   63.6% Search 1764/62317 chimeras found (2.8%)\r"
       ]
      },
      {
       "output_type": "stream",
       "stream": "stdout",
       "text": [
        "01:18 486Mb   64.6% Search 1785/63233 chimeras found (2.8%)\r"
       ]
      },
      {
       "output_type": "stream",
       "stream": "stdout",
       "text": [
        "01:19 490Mb   65.4% Search 1815/64085 chimeras found (2.8%)\r"
       ]
      },
      {
       "output_type": "stream",
       "stream": "stdout",
       "text": [
        "01:20 494Mb   66.2% Search 1840/64825 chimeras found (2.8%)\r"
       ]
      },
      {
       "output_type": "stream",
       "stream": "stdout",
       "text": [
        "01:21 497Mb   66.9% Search 1855/65533 chimeras found (2.8%)\r"
       ]
      },
      {
       "output_type": "stream",
       "stream": "stdout",
       "text": [
        "01:22 500Mb   67.7% Search 1883/66293 chimeras found (2.8%)\r"
       ]
      },
      {
       "output_type": "stream",
       "stream": "stdout",
       "text": [
        "01:23 504Mb   68.4% Search 1894/66961 chimeras found (2.8%)\r"
       ]
      },
      {
       "output_type": "stream",
       "stream": "stdout",
       "text": [
        "01:24 507Mb   69.0% Search 1910/67613 chimeras found (2.8%)\r"
       ]
      },
      {
       "output_type": "stream",
       "stream": "stdout",
       "text": [
        "01:25 511Mb   69.6% Search 1933/68133 chimeras found (2.8%)\r"
       ]
      },
      {
       "output_type": "stream",
       "stream": "stdout",
       "text": [
        "01:26 514Mb   70.2% Search 1956/68729 chimeras found (2.8%)\r"
       ]
      },
      {
       "output_type": "stream",
       "stream": "stdout",
       "text": [
        "01:27 518Mb   70.8% Search 1977/69365 chimeras found (2.9%)\r"
       ]
      },
      {
       "output_type": "stream",
       "stream": "stdout",
       "text": [
        "01:28 522Mb   71.6% Search 1991/70085 chimeras found (2.8%)\r"
       ]
      },
      {
       "output_type": "stream",
       "stream": "stdout",
       "text": [
        "01:29 525Mb   72.3% Search 2009/70833 chimeras found (2.8%)\r"
       ]
      },
      {
       "output_type": "stream",
       "stream": "stdout",
       "text": [
        "0"
       ]
      },
      {
       "output_type": "stream",
       "stream": "stdout",
       "text": [
        "1:30 529Mb   73.1% Search 2034/71545 chimeras found (2.8%)\r"
       ]
      },
      {
       "output_type": "stream",
       "stream": "stdout",
       "text": [
        "01:31 532Mb   73.7% Search 2056/72225 chimeras found (2.8%)\r"
       ]
      },
      {
       "output_type": "stream",
       "stream": "stdout",
       "text": [
        "01:32 535Mb   74.2% Search 2079/72705 chimeras found (2.9%)\r"
       ]
      },
      {
       "output_type": "stream",
       "stream": "stdout",
       "text": [
        "01:33 538Mb   75.0% Search 2098/73417 chimeras found (2.9%)\r"
       ]
      },
      {
       "output_type": "stream",
       "stream": "stdout",
       "text": [
        "01:34 541Mb   75.6% Search 2122/74025 chimeras found (2.9%)\r"
       ]
      },
      {
       "output_type": "stream",
       "stream": "stdout",
       "text": [
        "01:35 545Mb   76.4% Search 2140/74785 chimeras found (2.9%)\r"
       ]
      },
      {
       "output_type": "stream",
       "stream": "stdout",
       "text": [
        "01:36 548Mb   77.0% Search 2155/75377 chimeras found (2.9%)\r"
       ]
      },
      {
       "output_type": "stream",
       "stream": "stdout",
       "text": [
        "01:37 551Mb   77.7% Search 2177/76081 chimeras found (2.9%)\r"
       ]
      },
      {
       "output_type": "stream",
       "stream": "stdout",
       "text": [
        "01:38 554Mb   78.4% Search 219"
       ]
      },
      {
       "output_type": "stream",
       "stream": "stdout",
       "text": [
        "7/76777 chimeras found (2.9%)\r"
       ]
      },
      {
       "output_type": "stream",
       "stream": "stdout",
       "text": [
        "01:39 557Mb   79.1% Search 2215/77425 chimeras found (2.9%)\r"
       ]
      },
      {
       "output_type": "stream",
       "stream": "stdout",
       "text": [
        "01:40 561Mb   79.7% Search 2235/78025 chimeras found (2.9%)\r"
       ]
      },
      {
       "output_type": "stream",
       "stream": "stdout",
       "text": [
        "01:41 563Mb   80.2% Search 2259/78577 chimeras found (2.9%)\r"
       ]
      },
      {
       "output_type": "stream",
       "stream": "stdout",
       "text": [
        "01:42 566Mb   80.8% Search 2280/79133 chimeras found (2.9%)\r"
       ]
      },
      {
       "output_type": "stream",
       "stream": "stdout",
       "text": [
        "01:43 569Mb   81.4% Search 2298/79733 chimeras found (2.9%)\r"
       ]
      },
      {
       "output_type": "stream",
       "stream": "stdout",
       "text": [
        "01:44 572Mb   82.1% Search 2327/80401 chimeras found (2.9%)\r"
       ]
      },
      {
       "output_type": "stream",
       "stream": "stdout",
       "text": [
        "01:45 575Mb   82.8% Search 2351/81085 chimeras found (2.9%)\r"
       ]
      },
      {
       "output_type": "stream",
       "stream": "stdout",
       "text": [
        "01:46 579Mb   83.6% Search 2374/81885 chimeras found (2.9%)\r"
       ]
      },
      {
       "output_type": "stream",
       "stream": "stdout",
       "text": [
        "01:47 582Mb   84.1% Search 2397/82393 chimeras found (2.9%)\r"
       ]
      },
      {
       "output_type": "stream",
       "stream": "stdout",
       "text": [
        "01:48 585Mb   84.8% Search 2409/83089 chimeras found (2.9%)\r"
       ]
      },
      {
       "output_type": "stream",
       "stream": "stdout",
       "text": [
        "01:49 588Mb   85.6% Search 2435/83797 chimeras found (2.9%)\r"
       ]
      },
      {
       "output_type": "stream",
       "stream": "stdout",
       "text": [
        "01:50 592Mb   86.3% Search 2459/84533 chimeras found (2.9%)\r"
       ]
      },
      {
       "output_type": "stream",
       "stream": "stdout",
       "text": [
        "01:51 595Mb   87.2% Search 2478/85433 chimeras found (2.9%)\r"
       ]
      },
      {
       "output_type": "stream",
       "stream": "stdout",
       "text": [
        "01:52 598Mb   88.0% Search 2504/86137 chimeras found (2.9%)\r"
       ]
      },
      {
       "output_type": "stream",
       "stream": "stdout",
       "text": [
        "01:53 602Mb   88.7% Search 2522/86821 chimeras found (2.9%)\r"
       ]
      },
      {
       "output_type": "stream",
       "stream": "stdout",
       "text": [
        "01:54 606Mb   89.6% Search 2541/87781 chimeras found (2.9%)\r"
       ]
      },
      {
       "output_type": "stream",
       "stream": "stdout",
       "text": [
        "01:55 610Mb   90.6% Search 2555/88717 chimeras found (2.9%)\r"
       ]
      },
      {
       "output_type": "stream",
       "stream": "stdout",
       "text": [
        "01:56 614Mb   91.6% Search 2569/89729 chimeras found (2.9%)\r"
       ]
      },
      {
       "output_type": "stream",
       "stream": "stdout",
       "text": [
        "01:57 619Mb   92.5% Search 2584/90617 chimeras found (2.9%)\r"
       ]
      },
      {
       "output_type": "stream",
       "stream": "stdout",
       "text": [
        "01:58 623Mb   93.6% Search 2603/91689 chimeras found (2.8%)\r"
       ]
      },
      {
       "output_type": "stream",
       "stream": "stdout",
       "text": [
        "01:59 628Mb   94.7% Search 2618/92737 chimeras found (2.8%)\r"
       ]
      },
      {
       "output_type": "stream",
       "stream": "stdout",
       "text": [
        "02:00 633Mb   95.7% Search 2639/93765 chimeras found (2.8%)\r"
       ]
      },
      {
       "output_type": "stream",
       "stream": "stdout",
       "text": [
        "02:01 637Mb   96.6% Search 2656/94641 chimeras found (2.8%)\r"
       ]
      },
      {
       "output_type": "stream",
       "stream": "stdout",
       "text": [
        "02:02 642Mb   97.6% Search 2675/95597 chimeras found (2.8%)\r"
       ]
      },
      {
       "output_type": "stream",
       "stream": "stdout",
       "text": [
        "02:03 647Mb   98.7% Search 2690/96677 chimeras found (2.8%)\r"
       ]
      },
      {
       "output_type": "stream",
       "stream": "stdout",
       "text": [
        "02:04 652Mb   99.8% Search 2715/97709 chimeras found (2.8%)\r"
       ]
      },
      {
       "output_type": "stream",
       "stream": "stdout",
       "text": [
        "02:06 660Mb  100.0% Search 2739/97933 chimeras found (2.8%)\r",
        "\r\n"
       ]
      },
      {
       "output_type": "stream",
       "stream": "stdout",
       "text": [
        "02:06 660Mb    0.0% Writing hits                           \r"
       ]
      },
      {
       "output_type": "stream",
       "stream": "stdout",
       "text": [
        "02:07 660Mb   88.3% Writing hits\r"
       ]
      },
      {
       "output_type": "stream",
       "stream": "stdout",
       "text": [
        "02:07 660Mb  100.0% Writing hits\r",
        "\r\n",
        "02:07 660Mb    0.0% Writing 2739 chimeras\r",
        "02:07 660Mb  100.0% Writing 2739 chimeras\r",
        "\r\n"
       ]
      }
     ],
     "prompt_number": 52
    },
    {
     "cell_type": "code",
     "collapsed": false,
     "input": [
      "!cut -d' ' -f1 /Users/sarahgignoux-wolfsohn/Documents/SD1/SD1_otus_97/SD1_otus_97_tax/Chimeras/uchime_chimeras > /Users/sarahgignoux-wolfsohn/Documents/SD1/SD1_otus_97/SD1_otus_97_tax/Chimeras/uchime_chimeras2.csv"
     ],
     "language": "python",
     "metadata": {},
     "outputs": [],
     "prompt_number": 1
    },
    {
     "cell_type": "code",
     "collapsed": false,
     "input": [
      "!head /Users/sarahgignoux-wolfsohn/Documents/SD1/SD1_otus_97/SD1_otus_97_tax/Chimeras/uchime_chimeras2.csv"
     ],
     "language": "python",
     "metadata": {},
     "outputs": [
      {
       "output_type": "stream",
       "stream": "stdout",
       "text": [
        ">1102339\r\n",
        "CTACGCGAGGAACCTTACCTAGGCTTGACATGGTGCTGCAAGCGCACAGAAATGTGTGACCTTCGAGGGTGCACCACAGA\r\n",
        "TGCTGCATGGCTGTCGTCAGCTCGTGTCGT\r\n",
        ">111182\r\n",
        "CAACGCGAGGAACCTTACCATCCCTTGACATCCTCAACGCGATTTCCGGAGACGGATGTCTTCAGTTCGGCTGGTTGAGT\r\n",
        "GACAGGTGCTGCATGGCTGTCGTCAGCTCGTGTCGT\r\n",
        ">152713\r\n",
        "CTACGCGAGGAACCTTACCTACCCTTGACATCCTGATCGCGGATTAGAGAGATCTTTTCCTTCAGTTCGGCTGGATCAGT\r\n",
        "GACAGGTGCTGCACGGCTGTCGTCAGCTCGTGTCGT\r\n",
        ">1542689\r\n"
       ]
      }
     ],
     "prompt_number": 2
    },
    {
     "cell_type": "code",
     "collapsed": false,
     "input": [
      "!sed 's/>//g' /Users/sarahgignoux-wolfsohn/Documents/SD1/SD1_otus_97/SD1_otus_97_tax/Chimeras/uchime_chimeras2.csv > /Users/sarahgignoux-wolfsohn/Documents/SD1/SD1_otus_97/SD1_otus_97_tax/Chimeras/uchime_chimeras3.csv"
     ],
     "language": "python",
     "metadata": {},
     "outputs": [],
     "prompt_number": 18
    },
    {
     "cell_type": "code",
     "collapsed": false,
     "input": [
      "!head /Users/sarahgignoux-wolfsohn/Documents/SD1/SD1_otus_97/SD1_otus_97_tax/Chimeras/uchime_chimeras3.csv"
     ],
     "language": "python",
     "metadata": {},
     "outputs": [
      {
       "output_type": "stream",
       "stream": "stdout",
       "text": [
        "1102339\r\n",
        "CTACGCGAGGAACCTTACCTAGGCTTGACATGGTGCTGCAAGCGCACAGAAATGTGTGACCTTCGAGGGTGCACCACAGA\r\n",
        "TGCTGCATGGCTGTCGTCAGCTCGTGTCGT\r\n",
        "111182\r\n",
        "CAACGCGAGGAACCTTACCATCCCTTGACATCCTCAACGCGATTTCCGGAGACGGATGTCTTCAGTTCGGCTGGTTGAGT\r\n",
        "GACAGGTGCTGCATGGCTGTCGTCAGCTCGTGTCGT\r\n",
        "152713\r\n",
        "CTACGCGAGGAACCTTACCTACCCTTGACATCCTGATCGCGGATTAGAGAGATCTTTTCCTTCAGTTCGGCTGGATCAGT\r\n",
        "GACAGGTGCTGCACGGCTGTCGTCAGCTCGTGTCGT\r\n",
        "1542689\r\n"
       ]
      }
     ],
     "prompt_number": 19
    },
    {
     "cell_type": "code",
     "collapsed": false,
     "input": [
      "#redo align seqs with longer min seq length (default is too long)"
     ],
     "language": "python",
     "metadata": {},
     "outputs": [],
     "prompt_number": 1
    },
    {
     "cell_type": "code",
     "collapsed": false,
     "input": [
      "!align_seqs.py -i /Users/sarahgignoux-wolfsohn/Documents/SD1/SD1_otus_97/SD1_OTUs_97/rep_set.fna -t /Users/sarahgignoux-wolfsohn/Documents/gg/gg_13_8_otus/rep_set_aligned/97_otus.fasta -o /Users/sarahgignoux-wolfsohn/Documents/SD1/SD1_otus_97/SD1_OTUs_97/alignedseqs2 -e 40 -p 0.10"
     ],
     "language": "python",
     "metadata": {},
     "outputs": [],
     "prompt_number": 5
    },
    {
     "cell_type": "code",
     "collapsed": false,
     "input": [
      "#312 seqs didnt align."
     ],
     "language": "python",
     "metadata": {},
     "outputs": [],
     "prompt_number": 6
    },
    {
     "cell_type": "code",
     "collapsed": false,
     "input": [
      "!make_phylogeny.py -i /Users/sarahgignoux-wolfsohn/Documents/SD1/SD1_otus_97/SD1_OTUs_97/alignedseqs2/rep_set_aligned.fasta -o /Users/sarahgignoux-wolfsohn/Documents/SD1/SD1_otus_97/SD1_OTUs_97/phylogeny2"
     ],
     "language": "python",
     "metadata": {},
     "outputs": [
      {
       "output_type": "stream",
       "stream": "stdout",
       "text": [
        "^C\r\n"
       ]
      }
     ],
     "prompt_number": 7
    },
    {
     "cell_type": "code",
     "collapsed": false,
     "input": [
      "#get filtered otus from phyloseq and align just those otus."
     ],
     "language": "python",
     "metadata": {},
     "outputs": [],
     "prompt_number": 1
    },
    {
     "cell_type": "code",
     "collapsed": false,
     "input": [
      "!cut -d',' -f1 /Users/sarahgignoux-wolfsohn/Documents/SD1/SD1_analyses/input_files/ten_percent_filtered_otutable.csv > /Users/sarahgignoux-wolfsohn/Documents/SD1/SD1_analyses/input_files/ten_percent_filtered_list.csv"
     ],
     "language": "python",
     "metadata": {},
     "outputs": [],
     "prompt_number": 21
    },
    {
     "cell_type": "code",
     "collapsed": false,
     "input": [
      "!head /Users/sarahgignoux-wolfsohn/Documents/SD1/SD1_analyses/input_files/ten_percent_filtered_list.csv"
     ],
     "language": "python",
     "metadata": {},
     "outputs": [
      {
       "output_type": "stream",
       "stream": "stdout",
       "text": [
        "\"\"\r\n",
        "\"100650\"\r\n",
        "\"100877\"\r\n",
        "\"1010548\"\r\n",
        "\"1011983\"\r\n",
        "\"1015084\"\r\n",
        "\"1017181\"\r\n",
        "\"101822\"\r\n",
        "\"1019904\"\r\n",
        "\"102149\"\r\n"
       ]
      }
     ],
     "prompt_number": 22
    },
    {
     "cell_type": "code",
     "collapsed": false,
     "input": [
      "!wc -l /Users/sarahgignoux-wolfsohn/Documents/SD1/SD1_analyses/input_files/ten_percent_filtered_list.csv"
     ],
     "language": "python",
     "metadata": {},
     "outputs": [
      {
       "output_type": "stream",
       "stream": "stdout",
       "text": [
        "    5929 /Users/sarahgignoux-wolfsohn/Documents/SD1/SD1_analyses/input_files/ten_percent_filtered_list.csv\r\n"
       ]
      }
     ],
     "prompt_number": 23
    },
    {
     "cell_type": "code",
     "collapsed": false,
     "input": [
      "!sed -e 's/\"//g' /Users/sarahgignoux-wolfsohn/Documents/SD1/SD1_analyses/input_files/ten_percent_filtered_list.csv > /Users/sarahgignoux-wolfsohn/Documents/SD1/SD1_analyses/input_files/ten_percent_filtered_list_clean.csv"
     ],
     "language": "python",
     "metadata": {},
     "outputs": [],
     "prompt_number": 24
    },
    {
     "cell_type": "code",
     "collapsed": false,
     "input": [
      "!head /Users/sarahgignoux-wolfsohn/Documents/SD1/SD1_analyses/input_files/ten_percent_filtered_list_clean.csv"
     ],
     "language": "python",
     "metadata": {},
     "outputs": [
      {
       "output_type": "stream",
       "stream": "stdout",
       "text": [
        "\r\n",
        "100650\r\n",
        "100877\r\n",
        "1010548\r\n",
        "1011983\r\n",
        "1015084\r\n",
        "1017181\r\n",
        "101822\r\n",
        "1019904\r\n",
        "102149\r\n"
       ]
      }
     ],
     "prompt_number": 25
    },
    {
     "cell_type": "code",
     "collapsed": false,
     "input": [
      "!wc -l /Users/sarahgignoux-wolfsohn/Documents/SD1/SD1_analyses/input_files/ten_percent_filtered_list_clean.csv"
     ],
     "language": "python",
     "metadata": {},
     "outputs": [
      {
       "output_type": "stream",
       "stream": "stdout",
       "text": [
        "    5929 /Users/sarahgignoux-wolfsohn/Documents/SD1/SD1_analyses/input_files/ten_percent_filtered_list_clean.csv\r\n"
       ]
      }
     ],
     "prompt_number": 26
    },
    {
     "cell_type": "code",
     "collapsed": false,
     "input": [
      "!grep -w -A1 -f /Users/sarahgignoux-wolfsohn/Documents/SD1/SD1_analyses/input_files/ten_percent_filtered_list_clean.txt /Users/sarahgignoux-wolfsohn/Documents/SD1/SD1_otus_97/SD1_OTUs_97/rep_set.fna > /Users/sarahgignoux-wolfsohn/Documents/SD1/SD1_otus_97/rep_set_filtered.fna\n"
     ],
     "language": "python",
     "metadata": {},
     "outputs": [],
     "prompt_number": 62
    },
    {
     "cell_type": "code",
     "collapsed": false,
     "input": [
      "!head /Users/sarahgignoux-wolfsohn/Documents/SD1/SD1_otus_97/rep_set_filtered.fna"
     ],
     "language": "python",
     "metadata": {},
     "outputs": [
      {
       "output_type": "stream",
       "stream": "stdout",
       "text": [
        ">100650 SD1.CK4H3.CK14.W_2793:ILLUMINA-D00365:412:HCMTVADXX:1:1116:7986:18668\r\n",
        "CTACGCGAAGAACCTTACCTACTCTTGACATCCACAGAATTTAGCAGAGATGCTTTAGTGCCTTCGGGAACTGTGAGACAGGTGCTGCATGGCTGTCGTCAGCTCGTGTTGT\r\n",
        "--\r\n",
        ">100877 SD1.CK14.D3.CK14.B.T57.H_4293:ILLUMINA-D00365:412:HCMTVADXX:1:1210:14149:97213\r\n",
        "CACGCGAAGAACCTTACCTACTCTTGACATCCAGAGAACTTTCCAGAGATGGATTGGTGCCTTCGGGAACTCTGAGACAGGTGCTGCATGGCTGTCGTCAGCTCGTGTCGT\r\n",
        "--\r\n",
        ">1010548 SD1.CK4H2.CK4.G.T10_16868:ILLUMINA-D00365:412:HCMTVADXX:1:2206:13074:46023\r\n",
        "CTACGCGAGGAACCTTACCAAATCTTGACATCCTTTGACAACTCTAGAGATAGAGCCTTCCCCTTCGGGGGACAAAGTGACAGGTGGTGCATGGTTGTCGTCAGCTCGTGTTGT\r\n",
        "--\r\n",
        ">1011983 SD1.CK14.H3.CK14.B.T37.H_1830:ILLUMINA-D00365:412:HCMTVADXX:1:1108:20643:54344\r\n"
       ]
      }
     ],
     "prompt_number": 63
    },
    {
     "cell_type": "code",
     "collapsed": false,
     "input": [
      "!wc -l /Users/sarahgignoux-wolfsohn/Documents/SD1/SD1_otus_97/rep_set_filtered.fna"
     ],
     "language": "python",
     "metadata": {},
     "outputs": [
      {
       "output_type": "stream",
       "stream": "stdout",
       "text": [
        "   17409 /Users/sarahgignoux-wolfsohn/Documents/SD1/SD1_otus_97/rep_set_filtered.fna\r\n"
       ]
      }
     ],
     "prompt_number": 64
    },
    {
     "cell_type": "code",
     "collapsed": false,
     "input": [
      "!sed 's/^/>/' /Users/sarahgignoux-wolfsohn/Documents/SD1/SD1_analyses/input_files/ten_percent_filtered_list_clean.txt > /Users/sarahgignoux-wolfsohn/Documents/SD1/SD1_analyses/input_files/ten_percent_filtered_list_clean_carrot.txt"
     ],
     "language": "python",
     "metadata": {},
     "outputs": [],
     "prompt_number": 65
    },
    {
     "cell_type": "code",
     "collapsed": false,
     "input": [
      "!head /Users/sarahgignoux-wolfsohn/Documents/SD1/SD1_analyses/input_files/ten_percent_filtered_list_clean_carrot.txt"
     ],
     "language": "python",
     "metadata": {},
     "outputs": [
      {
       "output_type": "stream",
       "stream": "stdout",
       "text": [
        ">100650\r\n",
        ">100877\r\n",
        ">1010548\r\n",
        ">1011983\r\n",
        ">1015084\r\n",
        ">1017181\r\n",
        ">101822\r\n",
        ">1019904\r\n",
        ">102149\r\n",
        ">1023473\r\n"
       ]
      }
     ],
     "prompt_number": 66
    },
    {
     "cell_type": "code",
     "collapsed": false,
     "input": [
      "!grep -w -A1 -f /Users/sarahgignoux-wolfsohn/Documents/SD1/SD1_analyses/input_files/ten_percent_filtered_list_clean_carrot.txt /Users/sarahgignoux-wolfsohn/Documents/SD1/SD1_otus_97/rep_set_filtered.fna > /Users/sarahgignoux-wolfsohn/Documents/SD1/SD1_otus_97/rep_set_filtered2.fna\n"
     ],
     "language": "python",
     "metadata": {},
     "outputs": [],
     "prompt_number": 67
    },
    {
     "cell_type": "code",
     "collapsed": false,
     "input": [
      "!align_seqs.py -i /Users/sarahgignoux-wolfsohn/Documents/SD1/SD1_otus_97/rep_set_filtered2.fna -t /Users/sarahgignoux-wolfsohn/Documents/gg/gg_13_8_otus/rep_set_aligned/97_otus.fasta -o /Users/sarahgignoux-wolfsohn/Documents/SD1/SD1_otus_97/SD1_OTUs_97/filtered_aligned_seqs -e 40 -p 0.01"
     ],
     "language": "python",
     "metadata": {},
     "outputs": [
      {
       "output_type": "stream",
       "stream": "stdout",
       "text": [
        "Traceback (most recent call last):\r\n",
        "  File \"/macqiime/QIIME/bin/align_seqs.py\", line 205, in <module>\r\n",
        "    main()\r\n",
        "  File \"/macqiime/QIIME/bin/align_seqs.py\", line 188, in main\r\n",
        "    log_path=log_path,failure_path=failure_path)\r\n",
        "  File \"/macqiime/lib/python2.7/site-packages/qiime/align_seqs.py\", line 259, in __call__\r\n",
        "    logger=logger)\r\n",
        "  File \"/macqiime/lib/python2.7/site-packages/pynast/util.py\", line 776, in pynast_seqs\r\n",
        "    for seq, status in pynast_iterator:\r\n",
        "  File \"/macqiime/lib/python2.7/site-packages/pynast/util.py\", line 626, in ipynast_seqs\r\n",
        "    raise ValueError, \"Candidate sequence contains gaps. This is not supported.\"\r\n",
        "ValueError: Candidate sequence contains gaps. This is not supported.\r\n"
       ]
      }
     ],
     "prompt_number": 2
    },
    {
     "cell_type": "code",
     "collapsed": false,
     "input": [
      "!sed 's/-//g' /Users/sarahgignoux-wolfsohn/Documents/SD1/SD1_otus_97/rep_set_filtered2.fna >  /Users/sarahgignoux-wolfsohn/Documents/SD1/SD1_otus_97/rep_set_filtered3.fna"
     ],
     "language": "python",
     "metadata": {},
     "outputs": [],
     "prompt_number": 3
    },
    {
     "cell_type": "code",
     "collapsed": false,
     "input": [
      "!head /Users/sarahgignoux-wolfsohn/Documents/SD1/SD1_otus_97/rep_set_filtered3.fna"
     ],
     "language": "python",
     "metadata": {},
     "outputs": [
      {
       "output_type": "stream",
       "stream": "stdout",
       "text": [
        ">100650 SD1.CK4H3.CK14.W_2793:ILLUMINAD00365:412:HCMTVADXX:1:1116:7986:18668\r\n",
        "CTACGCGAAGAACCTTACCTACTCTTGACATCCACAGAATTTAGCAGAGATGCTTTAGTGCCTTCGGGAACTGTGAGACAGGTGCTGCATGGCTGTCGTCAGCTCGTGTTGT\r\n",
        "\r\n",
        ">100877 SD1.CK14.D3.CK14.B.T57.H_4293:ILLUMINAD00365:412:HCMTVADXX:1:1210:14149:97213\r\n",
        "CACGCGAAGAACCTTACCTACTCTTGACATCCAGAGAACTTTCCAGAGATGGATTGGTGCCTTCGGGAACTCTGAGACAGGTGCTGCATGGCTGTCGTCAGCTCGTGTCGT\r\n",
        "\r\n",
        ">1010548 SD1.CK4H2.CK4.G.T10_16868:ILLUMINAD00365:412:HCMTVADXX:1:2206:13074:46023\r\n",
        "CTACGCGAGGAACCTTACCAAATCTTGACATCCTTTGACAACTCTAGAGATAGAGCCTTCCCCTTCGGGGGACAAAGTGACAGGTGGTGCATGGTTGTCGTCAGCTCGTGTTGT\r\n",
        "\r\n",
        ">1011983 SD1.CK14.H3.CK14.B.T37.H_1830:ILLUMINAD00365:412:HCMTVADXX:1:1108:20643:54344\r\n"
       ]
      }
     ],
     "prompt_number": 4
    },
    {
     "cell_type": "code",
     "collapsed": false,
     "input": [
      "!align_seqs.py -i /Users/sarahgignoux-wolfsohn/Documents/SD1/SD1_otus_97/rep_set_filtered3.fna -t /Users/sarahgignoux-wolfsohn/Documents/gg/gg_13_8_otus/rep_set_aligned/97_otus.fasta -o /Users/sarahgignoux-wolfsohn/Documents/SD1/SD1_otus_97/SD1_OTUs_97/filtered_aligned_seqs -e 40 -p 0.01"
     ],
     "language": "python",
     "metadata": {},
     "outputs": [],
     "prompt_number": 5
    },
    {
     "cell_type": "code",
     "collapsed": false,
     "input": [
      "#4 otus were too short.  "
     ],
     "language": "python",
     "metadata": {},
     "outputs": [],
     "prompt_number": 6
    },
    {
     "cell_type": "code",
     "collapsed": false,
     "input": [
      "!make_phylogeny.py -i /Users/sarahgignoux-wolfsohn/Documents/SD1/SD1_otus_97/SD1_OTUs_97/filtered_aligned_seqs/rep_set_filtered3_aligned.fasta -o /Users/sarahgignoux-wolfsohn/Documents/SD1/SD1_otus_97/SD1_OTUs_97/filtered_aligned_seqs/rep_set_filtered3_phylogeny  "
     ],
     "language": "python",
     "metadata": {},
     "outputs": [],
     "prompt_number": 8
    },
    {
     "cell_type": "code",
     "collapsed": false,
     "input": [],
     "language": "python",
     "metadata": {},
     "outputs": []
    }
   ],
   "metadata": {}
  }
 ]
}