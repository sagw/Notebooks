{
 "cells": [
  {
   "cell_type": "code",
   "execution_count": 1,
   "metadata": {
    "collapsed": false
   },
   "outputs": [
    {
     "name": "stdout",
     "output_type": "stream",
     "text": [
      "  195866 /Users/sarahgignoux-wolfsohn/Documents/SD1/SD1_otus_97/SD1_OTUs_97/rep_set.fna\r\n"
     ]
    }
   ],
   "source": [
    "!wc -l /Users/sarahgignoux-wolfsohn/Documents/SD1/SD1_otus_97/SD1_OTUs_97/rep_set.fna"
   ]
  },
  {
   "cell_type": "code",
   "execution_count": 2,
   "metadata": {
    "collapsed": false
   },
   "outputs": [
    {
     "name": "stdout",
     "output_type": "stream",
     "text": [
      "   12928 /Users/sarahgignoux-wolfsohn/Documents/SD1/SD1_otus_97/SD1_OTUs_97/step1_otus/step1_rep_set.fna\r\n"
     ]
    }
   ],
   "source": [
    "!wc -l /Users/sarahgignoux-wolfsohn/Documents/SD1/SD1_otus_97/SD1_OTUs_97/step1_otus/step1_rep_set.fna"
   ]
  },
  {
   "cell_type": "code",
   "execution_count": 3,
   "metadata": {
    "collapsed": false
   },
   "outputs": [
    {
     "name": "stdout",
     "output_type": "stream",
     "text": [
      "  163920 /Users/sarahgignoux-wolfsohn/Documents/SD1/SD1_otus_97/SD1_OTUs_97/step2_otus/step2_rep_set.fna\r\n"
     ]
    }
   ],
   "source": [
    "!wc -l /Users/sarahgignoux-wolfsohn/Documents/SD1/SD1_otus_97/SD1_OTUs_97/step2_otus/step2_rep_set.fna"
   ]
  },
  {
   "cell_type": "code",
   "execution_count": 4,
   "metadata": {
    "collapsed": false
   },
   "outputs": [
    {
     "name": "stdout",
     "output_type": "stream",
     "text": [
      "   21876 /Users/sarahgignoux-wolfsohn/Documents/SD1/SD1_otus_97/SD1_OTUs_97/step4_otus/step4_rep_set.fna\r\n"
     ]
    }
   ],
   "source": [
    "!wc -l /Users/sarahgignoux-wolfsohn/Documents/SD1/SD1_otus_97/SD1_OTUs_97/step4_otus/step4_rep_set.fna "
   ]
  },
  {
   "cell_type": "code",
   "execution_count": 3,
   "metadata": {
    "collapsed": false
   },
   "outputs": [],
   "source": [
    "!assign_taxonomy.py -i /Users/sarahgignoux-wolfsohn/Documents/SD1/SD1_otus_97/SD1_OTUs_97/rep_set.fna -r /Users/sarahgignoux-wolfsohn/Documents/gg/gg_13_8_otus/rep_set/97_otus.fasta -t /Users/sarahgignoux-wolfsohn/Documents/gg/gg_13_8_otus/taxonomy/97_otu_taxonomy.txt -o /Users/sarahgignoux-wolfsohn/Documents/SD1/SD1_otus_97/SD1_otus_97_tax -m blast"
   ]
  },
  {
   "cell_type": "code",
   "execution_count": 42,
   "metadata": {
    "collapsed": false
   },
   "outputs": [],
   "source": [
    "!make_otu_table.py -i /Users/sarahgignoux-wolfsohn/Documents/SD1/SD1_otus_97/SD1_OTUs_97/final_otu_map.txt -o /Users/sarahgignoux-wolfsohn/Documents/SD1/SD1_otus_97/SD1_OTUs_97/SD1_otu_table_97.biom\n"
   ]
  },
  {
   "cell_type": "code",
   "execution_count": 38,
   "metadata": {
    "collapsed": false
   },
   "outputs": [
    {
     "name": "stdout",
     "output_type": "stream",
     "text": [
      "Num samples: 277\r\n",
      "Num observations: 97933\r\n",
      "Total count: 51481564.0\r\n",
      "Table density (fraction of non-zero values): 0.0327\r\n",
      "Table md5 (unzipped): a4db378aa7a650c74ca9185708f6f2b2\r\n",
      "\r\n",
      "Counts/sample summary:\r\n",
      " Min: 2586.0\r\n",
      " Max: 1744431.0\r\n",
      " Median: 103762.0\r\n",
      " Mean: 185854.021661\r\n",
      " Std. dev.: 231830.968159\r\n",
      " Sample Metadata Categories: None provided\r\n",
      " Observation Metadata Categories: None provided\r\n",
      "\r\n",
      "Counts/sample detail:\r\n",
      " SD1.CK14.D3: 2586.0\r\n",
      " SD1.CK14.D3.CK14.P.T10: 10040.0\r\n",
      " SD1.CK14H2.CK14.P.T10: 10061.0\r\n",
      " SD1.CK14.D3.CK14.B.T57.H: 10258.0\r\n",
      " SD1.CK4.D1.CK4.O.T37.D: 10318.0\r\n",
      " SD1.CK14.D1: 10428.0\r\n",
      " SD1.CK4H3.CK14.W: 10585.0\r\n",
      " SD1.CK4D1.CK14.G: 11831.0\r\n",
      " SD1.CK4.H3.CK4.B.T22.H: 11890.0\r\n",
      " SD1.CK14.H1.CK14.B.T37.H: 11919.0\r\n",
      " SD1.CK4H2.CK4.G: 12358.0\r\n",
      " SD1.CK14.D2: 12639.0\r\n",
      " SD1.CK4D1.CK4.G: 13150.0\r\n",
      " SD1.CK14D2.CK4.G: 13471.0\r\n",
      " neg: 13687.0\r\n",
      " SD1.CK14H2.CK14.W: 14037.0\r\n",
      " SD1.CK4D1.CK4.B: 14727.0\r\n",
      " SD1.CK14.H2.CK4.O.T57.H: 15027.0\r\n",
      " SD1.CK14H3.CK4.O: 15427.0\r\n",
      " SD1.CK14.H2.CK4.B.T57.H: 15686.0\r\n",
      " SD1.CK14.H3.CK14.B.T37.H: 15743.0\r\n",
      " SD1.CK14D3.CK14.W: 16261.0\r\n",
      " SD1.CK4.H2.CK14.B.T37.H: 16279.0\r\n",
      " SD1.CK14D3.CK14.O: 18144.0\r\n",
      " SD1.CK14.H2.CK4.G.T57.H: 19321.0\r\n",
      " SD1.CK4H2.CK4.G.T10: 19574.0\r\n",
      " SD1.CK14H1.CK4.G: 19810.0\r\n",
      " SD1.CK4D1.CK4.G.T10: 20403.0\r\n",
      " SD1.CK4.H2.CK14.G.T34.H: 20543.0\r\n",
      " SD1.CK14.H2.CK14.O.T57.H: 21529.0\r\n",
      " SD1.CK4D1.CK14.O: 21701.0\r\n",
      " SD1.CK14D2.CK14.B: 21989.0\r\n",
      " SD1.CK14D1.CK4.O: 22358.0\r\n",
      " STR8UP.NEG.CONTROL: 22983.0\r\n",
      " SD1.CK4.H2.CK4.G.T57.H: 23031.0\r\n",
      " SD1.CK14.D1.CK4.B.T57.H: 24100.0\r\n",
      " SD1.CK4H3.CK4.B: 24514.0\r\n",
      " SD1.CK4H1.CK4.O: 24646.0\r\n",
      " SD1.CK14H3.CK4.G: 24939.0\r\n",
      " SD1.CK14.H1.CK4.O.T57.H: 25187.0\r\n",
      " SD1.CK4H3.CK14.G: 25812.0\r\n",
      " SD1.CK4H2.CK14.O.T10: 27116.0\r\n",
      " SD1.CK4D2.CK4.G: 27228.0\r\n",
      " SD1.CK4D3.CK4.O: 27607.0\r\n",
      " SD1.CK4.D2.CK14.G.T10: 28207.0\r\n",
      " SD1.CK4H1.CK4.P.T10: 29175.0\r\n",
      " SD1.CK14.H3.CK14.G.T57.H: 29261.0\r\n",
      " SD1.CK4H2.CK4.P.T10: 30023.0\r\n",
      " SD1.CK14D1.CK4.W: 30507.0\r\n",
      " SD1.CK4D2.CK14.O: 30516.0\r\n",
      " SD1.CK14H1.CK14.P: 30683.0\r\n",
      " SD1.CK4D3.CK4.G: 30691.0\r\n",
      " SD1.CK14.H2.CK14.G.T57.H: 32992.0\r\n",
      " SD1.CK14D3.CK14.B: 34273.0\r\n",
      " SD1.CK4.D3.CK14.B.T10: 34804.0\r\n",
      " SD1.CK14D2.CK4.O: 35948.0\r\n",
      " SD1.CK4D1.CK4.B.T10: 38662.0\r\n",
      " SD1.CK14.H1.CK14.G.T57.H: 38728.0\r\n",
      " SD1.CK4H3.CK14.G.T10: 38871.0\r\n",
      " SD1.CK4H3.CK4.O: 38891.0\r\n",
      " SD1.CK14.H3.CK4.B.T57.H: 40700.0\r\n",
      " SD1.CK14.D1.CK14.G.T10: 40904.0\r\n",
      " SD1.CK14H2.CK4.O.T10: 41331.0\r\n",
      " SD1.CK4H2.CK4.B.T10: 41748.0\r\n",
      " SD1.CK4H3.CK14.B.T10: 41915.0\r\n",
      " SD1.CK4H2.CK4.W.T10: 42029.0\r\n",
      " SD1.CK14.D3.CK4.O.T57.H: 43258.0\r\n",
      " SD1.CK4.H2.CK14.B.T57.H: 43537.0\r\n",
      " SD1.CK4D3.CK14.O: 43872.0\r\n",
      " SD1.CK14H1.CK14.B: 45764.0\r\n",
      " SD1.CK14.D3.CK14.G.T57.D: 46488.0\r\n",
      " SD1.CK14H1.CK4.G.T10: 48139.0\r\n",
      " SD1.CK14H1.CK14.O.T10: 48536.0\r\n",
      " SD1.CK4D1.CK4.W: 49032.0\r\n",
      " SD1.CK4D1.CK4.O: 49246.0\r\n",
      " SD1.CK4H2.CK14.W.T10: 49498.0\r\n",
      " SD1.CK4H2.CK4.O: 50565.0\r\n",
      " SD1.CK4D1.CK14.W.T10: 50651.0\r\n",
      " SD1.CK4H3.CK14.O.T10: 50680.0\r\n",
      " SD1.CK4H1.CK14.B: 51791.0\r\n",
      " SD1.CK14D3.CK4.W: 52312.0\r\n",
      " SD1.CK14H2.CK14.G: 54224.0\r\n",
      " SD1.CK14H3.CK14.O: 54350.0\r\n",
      " SD1.CK4H1.CK14.W.T10: 54441.0\r\n",
      " SD1.CK14D3.CK4.G: 54592.0\r\n",
      " SD1.CK4.D3.CK14.O.T10: 54841.0\r\n",
      " SD1.CK14H3.CK14.P: 55146.0\r\n",
      " SD1.CK14D1.CK14.W: 55397.0\r\n",
      " SD1.CK4H3.CK4.G: 55893.0\r\n",
      " SD1.CK4H1.CK4.O.T10: 57241.0\r\n",
      " SD1.CK14.D1.CK4.O.T10: 59033.0\r\n",
      " SD1.CK14D1.CK4.G: 60414.0\r\n",
      " SD1.CK14H2.CK4.O: 60467.0\r\n",
      " SD1.CK14H1.CK4.B: 62669.0\r\n",
      " SD1.CK14.D1.CK4.W.T10: 62941.0\r\n",
      " SD1.CK14H2.CK14.G.T10: 62973.0\r\n",
      " SD1.CK14.H2.CK14.P.T57.H: 63165.0\r\n",
      " SD1.CK4.H1.CK14.G.T57.H: 63442.0\r\n",
      " SD1.CK14H1.CK4.P.T10: 64031.0\r\n",
      " SD1.CK14H3.CK14.B.T10: 65679.0\r\n",
      " SD1.CK4D1.CK14.B.T10: 66359.0\r\n",
      " SD1.CK14H1.CK4.O.T10: 70161.0\r\n",
      " SD1.CK4H2.CK4.O.T10: 71594.0\r\n",
      " SD1.CK14H2.CK14.B.T10: 72012.0\r\n",
      " SD1.CK4.H2: 72135.0\r\n",
      " SD1.CK4.H3: 73778.0\r\n",
      " SD1.CK14D2.CK14.O: 74594.0\r\n",
      " SD1.CK14H2.CK14.O.T10: 74645.0\r\n",
      " SD1.CK4H2.CK14.B.T10: 74754.0\r\n",
      " SD1.CK4.D2.CK14.O.T10: 74871.0\r\n",
      " SD1.CK4.D3.CK4.W.T10: 76469.0\r\n",
      " SD1.CK14D3.CK4.P: 76722.0\r\n",
      " SD1.CK4D2.CK4.P.T10: 77389.0\r\n",
      " SD1.CK4H2.CK4.P: 78243.0\r\n",
      " SD1.CK4.H2.CK4.W.T34.H: 79777.0\r\n",
      " SD1.CK14D2.CK14.G: 79851.0\r\n",
      " SD1.CK14.D1.CK14.W.T10: 79874.0\r\n",
      " SD1.CK4H1.CK14.B.T10: 80736.0\r\n",
      " SD1.CK4.H1.CK14.W.T34.H: 81857.0\r\n",
      " SD1.CK14.H1.CK14.W.T37.H: 82645.0\r\n",
      " SD1.CK14.D1.CK14.B.T37.D: 83141.0\r\n",
      " SD1.CK4D1.CK14.O.T10: 84050.0\r\n",
      " SD1.CK4.H3.CK4.P.T34.H: 85628.0\r\n",
      " SD1.CK4H1.CK14.G: 88227.0\r\n",
      " SD1.CK4.H2.CK14.W.T57.H: 89166.0\r\n",
      " SD1.CK14.H3.CK14.O.T57.H: 89646.0\r\n",
      " SD1.CK4.H2.CK14.P.T57.H: 89924.0\r\n",
      " SD1.CK4.H1.CK14.P.T57.H: 92124.0\r\n",
      " SD1.CK14.D1.CK4.B.T10: 92225.0\r\n",
      " SD1.CK4.D1.CK4.G.T57.D: 92837.0\r\n",
      " SD1.CK4H1.CK4.G: 93204.0\r\n",
      " SD1.CK14.H2.CK4.W.T57.H: 94798.0\r\n",
      " SD1.CK14.H3.CK4.P.T57.H: 100170.0\r\n",
      " SD1.CK14D1.CK4.B: 100279.0\r\n",
      " SD1.CK4.D3.CK14.W.T10: 102218.0\r\n",
      " SD1.CK14.H3.CK4.G.T57.H: 103163.0\r\n",
      " SD1.CK4D2.CK4.W: 103517.0\r\n",
      " SD1.CK14.H1: 103722.0\r\n",
      " SD1.CK14H3.CK4.B.T10: 103762.0\r\n",
      " SD1.CK14H2.CK4.W.T10: 104934.0\r\n",
      " SD1.CK14D2.CK4.W: 106154.0\r\n",
      " SD1.CK4H2.CK14.G: 106814.0\r\n",
      " SD1.CK14H1.CK14.G: 107500.0\r\n",
      " SD1.CK14.D2.CK4.B.T57.D: 108836.0\r\n",
      " SD1.CK14H3.CK14.O.T10: 109093.0\r\n",
      " SD1.CK4H3.CK4.O.T10: 109402.0\r\n",
      " SD1.CK14.D2.CK14.P.T10: 110376.0\r\n",
      " SD1.CK4.H3.CK4.W.T22.H: 110509.0\r\n",
      " SD1.CK14H3.CK4.P.T10: 111077.0\r\n",
      " SD1.CK14H1.CK4.W.T10: 112093.0\r\n",
      " SD1.CK14.D2.CK4.G.T10: 116878.0\r\n",
      " SD1.CK4.H3.CK14.G.T34.H: 119399.0\r\n",
      " SD1.CK4.D3: 119586.0\r\n",
      " SD1.CK14H3.CK14.G.T10: 120201.0\r\n",
      " SD1.CK4D2.CK4.O.T10: 126919.0\r\n",
      " SD1.CK14.D1.CK14.P.T57.H: 127317.0\r\n",
      " SD1.CK4H1.CK4.W: 127563.0\r\n",
      " SD1.CK4.H3.CK14.P.T34.H: 128225.0\r\n",
      " SD1.CK14H3.CK4.O.T10: 128734.0\r\n",
      " SD1.CK14H2.CK14.W.T10: 128901.0\r\n",
      " SD1.CK4D1.CK14.P.T10: 133589.0\r\n",
      " SD1.CK14H3.CK4.G.T10: 135107.0\r\n",
      " SD1.CK4.D3.CK4.G.T22.D: 140091.0\r\n",
      " SD1.CK4H3.CK14.P: 140503.0\r\n",
      " SD1.CK14.H3.CK14.P.T57.H: 140713.0\r\n",
      " SD1.CK4.D3.CK4.G.T10: 141552.0\r\n",
      " SD1.CK4.H1.CK4.G.T57.H: 142252.0\r\n",
      " SD1.CK4H1.CK14.P: 147554.0\r\n",
      " SD1.CK4D1.CK4.P: 149483.0\r\n",
      " SD1.CK4H1.CK14.P.T10: 151247.0\r\n",
      " SD1.CK14.D1.CK14.W.T37.D: 154873.0\r\n",
      " SD1.CK14.D2.CK4.W.T57.D: 154957.0\r\n",
      " SD1.CK4.H2.CK4.O.T37.H: 155356.0\r\n",
      " SD1.CK14.H3.CK4.O.T57.H: 155436.0\r\n",
      " SD1.CK14D1.CK14.B: 156367.0\r\n",
      " SD1.CK4H3.CK4.B.T10: 159055.0\r\n",
      " SD1.CK14H2.CK4.P: 161228.0\r\n",
      " SD1.CK14.D2.CK14.P.T57.H: 161880.0\r\n",
      " SD1.CK4D2.CK14.P: 162659.0\r\n",
      " SD1.CK14.D1.CK14.O.T57.H: 164637.0\r\n",
      " SD1.CK14D2.CK4.P: 166149.0\r\n",
      " SD1.CK4.D2.CK4.P.T34.D: 169172.0\r\n",
      " SD1.CK14D3.CK4.B: 172716.0\r\n",
      " SD1.CK4.D3.CK4.O.T10: 175978.0\r\n",
      " SD1.CK14.D1.CK4.G.T10: 176702.0\r\n",
      " SD1.CK4H2.CK4.W: 177593.0\r\n",
      " SD1.CK14H3.CK14.W.T10: 179336.0\r\n",
      " SD1.CK4.D1.CK14.G.T57.H: 179452.0\r\n",
      " SD1.CK4.H1: 179738.0\r\n",
      " SD1.CK14.D1.CK14.B.T10: 180419.0\r\n",
      " SD1.CK4H3.CK4.P.T10: 180529.0\r\n",
      " SD1.CK4.D2.CK4.O.T37.D: 182056.0\r\n",
      " SD1.CK14H1.CK14.G.T10: 184504.0\r\n",
      " SD1.CK4D2.CK4.W.T10: 186506.0\r\n",
      " SD1.CK4H1.CK14.G.T10: 188279.0\r\n",
      " SD1.CK4D2.CK4.B.T10: 189546.0\r\n",
      " SD1.CK14H2.CK14.P: 190937.0\r\n",
      " SD1.CK14.H1.CK4.P.T57.H: 197434.0\r\n",
      " SD1.CK4D1.CK4.P.T10: 200226.0\r\n",
      " SD1.CK14H2.CK4.W: 203258.0\r\n",
      " SD1.CK4.D2.CK14.B.T10: 211254.0\r\n",
      " SD1.CK4H3.CK4.P: 211318.0\r\n",
      " SD1.CK4D3.CK14.P: 214758.0\r\n",
      " SD1.CK4H1.CK14.O: 215233.0\r\n",
      " SD1.CK14H3.CK14.P.T10: 217631.0\r\n",
      " SD1.CK14H1.CK4.B.T10: 218887.0\r\n",
      " SD1.CK14.H3: 222846.0\r\n",
      " SD1.CK4H3.CK4.W.T10: 226348.0\r\n",
      " SD1.CK4H2.CK14.P.T10: 227443.0\r\n",
      " SD1.CK4H1.CK4.W.T10: 238441.0\r\n",
      " SD1.CK4D1.CK14.G.T10: 239186.0\r\n",
      " SD1.CK4D2.CK4.P: 239968.0\r\n",
      " SD1.CK14.H2: 241193.0\r\n",
      " SD1.CK14.D3.CK4.G.T10: 248694.0\r\n",
      " SD1.CK14H1.CK14.B.T10: 253223.0\r\n",
      " SD1.CK4H2.CK14.O: 260928.0\r\n",
      " SD1.CK4.D3.CK4.P.T34.D: 264396.0\r\n",
      " SD1.CK4D2.CK4.B: 266239.0\r\n",
      " SD1.CK14H3.CK4.B: 266286.0\r\n",
      " SD1.CK4D1.CK4.W.T10: 269942.0\r\n",
      " SD1.CK4D1.CK14.P: 280001.0\r\n",
      " SD1.CK14.H1.CK4.G.T57.H: 284061.0\r\n",
      " SD1.CK14H3.CK4.W: 285609.0\r\n",
      " SD1.CK14.D1.CK4.W.T57.D: 289171.0\r\n",
      " SD1.CK14.D1.CK14.O.T10: 292102.0\r\n",
      " SD1.CK4.D3.CK14.P.T10: 295610.0\r\n",
      " SD1.CK4.H3.CK4.O.T22.H: 299080.0\r\n",
      " SD1.CK14.H2.CK4.P.T57.H: 309155.0\r\n",
      " SD1.CK14H3.CK4.W.T10: 320218.0\r\n",
      " SD1.CK14.D3.CK4.P.T57.H: 324540.0\r\n",
      " SD1.CK14.D1.CK14.P.T10: 325268.0\r\n",
      " SD1.CK4D1.CK4.O.T10: 325497.0\r\n",
      " SD1.CK4.H2.CK14.O.T34.H: 326532.0\r\n",
      " SD1.CK4.D3.CK4.O.T22.D: 335127.0\r\n",
      " SD1.CK14H3.CK4.P: 352963.0\r\n",
      " SD1.CK14H2.CK4.P.T10: 355536.0\r\n",
      " SD1.CK14.H1.CK4.B.T57.H: 356718.0\r\n",
      " SD1.CK4H1.CK4.P: 363449.0\r\n",
      " SD1.CK14D2.CK14.P: 376619.0\r\n",
      " SD1.CK4H2.CK14.P: 383850.0\r\n",
      " SD1.CK14.D2.CK4.P.T10: 389417.0\r\n",
      " SD1.CK14.H3.CK4.W.T57.H: 389769.0\r\n",
      " SD1.CK4.D3.CK14.W.T22.D: 396162.0\r\n",
      " SD1.CK14.D1.CK14.G.T57.D: 396247.0\r\n",
      " SD1.CK14.D2.CK4.O.T10: 397709.0\r\n",
      " SD1.CK4.D3.CK4.B.T22.D: 423022.0\r\n",
      " SD1.CK4.D2.CK14.P.T10: 424782.0\r\n",
      " SD1.CK14.D3.CK14.P.T57.H: 436547.0\r\n",
      " SD1.CK14.D2.CK4.G.T57.D: 437310.0\r\n",
      " SD1.CK14.D1.CK4.P.T10: 446178.0\r\n",
      " SD1.CK14.H1.CK14.P.T57.H: 448185.0\r\n",
      " SD1.CK4.H2.CK4.P.T34.H: 461999.0\r\n",
      " SD1.CK14H1.CK14.P.T10: 483058.0\r\n",
      " SD1.CK14.D3.CK4.B.T10: 490063.0\r\n",
      " SD1.CK4.H1.CK4.B.T57.H: 504250.0\r\n",
      " SD1.CK4.H3.CK14.W.T22.H: 513915.0\r\n",
      " SD1.CK4H3.CK14.P.T10: 517557.0\r\n",
      " SD1.CK14.H1.CK4.W.T57.H: 524395.0\r\n",
      " SD1.CK4.D3.CK4.P.T10: 526900.0\r\n",
      " SD1.CK4.D2.CK4.B.T57.H: 573478.0\r\n",
      " SD1.CK14D1.CK14.P: 578169.0\r\n",
      " SD1.CK14D3.CK14.P: 618629.0\r\n",
      " SD1.CK14.D2.CK4.W.T57.H: 635235.0\r\n",
      " SD1.CK4H2.CK4.B: 663838.0\r\n",
      " SD1.CK14.D3.CK4.W.T57.H: 709980.0\r\n",
      " SD1.CK4.D2.CK14.W.T10: 728452.0\r\n",
      " SD1.CK4.D3.CK14.O.T34.D: 761031.0\r\n",
      " SD1.CK4.D3.CK14.P.T34.D: 769483.0\r\n",
      " SD1.CK14.D2.CK14.B.T37.D: 784990.0\r\n",
      " SD1.CK4.H3.CK14.B.T22.H: 821363.0\r\n",
      " SD1.CK14.D3.CK14.O.T57.H: 960505.0\r\n",
      " SD1.CK14.D2.CK14.O.T57.D: 961925.0\r\n",
      " SD1.CK4.D2: 1006076.0\r\n",
      " SD1.CK14D1.CK4.P: 1045267.0\r\n",
      " SD1.CK4.D1.CK14.W.T34.D: 1180094.0\r\n",
      " SD1.CK14.D2.CK4.P.T57.D: 1279876.0\r\n",
      " SD1.CK4.D1: 1744431.0\r\n"
     ]
    }
   ],
   "source": [
    "!print_biom_table_summary.py -i /Users/sarahgignoux-wolfsohn/Documents/SD1/SD1_otus_97/SD1_OTUs_97/SD1_otu_table_97.biom"
   ]
  },
  {
   "cell_type": "code",
   "execution_count": 44,
   "metadata": {
    "collapsed": false
   },
   "outputs": [],
   "source": [
    "!convert_biom.py -b -i /Users/sarahgignoux-wolfsohn/Documents/SD1/SD1_otus_97/SD1_OTUs_97/SD1_otu_table2_97.biom -o /Users/sarahgignoux-wolfsohn/Documents/SD1/SD1_otus_97/SD1_OTUs_97/SD1_otu_table_97.biom"
   ]
  },
  {
   "cell_type": "code",
   "execution_count": 45,
   "metadata": {
    "collapsed": false
   },
   "outputs": [
    {
     "name": "stdout",
     "output_type": "stream",
     "text": [
      "BlastTaxonAssigner parameters:\r\n",
      "Application:blastn/megablast\r\n",
      "Max E value:0.001\r\n",
      "Min percent identity:90.0\r\n",
      "id_to_taxonomy_filepath:/Users/sarahgignoux-wolfsohn/Documents/gg/gg_13_8_otus/taxonomy/97_otu_taxonomy.txt\r\n",
      "reference_seqs_filepath:/Users/sarahgignoux-wolfsohn/Documents/gg/gg_13_8_otus/rep_set/97_otus.fasta\r\n",
      "Number of sequences inspected: 97933\r\n",
      "Number with no blast hits: 7750\r\n",
      "Result path: \"/tmp/assign-taxIt1NTuHQRomvDAcEhRYc.txt\"\r\n"
     ]
    }
   ],
   "source": [
    "!head /Users/sarahgignoux-wolfsohn/Documents/SD1/SD1_otus_97/SD1_otus_97_tax/rep_set_tax_assignments.log"
   ]
  },
  {
   "cell_type": "code",
   "execution_count": 7,
   "metadata": {
    "collapsed": false
   },
   "outputs": [],
   "source": [
    "!identify_chimeric_seqs.py -n 6 -m ChimeraSlayer -i /Users/sarahgignoux-wolfsohn/Documents/SD1/SD1_otus_97/SD1_OTUs_97/pynast_aligned_seqs/rep_set_aligned.fasta -a /Users/sarahgignoux-wolfsohn/Documents/gg/gg_13_8_otus/rep_set_aligned/97_otus.fasta -o /Users/sarahgignoux-wolfsohn/Documents/SD1/SD1_otus_97/SD1_OTUs_97/chimeric_seqs.txt"
   ]
  },
  {
   "cell_type": "code",
   "execution_count": 8,
   "metadata": {
    "collapsed": false
   },
   "outputs": [],
   "source": [
    "!head /Users/sarahgignoux-wolfsohn/Documents/SD1/SD1_otus_97/SD1_OTUs_97/chimeric_seqs.txt"
   ]
  },
  {
   "cell_type": "code",
   "execution_count": 9,
   "metadata": {
    "collapsed": false
   },
   "outputs": [],
   "source": [
    "#empty output.  the aligned sequences must not have any chimeric sequences in them, maybe we should use the otu table without the pynast failures?"
   ]
  },
  {
   "cell_type": "code",
   "execution_count": 15,
   "metadata": {
    "collapsed": false
   },
   "outputs": [],
   "source": [
    "!exclude_seqs_by_blast.py -i /Users/sarahgignoux-wolfsohn/Documents/SD1/SD1_otus_97/SD1_OTUs_97/rep_set.fna -d /Users/sarahgignoux-wolfsohn/Documents/SD1/SD1_otus_97/SD1_OTUs_97/zoox_sequences.fasta -o /Users/sarahgignoux-wolfsohn/Documents/SD1/SD1_otus_97/SD1_OTUs_97/zoox_contaminants"
   ]
  },
  {
   "cell_type": "code",
   "execution_count": null,
   "metadata": {
    "collapsed": false
   },
   "outputs": [],
   "source": [
    "#hit the uncultured dinoflagellate, but not the symbiodinium.  "
   ]
  },
  {
   "cell_type": "code",
   "execution_count": 16,
   "metadata": {
    "collapsed": false
   },
   "outputs": [],
   "source": [
    "!exclude_seqs_by_blast.py -i /Users/sarahgignoux-wolfsohn/Documents/SD1/SD1_otus_97/SD1_OTUs_97/rep_set.fna -d /Users/sarahgignoux-wolfsohn/Documents/SD1/SD1_otus_97/SD1_OTUs_97/symbiodinium.txt -o /Users/sarahgignoux-wolfsohn/Documents/SD1/SD1_otus_97/SD1_OTUs_97/symbiodinium_contaminants"
   ]
  },
  {
   "cell_type": "code",
   "execution_count": 35,
   "metadata": {
    "collapsed": false
   },
   "outputs": [],
   "source": [
    "!cut -d' ' -f1 /Users/sarahgignoux-wolfsohn/Documents/SD1/SD1_otus_97/SD1_OTUs_97/zoox_contaminants/matching.fna > /Users/sarahgignoux-wolfsohn/Documents/SD1/SD1_otus_97/SD1_OTUs_97/zoox_contaminants/zoox_contaminants_matching.csv"
   ]
  },
  {
   "cell_type": "code",
   "execution_count": 36,
   "metadata": {
    "collapsed": false
   },
   "outputs": [
    {
     "name": "stdout",
     "output_type": "stream",
     "text": [
      ">1000148\r\n",
      "CTACGCGAAGAACCTTACCCACCTTTGACATGGTCGGAACCCTGCAGAGACGCAGGGGTGCCCGAAAGGGAGCCGACACACAGGTGCTGCATGGCTGTCGTCAGCTCGTGTCGT\r\n",
      ">1002009\r\n",
      "CTACGCGAAGAACCTTACCAGGCCTTGACATCCCGATCGCGGTTTAGAGAAATCTTTACCTTCAGTTTGGCTGGATCGGTGACAGGTGCTGCATGGCTGTCGTCAGCTCGTGTCGT\r\n",
      ">100208\r\n",
      "CTACGCGAAGAACCTTACCTACCCTTGACATGTCAGGAATCCTGGAGAGATCTGGGAGTGCCCGAAAGGGAGCCTGAACACAGGTGCTGCATGGCTGTCGTCAGCTCGTGTTGT\r\n",
      ">1002348\r\n",
      "CAACGCGAAGAACCTTACCTACCCTTGACATACTTGTCGCGATTACCAGAGATGGTTTTCTTCAGTTTGGCTGGACGATGTACAGGTGCTGCATGGCTGTCGTCAGCTCGTGTCGT\r\n",
      ">100404\r\n",
      "CAACGCGAGGAACCTTACCAACCCTTGACATCCTAGGACCGCCAGAGAGATCTGGTTTTCACTTCGGTGACCTAGTGACAGGTGCTGCATGGCTGTCGTCAGCTCGTGTCGT\r\n"
     ]
    }
   ],
   "source": [
    "!head /Users/sarahgignoux-wolfsohn/Documents/SD1/SD1_otus_97/SD1_OTUs_97/zoox_contaminants/zoox_contaminants_matching.csv"
   ]
  },
  {
   "cell_type": "code",
   "execution_count": 37,
   "metadata": {
    "collapsed": false
   },
   "outputs": [],
   "source": [
    "!cut -d'C' -f1 /Users/sarahgignoux-wolfsohn/Documents/SD1/SD1_otus_97/SD1_OTUs_97/zoox_contaminants/zoox_contaminants_matching.csv > /Users/sarahgignoux-wolfsohn/Documents/SD1/SD1_otus_97/SD1_OTUs_97/zoox_contaminants/zoox_contaminants_matching2.csv"
   ]
  },
  {
   "cell_type": "code",
   "execution_count": 38,
   "metadata": {
    "collapsed": false
   },
   "outputs": [
    {
     "name": "stdout",
     "output_type": "stream",
     "text": [
      ">1000148\r\n",
      "\r\n",
      ">1002009\r\n",
      "\r\n",
      ">100208\r\n",
      "\r\n",
      ">1002348\r\n",
      "\r\n",
      ">100404\r\n",
      "\r\n"
     ]
    }
   ],
   "source": [
    "!head /Users/sarahgignoux-wolfsohn/Documents/SD1/SD1_otus_97/SD1_OTUs_97/zoox_contaminants/zoox_contaminants_matching2.csv"
   ]
  },
  {
   "cell_type": "code",
   "execution_count": 39,
   "metadata": {
    "collapsed": false
   },
   "outputs": [],
   "source": [
    "!sed 's/>//g' /Users/sarahgignoux-wolfsohn/Documents/SD1/SD1_otus_97/SD1_OTUs_97/zoox_contaminants/zoox_contaminants_matching2.csv > /Users/sarahgignoux-wolfsohn/Documents/SD1/SD1_otus_97/SD1_OTUs_97/zoox_contaminants/zoox_contaminants_matching3.csv\n"
   ]
  },
  {
   "cell_type": "code",
   "execution_count": 40,
   "metadata": {
    "collapsed": false
   },
   "outputs": [
    {
     "name": "stdout",
     "output_type": "stream",
     "text": [
      "1000148\r\n",
      "\r\n",
      "1002009\r\n",
      "\r\n",
      "100208\r\n",
      "\r\n",
      "1002348\r\n",
      "\r\n",
      "100404\r\n",
      "\r\n"
     ]
    }
   ],
   "source": [
    "!head /Users/sarahgignoux-wolfsohn/Documents/SD1/SD1_otus_97/SD1_OTUs_97/zoox_contaminants/zoox_contaminants_matching3.csv"
   ]
  },
  {
   "cell_type": "code",
   "execution_count": 48,
   "metadata": {
    "collapsed": false
   },
   "outputs": [],
   "source": [
    "!assign_taxonomy.py -i /Users/sarahgignoux-wolfsohn/Documents/SD1/SD1_otus_97/SD1_OTUs_97/rep_set.fna -o /Users/sarahgignoux-wolfsohn/Documents/SD1/SD1_otus_97/SD1_otus_97_tax/SD1_otus_97_silva -t /Users/sarahgignoux-wolfsohn/Documents/gg/silva/silva_104/Silva_taxa_mapping_104set_97_otus.txt -r /Users/sarahgignoux-wolfsohn/Documents/gg/silva/silva_104/silva_104_rep_set.fasta -m blast"
   ]
  },
  {
   "cell_type": "code",
   "execution_count": 52,
   "metadata": {
    "collapsed": false,
    "scrolled": true
   },
   "outputs": [
    {
     "name": "stdout",
     "output_type": "stream",
     "text": [
      "usearch_i86osx32 v6.0.307, 4.0Gb RAM (4.3Gb total), 4 cores\n",
      "(C) Copyright 2010-12 Robert C. Edgar, all rights reserved.\n",
      "http://drive5.com/usearch\n",
      "\n",
      "Licensed to: gw.sarah@gmail.com\n",
      "\n",
      "00:00 942.1kb Reading /Users/sarahgignoux-wolfsohn/Documents/SD1/SD1_otus_97/SD1_OTUs_97/rep_set.fna, 21Mb\n",
      "00:00  22Mb 97933 (97.9k) seqs, min 10, avg 112, max 280nt\n",
      "00:00  23Mb Reading /Users/sarahgignoux-wolfsohn/Documents/SD1/SD1_otus_97/SD1_otus_97_tax/chimera_ref.fa, 30Mb\n",
      "00:00  53Mb 20098 (20.1k) seqs, min 320, avg 1443, max 2210nt\n",
      "00:01  53Mb  100.0% Masking\n",
      "00:02  53Mb  100.0% Word stats\n",
      "00:03 173Mb  100.0% Build index\n",
      "02:06 660Mb  100.0% Search 2739/97933 chimeras found (2.8%)\n",
      "02:07 660Mb  100.0% Writing hits\n",
      "02:07 660Mb  100.0% Writing 2739 chimeras\n"
     ]
    }
   ],
   "source": [
    "!usearch -uchime_ref /Users/sarahgignoux-wolfsohn/Documents/SD1/SD1_otus_97/SD1_OTUs_97/rep_set.fna -db /Users/sarahgignoux-wolfsohn/Documents/SD1/SD1_otus_97/SD1_otus_97_tax/chimera_ref.fa -uchimeout /Users/sarahgignoux-wolfsohn/Documents/SD1/SD1_otus_97/SD1_otus_97_tax/uchime_out -strand plus -chimeras uchime_chimeras"
   ]
  },
  {
   "cell_type": "code",
   "execution_count": 1,
   "metadata": {
    "collapsed": false
   },
   "outputs": [],
   "source": [
    "!cut -d' ' -f1 /Users/sarahgignoux-wolfsohn/Documents/SD1/SD1_otus_97/SD1_otus_97_tax/Chimeras/uchime_chimeras > /Users/sarahgignoux-wolfsohn/Documents/SD1/SD1_otus_97/SD1_otus_97_tax/Chimeras/uchime_chimeras2.csv"
   ]
  },
  {
   "cell_type": "code",
   "execution_count": 2,
   "metadata": {
    "collapsed": false
   },
   "outputs": [
    {
     "name": "stdout",
     "output_type": "stream",
     "text": [
      ">1102339\r\n",
      "CTACGCGAGGAACCTTACCTAGGCTTGACATGGTGCTGCAAGCGCACAGAAATGTGTGACCTTCGAGGGTGCACCACAGA\r\n",
      "TGCTGCATGGCTGTCGTCAGCTCGTGTCGT\r\n",
      ">111182\r\n",
      "CAACGCGAGGAACCTTACCATCCCTTGACATCCTCAACGCGATTTCCGGAGACGGATGTCTTCAGTTCGGCTGGTTGAGT\r\n",
      "GACAGGTGCTGCATGGCTGTCGTCAGCTCGTGTCGT\r\n",
      ">152713\r\n",
      "CTACGCGAGGAACCTTACCTACCCTTGACATCCTGATCGCGGATTAGAGAGATCTTTTCCTTCAGTTCGGCTGGATCAGT\r\n",
      "GACAGGTGCTGCACGGCTGTCGTCAGCTCGTGTCGT\r\n",
      ">1542689\r\n"
     ]
    }
   ],
   "source": [
    "!head /Users/sarahgignoux-wolfsohn/Documents/SD1/SD1_otus_97/SD1_otus_97_tax/Chimeras/uchime_chimeras2.csv"
   ]
  },
  {
   "cell_type": "code",
   "execution_count": 18,
   "metadata": {
    "collapsed": false
   },
   "outputs": [],
   "source": [
    "!sed 's/>//g' /Users/sarahgignoux-wolfsohn/Documents/SD1/SD1_otus_97/SD1_otus_97_tax/Chimeras/uchime_chimeras2.csv > /Users/sarahgignoux-wolfsohn/Documents/SD1/SD1_otus_97/SD1_otus_97_tax/Chimeras/uchime_chimeras3.csv"
   ]
  },
  {
   "cell_type": "code",
   "execution_count": 19,
   "metadata": {
    "collapsed": false
   },
   "outputs": [
    {
     "name": "stdout",
     "output_type": "stream",
     "text": [
      "1102339\r\n",
      "CTACGCGAGGAACCTTACCTAGGCTTGACATGGTGCTGCAAGCGCACAGAAATGTGTGACCTTCGAGGGTGCACCACAGA\r\n",
      "TGCTGCATGGCTGTCGTCAGCTCGTGTCGT\r\n",
      "111182\r\n",
      "CAACGCGAGGAACCTTACCATCCCTTGACATCCTCAACGCGATTTCCGGAGACGGATGTCTTCAGTTCGGCTGGTTGAGT\r\n",
      "GACAGGTGCTGCATGGCTGTCGTCAGCTCGTGTCGT\r\n",
      "152713\r\n",
      "CTACGCGAGGAACCTTACCTACCCTTGACATCCTGATCGCGGATTAGAGAGATCTTTTCCTTCAGTTCGGCTGGATCAGT\r\n",
      "GACAGGTGCTGCACGGCTGTCGTCAGCTCGTGTCGT\r\n",
      "1542689\r\n"
     ]
    }
   ],
   "source": [
    "!head /Users/sarahgignoux-wolfsohn/Documents/SD1/SD1_otus_97/SD1_otus_97_tax/Chimeras/uchime_chimeras3.csv"
   ]
  },
  {
   "cell_type": "code",
   "execution_count": 1,
   "metadata": {
    "collapsed": false
   },
   "outputs": [],
   "source": [
    "#redo align seqs with longer min seq length (default is too long)"
   ]
  },
  {
   "cell_type": "code",
   "execution_count": 5,
   "metadata": {
    "collapsed": false
   },
   "outputs": [],
   "source": [
    "!align_seqs.py -i /Users/sarahgignoux-wolfsohn/Documents/SD1/SD1_otus_97/SD1_OTUs_97/rep_set.fna -t /Users/sarahgignoux-wolfsohn/Documents/gg/gg_13_8_otus/rep_set_aligned/97_otus.fasta -o /Users/sarahgignoux-wolfsohn/Documents/SD1/SD1_otus_97/SD1_OTUs_97/alignedseqs2 -e 40 -p 0.10"
   ]
  },
  {
   "cell_type": "code",
   "execution_count": 6,
   "metadata": {
    "collapsed": false
   },
   "outputs": [],
   "source": [
    "#312 seqs didnt align."
   ]
  },
  {
   "cell_type": "code",
   "execution_count": 7,
   "metadata": {
    "collapsed": false
   },
   "outputs": [
    {
     "name": "stdout",
     "output_type": "stream",
     "text": [
      "^C\r\n"
     ]
    }
   ],
   "source": [
    "!make_phylogeny.py -i /Users/sarahgignoux-wolfsohn/Documents/SD1/SD1_otus_97/SD1_OTUs_97/alignedseqs2/rep_set_aligned.fasta -o /Users/sarahgignoux-wolfsohn/Documents/SD1/SD1_otus_97/SD1_OTUs_97/phylogeny2"
   ]
  },
  {
   "cell_type": "code",
   "execution_count": 1,
   "metadata": {
    "collapsed": false
   },
   "outputs": [],
   "source": [
    "#get filtered otus from phyloseq and align just those otus."
   ]
  },
  {
   "cell_type": "code",
   "execution_count": 21,
   "metadata": {
    "collapsed": false
   },
   "outputs": [],
   "source": [
    "!cut -d',' -f1 /Users/sarahgignoux-wolfsohn/Documents/SD1/SD1_analyses/input_files/ten_percent_filtered_otutable.csv > /Users/sarahgignoux-wolfsohn/Documents/SD1/SD1_analyses/input_files/ten_percent_filtered_list.csv"
   ]
  },
  {
   "cell_type": "code",
   "execution_count": 22,
   "metadata": {
    "collapsed": false
   },
   "outputs": [
    {
     "name": "stdout",
     "output_type": "stream",
     "text": [
      "\"\"\r\n",
      "\"100650\"\r\n",
      "\"100877\"\r\n",
      "\"1010548\"\r\n",
      "\"1011983\"\r\n",
      "\"1015084\"\r\n",
      "\"1017181\"\r\n",
      "\"101822\"\r\n",
      "\"1019904\"\r\n",
      "\"102149\"\r\n"
     ]
    }
   ],
   "source": [
    "!head /Users/sarahgignoux-wolfsohn/Documents/SD1/SD1_analyses/input_files/ten_percent_filtered_list.csv"
   ]
  },
  {
   "cell_type": "code",
   "execution_count": 23,
   "metadata": {
    "collapsed": false
   },
   "outputs": [
    {
     "name": "stdout",
     "output_type": "stream",
     "text": [
      "    5929 /Users/sarahgignoux-wolfsohn/Documents/SD1/SD1_analyses/input_files/ten_percent_filtered_list.csv\r\n"
     ]
    }
   ],
   "source": [
    "!wc -l /Users/sarahgignoux-wolfsohn/Documents/SD1/SD1_analyses/input_files/ten_percent_filtered_list.csv"
   ]
  },
  {
   "cell_type": "code",
   "execution_count": 24,
   "metadata": {
    "collapsed": false
   },
   "outputs": [],
   "source": [
    "!sed -e 's/\"//g' /Users/sarahgignoux-wolfsohn/Documents/SD1/SD1_analyses/input_files/ten_percent_filtered_list.csv > /Users/sarahgignoux-wolfsohn/Documents/SD1/SD1_analyses/input_files/ten_percent_filtered_list_clean.csv"
   ]
  },
  {
   "cell_type": "code",
   "execution_count": 25,
   "metadata": {
    "collapsed": false
   },
   "outputs": [
    {
     "name": "stdout",
     "output_type": "stream",
     "text": [
      "\r\n",
      "100650\r\n",
      "100877\r\n",
      "1010548\r\n",
      "1011983\r\n",
      "1015084\r\n",
      "1017181\r\n",
      "101822\r\n",
      "1019904\r\n",
      "102149\r\n"
     ]
    }
   ],
   "source": [
    "!head /Users/sarahgignoux-wolfsohn/Documents/SD1/SD1_analyses/input_files/ten_percent_filtered_list_clean.csv"
   ]
  },
  {
   "cell_type": "code",
   "execution_count": 26,
   "metadata": {
    "collapsed": false
   },
   "outputs": [
    {
     "name": "stdout",
     "output_type": "stream",
     "text": [
      "    5929 /Users/sarahgignoux-wolfsohn/Documents/SD1/SD1_analyses/input_files/ten_percent_filtered_list_clean.csv\r\n"
     ]
    }
   ],
   "source": [
    "!wc -l /Users/sarahgignoux-wolfsohn/Documents/SD1/SD1_analyses/input_files/ten_percent_filtered_list_clean.csv"
   ]
  },
  {
   "cell_type": "code",
   "execution_count": 62,
   "metadata": {
    "collapsed": false
   },
   "outputs": [],
   "source": [
    "!grep -w -A1 -f /Users/sarahgignoux-wolfsohn/Documents/SD1/SD1_analyses/input_files/ten_percent_filtered_list_clean.txt /Users/sarahgignoux-wolfsohn/Documents/SD1/SD1_otus_97/SD1_OTUs_97/rep_set.fna > /Users/sarahgignoux-wolfsohn/Documents/SD1/SD1_otus_97/rep_set_filtered.fna\n"
   ]
  },
  {
   "cell_type": "code",
   "execution_count": 63,
   "metadata": {
    "collapsed": false
   },
   "outputs": [
    {
     "name": "stdout",
     "output_type": "stream",
     "text": [
      ">100650 SD1.CK4H3.CK14.W_2793:ILLUMINA-D00365:412:HCMTVADXX:1:1116:7986:18668\r\n",
      "CTACGCGAAGAACCTTACCTACTCTTGACATCCACAGAATTTAGCAGAGATGCTTTAGTGCCTTCGGGAACTGTGAGACAGGTGCTGCATGGCTGTCGTCAGCTCGTGTTGT\r\n",
      "--\r\n",
      ">100877 SD1.CK14.D3.CK14.B.T57.H_4293:ILLUMINA-D00365:412:HCMTVADXX:1:1210:14149:97213\r\n",
      "CACGCGAAGAACCTTACCTACTCTTGACATCCAGAGAACTTTCCAGAGATGGATTGGTGCCTTCGGGAACTCTGAGACAGGTGCTGCATGGCTGTCGTCAGCTCGTGTCGT\r\n",
      "--\r\n",
      ">1010548 SD1.CK4H2.CK4.G.T10_16868:ILLUMINA-D00365:412:HCMTVADXX:1:2206:13074:46023\r\n",
      "CTACGCGAGGAACCTTACCAAATCTTGACATCCTTTGACAACTCTAGAGATAGAGCCTTCCCCTTCGGGGGACAAAGTGACAGGTGGTGCATGGTTGTCGTCAGCTCGTGTTGT\r\n",
      "--\r\n",
      ">1011983 SD1.CK14.H3.CK14.B.T37.H_1830:ILLUMINA-D00365:412:HCMTVADXX:1:1108:20643:54344\r\n"
     ]
    }
   ],
   "source": [
    "!head /Users/sarahgignoux-wolfsohn/Documents/SD1/SD1_otus_97/rep_set_filtered.fna"
   ]
  },
  {
   "cell_type": "code",
   "execution_count": 64,
   "metadata": {
    "collapsed": false
   },
   "outputs": [
    {
     "name": "stdout",
     "output_type": "stream",
     "text": [
      "   17409 /Users/sarahgignoux-wolfsohn/Documents/SD1/SD1_otus_97/rep_set_filtered.fna\r\n"
     ]
    }
   ],
   "source": [
    "!wc -l /Users/sarahgignoux-wolfsohn/Documents/SD1/SD1_otus_97/rep_set_filtered.fna"
   ]
  },
  {
   "cell_type": "code",
   "execution_count": 65,
   "metadata": {
    "collapsed": false
   },
   "outputs": [],
   "source": [
    "!sed 's/^/>/' /Users/sarahgignoux-wolfsohn/Documents/SD1/SD1_analyses/input_files/ten_percent_filtered_list_clean.txt > /Users/sarahgignoux-wolfsohn/Documents/SD1/SD1_analyses/input_files/ten_percent_filtered_list_clean_carrot.txt"
   ]
  },
  {
   "cell_type": "code",
   "execution_count": 66,
   "metadata": {
    "collapsed": false
   },
   "outputs": [
    {
     "name": "stdout",
     "output_type": "stream",
     "text": [
      ">100650\r\n",
      ">100877\r\n",
      ">1010548\r\n",
      ">1011983\r\n",
      ">1015084\r\n",
      ">1017181\r\n",
      ">101822\r\n",
      ">1019904\r\n",
      ">102149\r\n",
      ">1023473\r\n"
     ]
    }
   ],
   "source": [
    "!head /Users/sarahgignoux-wolfsohn/Documents/SD1/SD1_analyses/input_files/ten_percent_filtered_list_clean_carrot.txt"
   ]
  },
  {
   "cell_type": "code",
   "execution_count": 67,
   "metadata": {
    "collapsed": false
   },
   "outputs": [],
   "source": [
    "!grep -w -A1 -f /Users/sarahgignoux-wolfsohn/Documents/SD1/SD1_analyses/input_files/ten_percent_filtered_list_clean_carrot.txt /Users/sarahgignoux-wolfsohn/Documents/SD1/SD1_otus_97/rep_set_filtered.fna > /Users/sarahgignoux-wolfsohn/Documents/SD1/SD1_otus_97/rep_set_filtered2.fna\n"
   ]
  },
  {
   "cell_type": "code",
   "execution_count": 2,
   "metadata": {
    "collapsed": false
   },
   "outputs": [
    {
     "name": "stdout",
     "output_type": "stream",
     "text": [
      "Traceback (most recent call last):\r\n",
      "  File \"/macqiime/QIIME/bin/align_seqs.py\", line 205, in <module>\r\n",
      "    main()\r\n",
      "  File \"/macqiime/QIIME/bin/align_seqs.py\", line 188, in main\r\n",
      "    log_path=log_path,failure_path=failure_path)\r\n",
      "  File \"/macqiime/lib/python2.7/site-packages/qiime/align_seqs.py\", line 259, in __call__\r\n",
      "    logger=logger)\r\n",
      "  File \"/macqiime/lib/python2.7/site-packages/pynast/util.py\", line 776, in pynast_seqs\r\n",
      "    for seq, status in pynast_iterator:\r\n",
      "  File \"/macqiime/lib/python2.7/site-packages/pynast/util.py\", line 626, in ipynast_seqs\r\n",
      "    raise ValueError, \"Candidate sequence contains gaps. This is not supported.\"\r\n",
      "ValueError: Candidate sequence contains gaps. This is not supported.\r\n"
     ]
    }
   ],
   "source": [
    "!align_seqs.py -i /Users/sarahgignoux-wolfsohn/Documents/SD1/SD1_otus_97/rep_set_filtered2.fna -t /Users/sarahgignoux-wolfsohn/Documents/gg/gg_13_8_otus/rep_set_aligned/97_otus.fasta -o /Users/sarahgignoux-wolfsohn/Documents/SD1/SD1_otus_97/SD1_OTUs_97/filtered_aligned_seqs -e 40 -p 0.01"
   ]
  },
  {
   "cell_type": "code",
   "execution_count": 3,
   "metadata": {
    "collapsed": false
   },
   "outputs": [],
   "source": [
    "!sed 's/-//g' /Users/sarahgignoux-wolfsohn/Documents/SD1/SD1_otus_97/rep_set_filtered2.fna >  /Users/sarahgignoux-wolfsohn/Documents/SD1/SD1_otus_97/rep_set_filtered3.fna"
   ]
  },
  {
   "cell_type": "code",
   "execution_count": 4,
   "metadata": {
    "collapsed": false
   },
   "outputs": [
    {
     "name": "stdout",
     "output_type": "stream",
     "text": [
      ">100650 SD1.CK4H3.CK14.W_2793:ILLUMINAD00365:412:HCMTVADXX:1:1116:7986:18668\r\n",
      "CTACGCGAAGAACCTTACCTACTCTTGACATCCACAGAATTTAGCAGAGATGCTTTAGTGCCTTCGGGAACTGTGAGACAGGTGCTGCATGGCTGTCGTCAGCTCGTGTTGT\r\n",
      "\r\n",
      ">100877 SD1.CK14.D3.CK14.B.T57.H_4293:ILLUMINAD00365:412:HCMTVADXX:1:1210:14149:97213\r\n",
      "CACGCGAAGAACCTTACCTACTCTTGACATCCAGAGAACTTTCCAGAGATGGATTGGTGCCTTCGGGAACTCTGAGACAGGTGCTGCATGGCTGTCGTCAGCTCGTGTCGT\r\n",
      "\r\n",
      ">1010548 SD1.CK4H2.CK4.G.T10_16868:ILLUMINAD00365:412:HCMTVADXX:1:2206:13074:46023\r\n",
      "CTACGCGAGGAACCTTACCAAATCTTGACATCCTTTGACAACTCTAGAGATAGAGCCTTCCCCTTCGGGGGACAAAGTGACAGGTGGTGCATGGTTGTCGTCAGCTCGTGTTGT\r\n",
      "\r\n",
      ">1011983 SD1.CK14.H3.CK14.B.T37.H_1830:ILLUMINAD00365:412:HCMTVADXX:1:1108:20643:54344\r\n"
     ]
    }
   ],
   "source": [
    "!head /Users/sarahgignoux-wolfsohn/Documents/SD1/SD1_otus_97/rep_set_filtered3.fna"
   ]
  },
  {
   "cell_type": "code",
   "execution_count": 5,
   "metadata": {
    "collapsed": false
   },
   "outputs": [],
   "source": [
    "!align_seqs.py -i /Users/sarahgignoux-wolfsohn/Documents/SD1/SD1_otus_97/rep_set_filtered3.fna -t /Users/sarahgignoux-wolfsohn/Documents/gg/gg_13_8_otus/rep_set_aligned/97_otus.fasta -o /Users/sarahgignoux-wolfsohn/Documents/SD1/SD1_otus_97/SD1_OTUs_97/filtered_aligned_seqs -e 40 -p 0.01"
   ]
  },
  {
   "cell_type": "code",
   "execution_count": 6,
   "metadata": {
    "collapsed": false
   },
   "outputs": [],
   "source": [
    "#4 otus were too short.  "
   ]
  },
  {
   "cell_type": "code",
   "execution_count": 8,
   "metadata": {
    "collapsed": false
   },
   "outputs": [],
   "source": [
    "!make_phylogeny.py -i /Users/sarahgignoux-wolfsohn/Documents/SD1/SD1_otus_97/SD1_OTUs_97/filtered_aligned_seqs/rep_set_filtered3_aligned.fasta -o /Users/sarahgignoux-wolfsohn/Documents/SD1/SD1_otus_97/SD1_OTUs_97/filtered_aligned_seqs/rep_set_filtered3_phylogeny  "
   ]
  },
  {
   "cell_type": "code",
   "execution_count": 4,
   "metadata": {
    "collapsed": false
   },
   "outputs": [
    {
     "name": "stdout",
     "output_type": "stream",
     "text": [
      "New.CleanUp.ReferenceOTU10536,Bacteria;Proteobacteria;Gammaproteobacteria;Vibrionales;Vibrionaceae;Vibrio;Vibrio,9e-50,48135\r\n",
      "New.ReferenceOTU32526,Bacteria;Proteobacteria;Alphaproteobacteria;Rhodobacterales;Rhodobacteraceae;uncultured;alpha,3e-46,45702\r\n",
      "New.ReferenceOTU32527,Bacteria;Proteobacteria;Deltaproteobacteria;Myxococcales;JG37-AG-15;uncultured,5e-30,8174\r\n",
      "New.ReferenceOTU32524,Bacteria;Bacteroidetes;Flavobacteria;Flavobacteriales;Flavobacteriaceae;uncultured;Xanthobacillum,2e-47,56234\r\n",
      "New.ReferenceOTU32525,Bacteria;Bacteroidetes;Flavobacteria;Flavobacteriales;Flavobacteriaceae;Winogradskyella;uncultured,3e-49,80635\r\n",
      "370251,Bacteria;Proteobacteria;Gammaproteobacteria;Oceanospirillales;Hahellaceae;Endozoicomonas;uncultured,1e-51,62387\r\n",
      "New.ReferenceOTU32523,Bacteria;Proteobacteria;Gammaproteobacteria;Legionellales;Legionellaceae;Legionella;uncultured,8e-44,42767\r\n",
      "New.ReferenceOTU32520,Bacteria;Proteobacteria;Mariprofundus;uncultured,2e-32,14394\r\n",
      "New.ReferenceOTU32521,Bacteria;Proteobacteria;Gammaproteobacteria;Oceanospirillales;Hahellaceae;Endozoicomonas;uncultured,1e-48,62387\r\n",
      "New.ReferenceOTU32528,Bacteria;Chloroflexi;P2-11E;uncultured,2e-14,104753\r\n"
     ]
    }
   ],
   "source": [
    "!head /Users/sarahgignoux-wolfsohn/Documents/SD1/SD1_otus_97/SD1_otus_97_tax/SD1_otus_97_silva/rep_set_tax_assignments_silva.csv"
   ]
  },
  {
   "cell_type": "code",
   "execution_count": 47,
   "metadata": {
    "collapsed": true
   },
   "outputs": [],
   "source": [
    "!head /Users/sarahgignoux-wolfsohn/Documents/SD1/SD1_otus_97/SD1_otus_97_tax/SD1_otus_97_silva/rep_set_tax_assignments_silva.csv > /Users/sarahgignoux-wolfsohn/Documents/SD1/SD1_otus_97/SD1_otus_97_tax/SD1_otus_97_silva/rep_set_tax_assignments_silva_test.csv "
   ]
  },
  {
   "cell_type": "code",
   "execution_count": 50,
   "metadata": {
    "collapsed": false
   },
   "outputs": [
    {
     "name": "stdout",
     "output_type": "stream",
     "text": [
      "mkdir: /Users/sarahgignoux-wolfsohn/Documents/SD1/SD1_otus_97/SD1_otus_97_tax/SD1_otus_97_silva/rep_set_tax_assignments_silva_clean.csv: File exists\r\n"
     ]
    }
   ],
   "source": [
    "!mkdir /Users/sarahgignoux-wolfsohn/Documents/SD1/SD1_otus_97/SD1_otus_97_tax/SD1_otus_97_silva/rep_set_tax_assignments_silva_clean.csv"
   ]
  },
  {
   "cell_type": "code",
   "execution_count": 194,
   "metadata": {
    "collapsed": false
   },
   "outputs": [],
   "source": [
    "f=open('/Users/sarahgignoux-wolfsohn/Documents/SD1/SD1_otus_97/SD1_otus_97_tax/SD1_otus_97_silva/rep_set_tax_assignments_silva.csv', 'r')"
   ]
  },
  {
   "cell_type": "code",
   "execution_count": 195,
   "metadata": {
    "collapsed": false
   },
   "outputs": [],
   "source": [
    "o=open('/Users/sarahgignoux-wolfsohn/Documents/SD1/SD1_otus_97/SD1_otus_97_tax/SD1_otus_97_silva/rep_set_tax_assignments_silva_clean.csv', 'w')"
   ]
  },
  {
   "cell_type": "code",
   "execution_count": null,
   "metadata": {
    "collapsed": true
   },
   "outputs": [],
   "source": [
    "   else:\n",
    "    if \"Cystobacterineae;\" in line:\n",
    "            line=line.replace(\"Cystobacterineae;\", \"\")\n",
    "            o.write(line)\n",
    "            print(line)\n",
    "        elif \"Actinobacteria;Actinobacteria;Actinobacteridae\" in line:\n",
    "            line = line.replace(\"Actinobacteria;Actinobacteria;Actinobacteridae\", \"Actinobacteria\")\n",
    "            o.write(line)\n",
    "        elif \"Actinobacteria;Actinobacteria\" in line: \n",
    "            line=line.replace(\"Actinobacteria;Actinobacteria\", \"Actinobacteria\")\n",
    "            o.write(line)\n",
    "            \n",
    "            \n",
    "             if \"Acidimicrobidae\" in line and scount==8\n"
   ]
  },
  {
   "cell_type": "code",
   "execution_count": 196,
   "metadata": {
    "collapsed": false,
    "scrolled": true
   },
   "outputs": [
    {
     "name": "stdout",
     "output_type": "stream",
     "text": [
      "137183,Bacteria;Actinobacteria;Actinobacteria;Bifidobacteriales;Bifidobacteriaceae;Gardnerella;Gardnerella,6e-57,57595\n",
      "\n",
      "980525,Bacteria;Actinobacteria;Actinobacteria;Solirubrobacterales;Patulibacteraceae;Patulibacter;uncultured,5e-48,97568\n",
      "\n",
      "591285,Bacteria;Actinobacteria;Actinobacteria;Bifidobacteriales;Bifidobacteriaceae;Bifidobacterium;uncultured,2e-53,39077\n",
      "\n",
      "New.ReferenceOTU76178,Bacteria;Actinobacteria;Actinobacteria;Actinomycetales;Micrococcineae;Promicromonosporaceae;Cellulosimicrobium,3e-43,74604\n",
      "\n",
      "New.ReferenceOTU62722,Bacteria;Actinobacteria;Actinobacteria;Actinomycetales;Micrococcineae;Micrococcaceae;Zhihengliuella,2e-38,38519\n",
      "\n",
      "327362,Bacteria;Actinobacteria;Actinobacteria;Actinomycetales;Frankineae;Sporichthyaceae;hgcI,5e-51,17882\n",
      "\n",
      "New.ReferenceOTU24800,Bacteria;Actinobacteria;Actinobacteria;Actinomycetales;Frankineae;Sporichthyaceae;hgcI,1e-48,17882\n",
      "\n",
      "4375291,Bacteria;Actinobacteria;Actinobacteria;Acidimicrobiales;Acidimicrobineae;uncultured;uncultured,2e-53,72975\n",
      "\n",
      "New.ReferenceOTU34278,Bacteria;Actinobacteria;Actinobacteria;Actinomycetales;Micromonosporineae;Micromonosporaceae;uncultured,5e-48,33524\n",
      "\n",
      "452924,Bacteria;Actinobacteria;Actinobacteria;Solirubrobacterales;Solirubrobacteriaceae;Solirubrobacter;bacterium,1e-54,104904\n",
      "\n",
      "New.ReferenceOTU49377,Bacteria;Actinobacteria;Actinobacteria;Solirubrobacterales;Patulibacteraceae;Patulibacter;Patulibacter,4e-52,105340\n",
      "\n",
      "330721,Bacteria;Actinobacteria;Actinobacteria;Acidimicrobiales;Acidimicrobineae;uncultured;uncultured,9e-53,80585\n",
      "\n",
      "4314391,Bacteria;Actinobacteria;Actinobacteria;Acidimicrobiales;Acidimicrobineae;uncultured;uncultured,1e-48,64927\n",
      "\n",
      "New.ReferenceOTU79726,Bacteria;Actinobacteria;Actinobacteria;Nitriliruptorales;Nitriliruptoraceae;Nitriliruptor;uncultured,1e-48,77763\n",
      "\n",
      "New.ReferenceOTU32553,Bacteria;Actinobacteria;Actinobacteria;Solirubrobacterales;Patulibacteraceae;Patulibacter;Patulibacter,1e-39,105340\n",
      "\n",
      "New.ReferenceOTU39438,Bacteria;Actinobacteria;Actinobacteria;Actinomycetales;Frankineae;Nakamurellaceae;uncultured,5e-36,30225\n",
      "\n",
      "529501,Bacteria;Actinobacteria;Actinobacteria;Actinomycetales;Micrococcineae;Micrococcaceae;Kocuria,9e-53,97565\n",
      "\n",
      "639401,Bacteria;Actinobacteria;Actinobacteria;Actinomycetales;Frankineae;Sporichthyaceae;hgcI,2e-50,84549\n",
      "\n",
      "997439,Bacteria;Actinobacteria;Actinobacteria;Bifidobacteriales;Bifidobacteriaceae;Bifidobacterium;uncultured,9e-56,73563\n",
      "\n",
      "New.ReferenceOTU68232,Bacteria;Actinobacteria;Actinobacteria;Actinomycetales;Frankineae;Sporichthyaceae;hgcI,2e-10,89888\n",
      "\n",
      "New.ReferenceOTU21341,Bacteria;Actinobacteria;Actinobacteria;Actinomycetales;Frankineae;Sporichthyaceae;hgcI,3e-46,17882\n",
      "\n",
      "New.ReferenceOTU79547,Bacteria;Actinobacteria;Actinobacteria;Acidimicrobiales;Acidimicrobineae;uncultured;uncultured,5e-48,24886\n",
      "\n",
      "1040091,Bacteria;Actinobacteria;Actinobacteria;Actinomycetales;Frankineae;uncultured;uncultured,1e-48,88874\n",
      "\n",
      "New.ReferenceOTU37855,Bacteria;Actinobacteria;Actinobacteria;Actinomycetales;Frankineae;Sporichthyaceae;hgcI,2e-32,17882\n",
      "\n",
      "New.ReferenceOTU79190,Bacteria;Actinobacteria;Actinobacteria;Solirubrobacterales;Patulibacteraceae;Patulibacter;uncultured,3e-49,81926\n",
      "\n",
      "New.ReferenceOTU42834,Bacteria;Actinobacteria;Actinobacteria;Solirubrobacterales;Patulibacteraceae;Patulibacter;Patulibacter,2e-53,105340\n",
      "\n",
      "833694,Bacteria;Actinobacteria;Actinobacteria;Nitriliruptorales;Nitriliruptoraceae;Nitriliruptor;uncultured,3e-37,69831\n",
      "\n",
      "New.ReferenceOTU29545,Bacteria;Actinobacteria;Actinobacteria;Acidimicrobiales;Acidimicrobineae;uncultured;uncultured,8e-41,98054\n",
      "\n",
      "New.ReferenceOTU39858,Bacteria;Actinobacteria;Actinobacteria;Bifidobacteriales;Bifidobacteriaceae;Gardnerella;Gardnerella,3e-49,57595\n",
      "\n",
      "New.ReferenceOTU66077,Bacteria;Actinobacteria;Actinobacteria;Actinomycetales;Micrococcineae;Micrococcaceae;Kocuria,2e-47,97565\n",
      "\n",
      "New.ReferenceOTU6170,Bacteria;Actinobacteria;Actinobacteria;Solirubrobacterales;Solirubrobacteriaceae;Solirubrobacter;uncultured,4e-52,26497\n",
      "\n",
      "New.ReferenceOTU67051,Bacteria;Actinobacteria;Actinobacteria;Acidimicrobiales;Acidimicrobineae;Acidimicrobiaceae;CL500-29,2e-10,99856\n",
      "\n",
      "875420,Bacteria;Actinobacteria;Actinobacteria;Solirubrobacterales;Solirubrobacteriaceae;Solirubrobacter;uncultured,2e-53,42823\n",
      "\n",
      "1109913,Bacteria;Actinobacteria;Actinobacteria;Acidimicrobiales;Acidimicrobineae;uncultured;uncultured,2e-47,7139\n",
      "\n",
      "974499,Bacteria;Actinobacteria;Actinobacteria;Actinomycetales;Propionibacterineae;Propionibacteriaceae;uncultured,2e-47,42446\n",
      "\n",
      "246233,Bacteria;Actinobacteria;Actinobacteria;Actinomycetales;Frankineae;uncultured;uncultured,5e-51,90395\n",
      "\n",
      "New.ReferenceOTU13896,Bacteria;Actinobacteria;Actinobacteria;Actinomycetales;Frankineae;Nakamurellaceae;uncultured,8e-47,30225\n",
      "\n",
      "New.ReferenceOTU40983,Bacteria;Actinobacteria;Actinobacteria;Actinomycetales;Frankineae;Sporichthyaceae;hgcI,2e-53,17882\n",
      "\n",
      "New.ReferenceOTU48219,Bacteria;Actinobacteria;Actinobacteria;Actinomycetales;Corynebacterineae;uncultured;uncultured,2e-41,93242\n",
      "\n",
      "585063,Bacteria;Actinobacteria;Actinobacteria;Acidimicrobiales;Acidimicrobineae;uncultured;uncultured,9e-53,45215\n",
      "\n",
      "New.ReferenceOTU38701,Bacteria;Actinobacteria;Actinobacteria;Bifidobacteriales;Bifidobacteriaceae;Scardovia;Scardovia,1e-48,62339\n",
      "\n",
      "869089,Bacteria;Actinobacteria;Actinobacteria;Actinomycetales;Frankineae;uncultured;uncultured,2e-53,83016\n",
      "\n",
      "857566,Bacteria;Actinobacteria;Actinobacteria;Solirubrobacterales;Solirubrobacteriaceae;Solirubrobacter;uncultured,2e-53,41022\n",
      "\n",
      "New.ReferenceOTU28001,Bacteria;Actinobacteria;Actinobacteria;Actinomycetales;Micromonosporineae;Micromonosporaceae;uncultured,8e-47,33524\n",
      "\n",
      "New.ReferenceOTU63218,Bacteria;Actinobacteria;Actinobacteria;Acidimicrobiales;Acidimicrobineae;uncultured;uncultured,1e-45,57097\n",
      "\n",
      "New.ReferenceOTU12646,Bacteria;Actinobacteria;Actinobacteria;Actinomycetales;Frankineae;Sporichthyaceae;hgcI,3e-49,68077\n",
      "\n",
      "789373,Bacteria;Actinobacteria;Actinobacteria;Acidimicrobiales;Acidimicrobineae;uncultured;uncultured,2e-50,98004\n",
      "\n",
      "New.ReferenceOTU28944,Bacteria;Actinobacteria;Actinobacteria;Solirubrobacterales;Solirubrobacteriaceae;Solirubrobacter;bacterium,4e-52,104904\n",
      "\n",
      "New.ReferenceOTU124,Bacteria;Actinobacteria;Actinobacteria;Actinomycetales;Micrococcineae;Microbacteriaceae;Corynebacteriaceae,6e-51,65529\n",
      "\n",
      "New.ReferenceOTU79049,Bacteria;Actinobacteria;Actinobacteria;Actinomycetales;Streptomycineae;Streptomycetaceae;uncultured,7e-38,58242\n",
      "\n",
      "New.ReferenceOTU17681,Bacteria;Actinobacteria;Actinobacteria;Actinomycetales;Frankineae;Nakamurellaceae;uncultured,3e-40,30225\n",
      "\n",
      "New.ReferenceOTU41748,Bacteria;Actinobacteria;Actinobacteria;Actinomycetales;Frankineae;Nakamurellaceae;uncultured,8e-44,30225\n",
      "\n",
      "815724,Bacteria;Actinobacteria;Actinobacteria;Actinomycetales;Micromonosporineae;Micromonosporaceae;uncultured,4e-52,33524\n",
      "\n",
      "New.CleanUp.ReferenceOTU6067,Bacteria;Actinobacteria;Actinobacteria;Acidimicrobiales;Acidimicrobineae;Acidimicrobiaceae;CL500-29,2e-44,84752\n",
      "\n",
      "New.ReferenceOTU58628,Bacteria;Actinobacteria;Actinobacteria;Actinomycetales;Corynebacterineae;uncultured;uncultured,3e-46,30745\n",
      "\n",
      "365923,Bacteria;Actinobacteria;Actinobacteria;Acidimicrobiales;Acidimicrobineae;uncultured;uncultured,4e-52,96079\n",
      "\n",
      "925200,Bacteria;Actinobacteria;Actinobacteria;Solirubrobacterales;Solirubrobacteriaceae;Solirubrobacter;uncultured,2e-53,68952\n",
      "\n",
      "4457504,Bacteria;Actinobacteria;Actinobacteria;Actinomycetales;Micrococcineae;Micrococcaceae;Kocuria,5e-45,97565\n",
      "\n",
      "New.ReferenceOTU79270,Bacteria;Actinobacteria;Actinobacteria;Nitriliruptorales;Nitriliruptoraceae;Nitriliruptor;uncultured,5e-36,69831\n",
      "\n",
      "1126251,Bacteria;Actinobacteria;Actinobacteria;Acidimicrobiales;Acidimicrobineae;uncultured;uncultured,2e-53,98210\n",
      "\n",
      "New.ReferenceOTU11056,Bacteria;Actinobacteria;Actinobacteria;Acidimicrobiales;Acidimicrobineae;uncultured;uncultured,3e-46,96079\n",
      "\n",
      "New.ReferenceOTU33969,Bacteria;Actinobacteria;Actinobacteria;Nitriliruptorales;Nitriliruptoraceae;Nitriliruptor;uncultured,5e-39,65677\n",
      "\n",
      "818029,Bacteria;Actinobacteria;Actinobacteria;Acidimicrobiales;Acidimicrobineae;Acidimicrobiaceae;CL500-29,3e-49,18410\n",
      "\n",
      "3956472,Bacteria;Actinobacteria;Actinobacteria;Solirubrobacterales;Solirubrobacteriaceae;Solirubrobacter;uncultured,4e-52,26497\n",
      "\n",
      "New.ReferenceOTU63556,Bacteria;Actinobacteria;Actinobacteria;Nitriliruptorales;Nitriliruptoraceae;Nitriliruptor;uncultured,1e-33,65677\n",
      "\n",
      "New.ReferenceOTU56151,Bacteria;Actinobacteria;Actinobacteria;Acidimicrobiales;Acidimicrobineae;uncultured;uncultured,4e-52,57097\n",
      "\n",
      "New.ReferenceOTU22220,Bacteria;Actinobacteria;Actinobacteria;Bifidobacteriales;Bifidobacteriaceae;Bifidobacterium;Bifidobacterium,1e-54,31891\n",
      "\n",
      "4407603,Bacteria;Actinobacteria;Actinobacteria;Bifidobacteriales;Bifidobacteriaceae;Bifidobacterium;Bifidobacterium,9e-56,80847\n",
      "\n",
      "864395,Bacteria;Actinobacteria;Actinobacteria;Solirubrobacterales;Solirubrobacteriaceae;Solirubrobacter;uncultured,2e-53,26497\n",
      "\n",
      "471180,Bacteria;Actinobacteria;Actinobacteria;Bifidobacteriales;Bifidobacteriaceae;Bifidobacterium;Bifidobacterium,9e-56,76390\n",
      "\n",
      "New.ReferenceOTU70072,Bacteria;Actinobacteria;Actinobacteria;Actinomycetales;Frankineae;Nakamurellaceae;uncultured,3e-46,30225\n",
      "\n",
      "791123,Bacteria;Actinobacteria;Actinobacteria;Acidimicrobiales;Acidimicrobineae;uncultured;uncultured,1e-51,57097\n",
      "\n",
      "873887,Bacteria;Actinobacteria;Actinobacteria;Solirubrobacterales;Solirubrobacteriaceae;Solirubrobacter;uncultured,4e-52,68952\n",
      "\n",
      "New.ReferenceOTU19889,Bacteria;Actinobacteria;Actinobacteria;Actinomycetales;Micrococcineae;uncultured;uncultured,5e-45,96026\n",
      "\n",
      "435928,Bacteria;Actinobacteria;Actinobacteria;Actinomycetales;Micrococcineae;uncultured;uncultured,2e-53,48662\n",
      "\n",
      "823732,Bacteria;Actinobacteria;Actinobacteria;Actinomycetales;Frankineae;Sporichthyaceae;hgcI,4e-52,84549\n",
      "\n",
      "2148438,Bacteria;Actinobacteria;Actinobacteria;Solirubrobacterales;Patulibacteraceae;Patulibacter;Patulibacter,8e-44,105340\n",
      "\n",
      "New.ReferenceOTU68893,Bacteria;Actinobacteria;Actinobacteria;Actinomycetales;Corynebacterineae;uncultured;uncultured,1e-51,30745\n",
      "\n",
      "345107,Bacteria;Actinobacteria;Actinobacteria;Nitriliruptorales;Nitriliruptoraceae;Nitriliruptor;uncultured,9e-50,77763\n",
      "\n",
      "New.ReferenceOTU51639,Bacteria;Actinobacteria;Actinobacteria;Bifidobacteriales;Bifidobacteriaceae;Bifidobacterium;unidentified,1e-54,59812\n",
      "\n",
      "New.ReferenceOTU11465,Bacteria;Actinobacteria;Actinobacteria;Bifidobacteriales;Bifidobacteriaceae;Bifidobacterium;Bifidobacterium,1e-48,80847\n",
      "\n",
      "806107,Bacteria;Actinobacteria;Actinobacteria;Actinomycetales;Frankineae;Sporichthyaceae;hgcI,4e-52,46143\n",
      "\n",
      "New.ReferenceOTU8921,Bacteria;Actinobacteria;Actinobacteria;Acidimicrobiales;Acidimicrobineae;uncultured;uncultured,5e-48,98004\n",
      "\n",
      "New.ReferenceOTU60147,Bacteria;Actinobacteria;Actinobacteria;Actinomycetales;Frankineae;Nakamurellaceae;uncultured,5e-45,30225\n",
      "\n",
      "New.ReferenceOTU37927,Bacteria;Actinobacteria;Actinobacteria;Actinomycetales;Frankineae;Sporichthyaceae;hgcI,1e-48,17882\n",
      "\n",
      "New.ReferenceOTU16000,Bacteria;Actinobacteria;Actinobacteria;Solirubrobacterales;Solirubrobacteriaceae;Solirubrobacter;uncultured,9e-50,68952\n",
      "\n",
      "New.ReferenceOTU52050,Bacteria;Actinobacteria;Actinobacteria;Actinomycetales;Frankineae;uncultured;uncultured,3e-46,88874\n",
      "\n",
      "New.ReferenceOTU71512,Bacteria;Actinobacteria;Actinobacteria;Actinomycetales;Frankineae;uncultured;uncultured,5e-48,49330\n",
      "\n",
      "New.ReferenceOTU10116,Bacteria;Actinobacteria;Actinobacteria;Acidimicrobiales;Acidimicrobineae;uncultured;uncultured,6e-14,101762\n",
      "\n",
      "New.ReferenceOTU59004,Bacteria;Actinobacteria;Actinobacteria;Acidimicrobiales;Acidimicrobineae;uncultured;uncultured,1e-51,98004\n",
      "\n",
      "New.ReferenceOTU64330,Bacteria;Actinobacteria;Actinobacteria;Acidimicrobiales;Acidimicrobineae;uncultured;uncultured,2e-47,98004\n",
      "\n",
      "New.ReferenceOTU4332,Bacteria;Actinobacteria;Actinobacteria;Acidimicrobiales;Acidimicrobineae;uncultured;uncultured,2e-47,96079\n",
      "\n",
      "243420,Bacteria;Actinobacteria;Actinobacteria;Bifidobacteriales;Bifidobacteriaceae;Gardnerella;Gardnerella,9e-56,57595\n",
      "\n",
      "146122,Bacteria;Actinobacteria;Actinobacteria;Actinomycetales;Frankineae;Sporichthyaceae;Actinomycetales,1e-54,37781\n",
      "\n",
      "New.ReferenceOTU412,Bacteria;Actinobacteria;Actinobacteria;Actinomycetales;Micrococcineae;uncultured;uncultured,1e-48,96026\n",
      "\n",
      "New.ReferenceOTU22814,Bacteria;Actinobacteria;Actinobacteria;Bifidobacteriales;Bifidobacteriaceae;Bifidobacterium;Bifidobacterium,2e-53,107289\n",
      "\n",
      "341186,Bacteria;Actinobacteria;Actinobacteria;Actinomycetales;Frankineae;Sporichthyaceae;hgcI,5e-51,17882\n",
      "\n",
      "New.ReferenceOTU21395,Bacteria;Actinobacteria;Actinobacteria;Actinomycetales;Corynebacterineae;uncultured;uncultured,2e-47,48054\n",
      "\n",
      "977739,Bacteria;Actinobacteria;Actinobacteria;Actinomycetales;Corynebacterineae;uncultured;uncultured,1e-54,30745\n",
      "\n",
      "New.ReferenceOTU21392,Bacteria;Actinobacteria;Actinobacteria;Solirubrobacterales;Solirubrobacteriaceae;Solirubrobacter;uncultured,1e-51,68952\n",
      "\n",
      "New.ReferenceOTU81843,Bacteria;Actinobacteria;Actinobacteria;Actinomycetales;Frankineae;uncultured;uncultured,1e-45,83016\n",
      "\n",
      "New.ReferenceOTU11536,Bacteria;Actinobacteria;Actinobacteria;Actinomycetales;Frankineae;uncultured;uncultured,1e-42,82412\n",
      "\n",
      "New.ReferenceOTU56413,Bacteria;Actinobacteria;Actinobacteria;Acidimicrobiales;Acidimicrobineae;Acidimicrobiaceae;CL500-29,3e-12,99856\n",
      "\n",
      "532419,Bacteria;Actinobacteria;Actinobacteria;Actinomycetales;Micrococcineae;uncultured;uncultured,5e-45,96026\n",
      "\n",
      "959578,Bacteria;Actinobacteria;Actinobacteria;Acidimicrobiales;Acidimicrobineae;uncultured;uncultured,2e-47,67253\n",
      "\n",
      "757795,Bacteria;Actinobacteria;Actinobacteria;Solirubrobacterales;Patulibacteraceae;Patulibacter;uncultured,9e-50,97568\n",
      "\n",
      "New.ReferenceOTU76823,Bacteria;Actinobacteria;Actinobacteria;Acidimicrobiales;Acidimicrobineae;uncultured;uncultured,2e-44,7139\n",
      "\n",
      "376489,Bacteria;Actinobacteria;Actinobacteria;Actinomycetales;Corynebacterineae;uncultured;uncultured,6e-51,30745\n",
      "\n",
      "New.ReferenceOTU23716,Bacteria;Actinobacteria;Actinobacteria;Acidimicrobiales;Acidimicrobineae;uncultured;uncultured,6e-14,101762\n",
      "\n",
      "994823,Bacteria;Actinobacteria;Actinobacteria;Solirubrobacterales;Solirubrobacteriaceae;Solirubrobacter;uncultured,1e-51,24628\n",
      "\n",
      "984386,Bacteria;Actinobacteria;Actinobacteria;Acidimicrobiales;Acidimicrobineae;uncultured;uncultured,4e-52,96079\n",
      "\n",
      "513330,Bacteria;Actinobacteria;Actinobacteria;Actinomycetales;Frankineae;Sporichthyaceae;hgcI,5e-51,17882\n",
      "\n",
      "722085,Bacteria;Actinobacteria;Actinobacteria;Actinomycetales;Micrococcineae;Promicromonosporaceae;Cellulosimicrobium,2e-53,73108\n",
      "\n",
      "New.ReferenceOTU16508,Bacteria;Actinobacteria;Actinobacteria;Actinomycetales;Corynebacterineae;uncultured;uncultured,3e-40,93242\n",
      "\n",
      "1081178,Bacteria;Actinobacteria;Actinobacteria;Solirubrobacterales;Conexibacteraceae;Conexibacter;Conexibacter,6e-51,53059\n",
      "\n",
      "New.ReferenceOTU50737,Bacteria;Actinobacteria;Actinobacteria;Actinomycetales;Frankineae;Nakamurellaceae;uncultured,1e-45,30225\n",
      "\n",
      "1024739,Bacteria;Actinobacteria;Actinobacteria;Acidimicrobiales;Acidimicrobineae;Acidimicrobiaceae;CL500-29,9e-50,8240\n",
      "\n",
      "321598,Bacteria;Actinobacteria;Actinobacteria;Bifidobacteriales;Bifidobacteriaceae;Bifidobacterium;Bifidobacterium,2e-53,23585\n",
      "\n",
      "1138731,Bacteria;Actinobacteria;Actinobacteria;Solirubrobacterales;Patulibacteraceae;Patulibacter;uncultured,3e-46,97568\n",
      "\n",
      "813668,Bacteria;Actinobacteria;Actinobacteria;Actinomycetales;Frankineae;Sporichthyaceae;hgcI,1e-51,68077\n",
      "\n",
      "4478654,Bacteria;Actinobacteria;Actinobacteria;Acidimicrobiales;Acidimicrobineae;uncultured;uncultured,5e-51,37603\n",
      "\n",
      "New.ReferenceOTU77086,Bacteria;Actinobacteria;Actinobacteria;Actinomycetales;Micrococcineae;Micrococcaceae;Arthrobacter,3e-46,78933\n",
      "\n",
      "1134543,Bacteria;Actinobacteria;Actinobacteria;Actinomycetales;Frankineae;Sporichthyaceae;hgcI,1e-48,17882\n",
      "\n",
      "519902,Bacteria;Actinobacteria;Actinobacteria;Actinomycetales;Micrococcineae;Micrococcaceae;Kocuria,2e-53,97565\n",
      "\n",
      "576054,Bacteria;Actinobacteria;Actinobacteria;Acidimicrobiales;Acidimicrobineae;uncultured;uncultured,5e-51,84838\n",
      "\n",
      "190663,Bacteria;Actinobacteria;Actinobacteria;Actinomycetales;Kineosporiineae;Kineosporiaceae;uncultured,2e-50,18221\n",
      "\n",
      "New.ReferenceOTU6892,Bacteria;Actinobacteria;Actinobacteria;Actinomycetales;Frankineae;uncultured;uncultured,1e-42,82412\n",
      "\n",
      "New.ReferenceOTU57728,Bacteria;Actinobacteria;Actinobacteria;Acidimicrobiales;Acidimicrobineae;uncultured;uncultured,2e-38,44389\n",
      "\n",
      "New.ReferenceOTU28091,Bacteria;Actinobacteria;Actinobacteria;Acidimicrobiales;Acidimicrobineae;uncultured;uncultured,5e-45,7139\n",
      "\n",
      "New.ReferenceOTU45701,Bacteria;Actinobacteria;Actinobacteria;Bifidobacteriales;Bifidobacteriaceae;Bifidobacterium;uncultured,6e-54,73563\n",
      "\n",
      "New.ReferenceOTU81067,Bacteria;Actinobacteria;Actinobacteria;Acidimicrobiales;Acidimicrobineae;uncultured;uncultured,2e-47,7139\n",
      "\n",
      "New.ReferenceOTU30247,Bacteria;Actinobacteria;Actinobacteria;Nitriliruptorales;Nitriliruptoraceae;Nitriliruptor;uncultured,3e-46,77763\n",
      "\n",
      "New.ReferenceOTU42123,Bacteria;Actinobacteria;Actinobacteria;Nitriliruptorales;Nitriliruptoraceae;Nitriliruptor;marine,5e-45,11464\n",
      "\n",
      "350586,Bacteria;Actinobacteria;Actinobacteria;Actinomycetales;Frankineae;Sporichthyaceae;hgcI,2e-53,17882\n",
      "\n",
      "New.ReferenceOTU49813,Bacteria;Actinobacteria;Actinobacteria;Solirubrobacterales;Solirubrobacteriaceae;Solirubrobacter;bacterium,3e-49,104904\n",
      "\n",
      "573976,Bacteria;Actinobacteria;Actinobacteria;Actinomycetales;Corynebacterineae;uncultured;uncultured,4e-55,99588\n",
      "\n",
      "New.ReferenceOTU81760,Bacteria;Actinobacteria;Actinobacteria;Solirubrobacterales;Patulibacteraceae;Patulibacter;uncultured,2e-44,97568\n",
      "\n",
      "870223,Bacteria;Actinobacteria;Actinobacteria;Actinomycetales;Frankineae;Nakamurellaceae;uncultured,5e-51,30225\n",
      "\n",
      "New.ReferenceOTU33183,Bacteria;Actinobacteria;Actinobacteria;Acidimicrobiales;Acidimicrobineae;uncultured;uncultured,5e-48,84838\n",
      "\n",
      "New.ReferenceOTU4466,Bacteria;Actinobacteria;Actinobacteria;Actinomycetales;Micrococcineae;uncultured;uncultured,1e-45,96026\n",
      "\n",
      "778762,Bacteria;Actinobacteria;Actinobacteria;Solirubrobacterales;Patulibacteraceae;Patulibacter;Patulibacter,1e-54,105340\n",
      "\n",
      "216638,Bacteria;Actinobacteria;Actinobacteria;Acidimicrobiales;Acidimicrobineae;uncultured;uncultured,2e-53,87658\n",
      "\n",
      "535859,Bacteria;Actinobacteria;Actinobacteria;Acidimicrobiales;Acidimicrobineae;uncultured;uncultured,4e-52,24886\n",
      "\n",
      "New.ReferenceOTU60976,Bacteria;Actinobacteria;Actinobacteria;Acidimicrobiales;Acidimicrobineae;uncultured;uncultured,2e-41,7139\n",
      "\n",
      "New.ReferenceOTU16616,Bacteria;Actinobacteria;Actinobacteria;Actinomycetales;Micromonosporineae;Micromonosporaceae;uncultured,2e-50,33524\n",
      "\n",
      "New.ReferenceOTU69208,Bacteria;Actinobacteria;Actinobacteria;Acidimicrobiales;Acidimicrobineae;Acidimicrobiaceae;CL500-29,5e-48,8240\n",
      "\n",
      "New.ReferenceOTU25758,Bacteria;Actinobacteria;Actinobacteria;Actinomycetales;Corynebacterineae;uncultured;uncultured,8e-47,30745\n",
      "\n",
      "New.ReferenceOTU57540,Bacteria;Actinobacteria;Actinobacteria;Actinomycetales;Frankineae;Sporichthyaceae;hgcI,2e-10,89888\n",
      "\n",
      "New.ReferenceOTU12133,Bacteria;Actinobacteria;Actinobacteria;Solirubrobacterales;Patulibacteraceae;Patulibacter;Patulibacter,9e-53,105340\n",
      "\n",
      "New.ReferenceOTU29928,Bacteria;Actinobacteria;Actinobacteria;Acidimicrobiales;Acidimicrobineae;uncultured;uncultured,1e-48,57708\n",
      "\n",
      "New.ReferenceOTU71065,Bacteria;Actinobacteria;Actinobacteria;Actinomycetales;Corynebacterineae;Corynebacteriaceae;uncultured,1e-48,66086\n",
      "\n",
      "83120,Bacteria;Actinobacteria;Actinobacteria;Actinomycetales;Frankineae;uncultured;uncultured,9e-50,49330\n",
      "\n",
      "574727,Bacteria;Actinobacteria;Actinobacteria;Acidimicrobiales;Acidimicrobineae;uncultured;uncultured,2e-50,74485\n",
      "\n",
      "670475,Bacteria;Actinobacteria;Actinobacteria;Acidimicrobiales;Acidimicrobineae;Acidimicrobiaceae;CL500-29,2e-53,58634\n",
      "\n",
      "New.ReferenceOTU64887,Bacteria;Actinobacteria;Actinobacteria;Solirubrobacterales;Patulibacteraceae;Patulibacter;uncultured,2e-44,97568\n",
      "\n",
      "542933,Bacteria;Actinobacteria;Actinobacteria;Acidimicrobiales;Acidimicrobineae;uncultured;uncultured,4e-52,98210\n",
      "\n",
      "New.ReferenceOTU76941,Bacteria;Actinobacteria;Actinobacteria;Nitriliruptorales;Nitriliruptoraceae;Nitriliruptor;uncultured,1e-45,31577\n",
      "\n",
      "New.ReferenceOTU3722,Bacteria;Actinobacteria;Actinobacteria;Actinomycetales;Micrococcineae;Micrococcaceae;Zhihengliuella,8e-44,38519\n",
      "\n",
      "New.ReferenceOTU39730,Bacteria;Actinobacteria;Actinobacteria;Acidimicrobiales;Acidimicrobineae;Acidimicrobiaceae;CL500-29,3e-49,58634\n",
      "\n",
      "New.ReferenceOTU63173,Bacteria;Actinobacteria;Actinobacteria;Actinomycetales;Micrococcineae;Demequina;uncultured,4e-18,3154\n",
      "\n",
      "New.ReferenceOTU24903,Bacteria;Actinobacteria;Actinobacteria;Nitriliruptorales;Nitriliruptoraceae;Nitriliruptor;uncultured,5e-48,77763\n",
      "\n",
      "151523,Bacteria;Actinobacteria;Actinobacteria;Actinomycetales;Micrococcineae;uncultured;uncultured,1e-54,96026\n",
      "\n",
      "128390,Bacteria;Actinobacteria;Actinobacteria;Actinomycetales;Corynebacterineae;uncultured;uncultured,1e-48,30745\n",
      "\n",
      "1081618,Bacteria;Actinobacteria;Actinobacteria;Solirubrobacterales;Solirubrobacteriaceae;Solirubrobacter;uncultured,1e-54,24628\n",
      "\n",
      "828576,Bacteria;Actinobacteria;Actinobacteria;Nitriliruptorales;Nitriliruptoraceae;Nitriliruptor;uncultured,7e-38,85631\n",
      "\n",
      "New.ReferenceOTU9749,Bacteria;Actinobacteria;Actinobacteria;Bifidobacteriales;Bifidobacteriaceae;Gardnerella;Gardnerella,2e-53,57595\n",
      "\n",
      "946344,Bacteria;Actinobacteria;Actinobacteria;Solirubrobacterales;Solirubrobacteriaceae;Solirubrobacter;uncultured,5e-42,97739\n",
      "\n",
      "New.ReferenceOTU33081,Bacteria;Actinobacteria;Actinobacteria;Acidimicrobiales;Acidimicrobineae;uncultured;uncultured,2e-19,87658\n",
      "\n",
      "New.ReferenceOTU69039,Bacteria;Actinobacteria;Actinobacteria;Solirubrobacterales;Solirubrobacteriaceae;Solirubrobacter;uncultured,2e-50,41022\n",
      "\n",
      "New.ReferenceOTU79944,Bacteria;Actinobacteria;Actinobacteria;Nitriliruptorales;Nitriliruptoraceae;Nitriliruptor;uncultured,7e-38,91237\n",
      "\n",
      "4407475,Bacteria;Actinobacteria;Actinobacteria;Actinomycetales;Micrococcineae;Demequina;uncultured,4e-52,10728\n",
      "\n",
      "New.ReferenceOTU64657,Bacteria;Actinobacteria;Actinobacteria;Actinomycetales;Propionibacterineae;Propionibacteriaceae;uncultured,1e-42,78189\n",
      "\n",
      "376876,Bacteria;Actinobacteria;Actinobacteria;Actinomycetales;Corynebacterineae;Corynebacteriaceae;uncultured,2e-50,66086\n",
      "\n",
      "New.ReferenceOTU7749,Bacteria;Actinobacteria;Actinobacteria;Actinomycetales;Frankineae;Sporichthyaceae;hgcI,5e-48,84549\n",
      "\n",
      "New.ReferenceOTU9168,Bacteria;Actinobacteria;Actinobacteria;Acidimicrobiales;Acidimicrobineae;Acidimicrobiaceae;CL500-29,3e-12,99856\n",
      "\n",
      "4411875,Bacteria;Actinobacteria;Actinobacteria;Bifidobacteriales;Bifidobacteriaceae;Scardovia;Scardovia,9e-50,62339\n",
      "\n",
      "304089,Bacteria;Actinobacteria;Actinobacteria;Solirubrobacterales;Patulibacteraceae;Patulibacter;uncultured,2e-53,81926\n",
      "\n",
      "New.ReferenceOTU4471,Bacteria;Actinobacteria;Actinobacteria;Actinomycetales;Frankineae;Nakamurellaceae;uncultured,5e-45,30225\n",
      "\n",
      "575533,Bacteria;Actinobacteria;Actinobacteria;Acidimicrobiales;Acidimicrobineae;uncultured;uncultured,9e-56,57790\n",
      "\n",
      "New.ReferenceOTU25100,Bacteria;Actinobacteria;Actinobacteria;Actinomycetales;Corynebacterineae;uncultured;uncultured,3e-46,30745\n",
      "\n",
      "New.ReferenceOTU38283,Bacteria;Actinobacteria;Actinobacteria;Actinomycetales;Frankineae;uncultured;uncultured,3e-49,83016\n",
      "\n",
      "New.ReferenceOTU19937,Bacteria;Actinobacteria;Actinobacteria;Actinomycetales;Micrococcineae;uncultured;uncultured,9e-53,48662\n",
      "\n",
      "347849,Bacteria;Actinobacteria;Actinobacteria;Nitriliruptorales;Nitriliruptoraceae;Nitriliruptor;uncultured,5e-51,77763\n",
      "\n",
      "New.ReferenceOTU32380,Bacteria;Actinobacteria;Actinobacteria;Acidimicrobiales;Acidimicrobineae;uncultured;uncultured,1e-45,96079\n",
      "\n"
     ]
    }
   ],
   "source": [
    "for line in f:\n",
    "    scount=line.count(';')\n",
    "    if scount==6:\n",
    "        o.write(line)\n",
    "    elif 0<=scount<6:\n",
    "        groups=line.split(',')\n",
    "        lineplus=','.join(groups[:2])+''.join([';']*(6-scount))+','+ ','.join(groups[2:])\n",
    "        o.write(lineplus)  \n",
    "    else:\n",
    "        groups2=line.split(';')\n",
    "        if \"Myxococcales\" in line: \n",
    "            lineplus=';'.join(groups2[:4])+ ';'+';'.join(groups2[5:])\n",
    "            o.write(lineplus) \n",
    "        elif scount==8:\n",
    "            lineplus=';'.join(groups2[:3])+';'+(groups2[4])+';'+ ';'.join(groups2[6:])\n",
    "            o.write(lineplus) \n",
    "        else:\n",
    "            lineplus=';'.join(groups2[:3])+';'+ ';'.join(groups2[4:])\n",
    "            o.write(lineplus) \n",
    "            print(lineplus)\n",
    "o.close()\n",
    "    "
   ]
  },
  {
   "cell_type": "code",
   "execution_count": 190,
   "metadata": {
    "collapsed": false
   },
   "outputs": [
    {
     "name": "stdout",
     "output_type": "stream",
     "text": [
      "['Acidimicrobiaceae', 'Ilumatobacter', 'actinobacterium,9e-50,5750\\n']\n"
     ]
    }
   ],
   "source": [
    "print(groups2[6:])"
   ]
  },
  {
   "cell_type": "code",
   "execution_count": 197,
   "metadata": {
    "collapsed": false
   },
   "outputs": [
    {
     "name": "stdout",
     "output_type": "stream",
     "text": [
      "   97933 /Users/sarahgignoux-wolfsohn/Documents/SD1/SD1_otus_97/SD1_otus_97_tax/SD1_otus_97_silva/rep_set_tax_assignments_silva_clean.csv\r\n"
     ]
    }
   ],
   "source": [
    "!wc -l /Users/sarahgignoux-wolfsohn/Documents/SD1/SD1_otus_97/SD1_otus_97_tax/SD1_otus_97_silva/rep_set_tax_assignments_silva_clean.csv"
   ]
  },
  {
   "cell_type": "code",
   "execution_count": 198,
   "metadata": {
    "collapsed": false
   },
   "outputs": [
    {
     "name": "stdout",
     "output_type": "stream",
     "text": [
      "   97933 /Users/sarahgignoux-wolfsohn/Documents/SD1/SD1_otus_97/SD1_otus_97_tax/SD1_otus_97_silva/rep_set_tax_assignments_silva.csv\r\n"
     ]
    }
   ],
   "source": [
    "!wc -l /Users/sarahgignoux-wolfsohn/Documents/SD1/SD1_otus_97/SD1_otus_97_tax/SD1_otus_97_silva/rep_set_tax_assignments_silva.csv"
   ]
  },
  {
   "cell_type": "code",
   "execution_count": 199,
   "metadata": {
    "collapsed": false
   },
   "outputs": [
    {
     "name": "stdout",
     "output_type": "stream",
     "text": [
      "New.CleanUp.ReferenceOTU10536,Bacteria;Proteobacteria;Gammaproteobacteria;Vibrionales;Vibrionaceae;Vibrio;Vibrio,9e-50,48135\r\n",
      "New.ReferenceOTU32526,Bacteria;Proteobacteria;Alphaproteobacteria;Rhodobacterales;Rhodobacteraceae;uncultured;alpha,3e-46,45702\r\n",
      "New.ReferenceOTU32527,Bacteria;Proteobacteria;Deltaproteobacteria;Myxococcales;JG37-AG-15;uncultured;,5e-30,8174\r\n",
      "New.ReferenceOTU32524,Bacteria;Bacteroidetes;Flavobacteria;Flavobacteriales;Flavobacteriaceae;uncultured;Xanthobacillum,2e-47,56234\r\n",
      "New.ReferenceOTU32525,Bacteria;Bacteroidetes;Flavobacteria;Flavobacteriales;Flavobacteriaceae;Winogradskyella;uncultured,3e-49,80635\r\n",
      "370251,Bacteria;Proteobacteria;Gammaproteobacteria;Oceanospirillales;Hahellaceae;Endozoicomonas;uncultured,1e-51,62387\r\n",
      "New.ReferenceOTU32523,Bacteria;Proteobacteria;Gammaproteobacteria;Legionellales;Legionellaceae;Legionella;uncultured,8e-44,42767\r\n",
      "New.ReferenceOTU32520,Bacteria;Proteobacteria;Mariprofundus;uncultured;;;,2e-32,14394\r\n",
      "New.ReferenceOTU32521,Bacteria;Proteobacteria;Gammaproteobacteria;Oceanospirillales;Hahellaceae;Endozoicomonas;uncultured,1e-48,62387\r\n",
      "New.ReferenceOTU32528,Bacteria;Chloroflexi;P2-11E;uncultured;;;,2e-14,104753\r\n"
     ]
    }
   ],
   "source": [
    "!head /Users/sarahgignoux-wolfsohn/Documents/SD1/SD1_otus_97/SD1_otus_97_tax/SD1_otus_97_silva/rep_set_tax_assignments_silva_clean.csv"
   ]
  },
  {
   "cell_type": "code",
   "execution_count": 200,
   "metadata": {
    "collapsed": false
   },
   "outputs": [],
   "source": [
    "!sed 's/;/,/g' /Users/sarahgignoux-wolfsohn/Documents/SD1/SD1_otus_97/SD1_otus_97_tax/SD1_otus_97_silva/rep_set_tax_assignments_silva_clean.csv > /Users/sarahgignoux-wolfsohn/Documents/SD1/SD1_otus_97/SD1_otus_97_tax/SD1_otus_97_silva/rep_set_tax_assignments_silva_clean2.csv"
   ]
  },
  {
   "cell_type": "code",
   "execution_count": 201,
   "metadata": {
    "collapsed": false
   },
   "outputs": [
    {
     "name": "stdout",
     "output_type": "stream",
     "text": [
      "New.CleanUp.ReferenceOTU10536,Bacteria,Proteobacteria,Gammaproteobacteria,Vibrionales,Vibrionaceae,Vibrio,Vibrio,9e-50,48135\r\n",
      "New.ReferenceOTU32526,Bacteria,Proteobacteria,Alphaproteobacteria,Rhodobacterales,Rhodobacteraceae,uncultured,alpha,3e-46,45702\r\n",
      "New.ReferenceOTU32527,Bacteria,Proteobacteria,Deltaproteobacteria,Myxococcales,JG37-AG-15,uncultured,,5e-30,8174\r\n",
      "New.ReferenceOTU32524,Bacteria,Bacteroidetes,Flavobacteria,Flavobacteriales,Flavobacteriaceae,uncultured,Xanthobacillum,2e-47,56234\r\n",
      "New.ReferenceOTU32525,Bacteria,Bacteroidetes,Flavobacteria,Flavobacteriales,Flavobacteriaceae,Winogradskyella,uncultured,3e-49,80635\r\n",
      "370251,Bacteria,Proteobacteria,Gammaproteobacteria,Oceanospirillales,Hahellaceae,Endozoicomonas,uncultured,1e-51,62387\r\n",
      "New.ReferenceOTU32523,Bacteria,Proteobacteria,Gammaproteobacteria,Legionellales,Legionellaceae,Legionella,uncultured,8e-44,42767\r\n",
      "New.ReferenceOTU32520,Bacteria,Proteobacteria,Mariprofundus,uncultured,,,,2e-32,14394\r\n",
      "New.ReferenceOTU32521,Bacteria,Proteobacteria,Gammaproteobacteria,Oceanospirillales,Hahellaceae,Endozoicomonas,uncultured,1e-48,62387\r\n",
      "New.ReferenceOTU32528,Bacteria,Chloroflexi,P2-11E,uncultured,,,,2e-14,104753\r\n"
     ]
    }
   ],
   "source": [
    "!head /Users/sarahgignoux-wolfsohn/Documents/SD1/SD1_otus_97/SD1_otus_97_tax/SD1_otus_97_silva/rep_set_tax_assignments_silva_clean2.csv"
   ]
  },
  {
   "cell_type": "code",
   "execution_count": 4,
   "metadata": {
    "collapsed": false
   },
   "outputs": [
    {
     "name": "stdout",
     "output_type": "stream",
     "text": [
      "/bin/sh: -c: line 0: syntax error near unexpected token `('\r\n",
      "/bin/sh: -c: line 0: `which pandas()'\r\n"
     ]
    }
   ],
   "source": []
  },
  {
   "cell_type": "code",
   "execution_count": null,
   "metadata": {
    "collapsed": true
   },
   "outputs": [],
   "source": []
  }
 ],
 "metadata": {
  "kernelspec": {
   "display_name": "Python 3",
   "language": "python",
   "name": "python3"
  },
  "language_info": {
   "codemirror_mode": {
    "name": "ipython",
    "version": 3
   },
   "file_extension": ".py",
   "mimetype": "text/x-python",
   "name": "python",
   "nbconvert_exporter": "python",
   "pygments_lexer": "ipython3",
   "version": "3.4.3"
  }
 },
 "nbformat": 4,
 "nbformat_minor": 0
}
