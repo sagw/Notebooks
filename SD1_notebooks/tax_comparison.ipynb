{
 "cells": [
  {
   "cell_type": "code",
   "execution_count": 14,
   "metadata": {
    "collapsed": true
   },
   "outputs": [],
   "source": [
    "import pandas as pd"
   ]
  },
  {
   "cell_type": "code",
   "execution_count": 30,
   "metadata": {
    "collapsed": false
   },
   "outputs": [],
   "source": [
    "import numpy as np"
   ]
  },
  {
   "cell_type": "code",
   "execution_count": 92,
   "metadata": {
    "collapsed": true
   },
   "outputs": [],
   "source": [
    "gg=pd.read_csv('/Users/sarahgignoux-wolfsohn/Documents/SD1/SD1_analyses/tax_comparison/gg_tax.csv', sep=',')"
   ]
  },
  {
   "cell_type": "code",
   "execution_count": 93,
   "metadata": {
    "collapsed": false
   },
   "outputs": [
    {
     "data": {
      "text/html": [
       "<div>\n",
       "<table border=\"1\" class=\"dataframe\">\n",
       "  <thead>\n",
       "    <tr style=\"text-align: right;\">\n",
       "      <th></th>\n",
       "      <th>OTUID</th>\n",
       "      <th>kingdom</th>\n",
       "      <th>phylum</th>\n",
       "      <th>c</th>\n",
       "      <th>order</th>\n",
       "      <th>family</th>\n",
       "      <th>genus</th>\n",
       "      <th>species</th>\n",
       "    </tr>\n",
       "  </thead>\n",
       "  <tbody>\n",
       "    <tr>\n",
       "      <th>0</th>\n",
       "      <td>1395</td>\n",
       "      <td>Bacteria</td>\n",
       "      <td>[Thermi]</td>\n",
       "      <td>Deinococci</td>\n",
       "      <td>Thermales</td>\n",
       "      <td>Thermaceae</td>\n",
       "      <td>Meiothermus</td>\n",
       "      <td>NaN</td>\n",
       "    </tr>\n",
       "    <tr>\n",
       "      <th>1</th>\n",
       "      <td>1422</td>\n",
       "      <td>Bacteria</td>\n",
       "      <td>[Thermi]</td>\n",
       "      <td>Deinococci</td>\n",
       "      <td>Deinococcales</td>\n",
       "      <td>Deinococcaceae</td>\n",
       "      <td>Deinococcus</td>\n",
       "      <td>NaN</td>\n",
       "    </tr>\n",
       "    <tr>\n",
       "      <th>2</th>\n",
       "      <td>1940</td>\n",
       "      <td>Bacteria</td>\n",
       "      <td>Bacteroidetes</td>\n",
       "      <td>Bacteroidia</td>\n",
       "      <td>Bacteroidales</td>\n",
       "      <td>Porphyromonadaceae</td>\n",
       "      <td>Porphyromonas</td>\n",
       "      <td>endodontalis</td>\n",
       "    </tr>\n",
       "    <tr>\n",
       "      <th>3</th>\n",
       "      <td>2255</td>\n",
       "      <td>Bacteria</td>\n",
       "      <td>Bacteroidetes</td>\n",
       "      <td>Flavobacteriia</td>\n",
       "      <td>Flavobacteriales</td>\n",
       "      <td>Cryomorphaceae</td>\n",
       "      <td>Fluviicola</td>\n",
       "      <td>NaN</td>\n",
       "    </tr>\n",
       "    <tr>\n",
       "      <th>4</th>\n",
       "      <td>2325</td>\n",
       "      <td>Bacteria</td>\n",
       "      <td>Bacteroidetes</td>\n",
       "      <td>Flavobacteriia</td>\n",
       "      <td>Flavobacteriales</td>\n",
       "      <td>Flavobacteriaceae</td>\n",
       "      <td>Flavobacterium</td>\n",
       "      <td>NaN</td>\n",
       "    </tr>\n",
       "    <tr>\n",
       "      <th>5</th>\n",
       "      <td>2358</td>\n",
       "      <td>Bacteria</td>\n",
       "      <td>Bacteroidetes</td>\n",
       "      <td>Flavobacteriia</td>\n",
       "      <td>Flavobacteriales</td>\n",
       "      <td>Flavobacteriaceae</td>\n",
       "      <td>Tenacibaculum</td>\n",
       "      <td>maritimum</td>\n",
       "    </tr>\n",
       "    <tr>\n",
       "      <th>6</th>\n",
       "      <td>2540</td>\n",
       "      <td>Bacteria</td>\n",
       "      <td>Bacteroidetes</td>\n",
       "      <td>[Saprospirae]</td>\n",
       "      <td>[Saprospirales]</td>\n",
       "      <td>Saprospiraceae</td>\n",
       "      <td>NaN</td>\n",
       "      <td>NaN</td>\n",
       "    </tr>\n",
       "    <tr>\n",
       "      <th>7</th>\n",
       "      <td>2568</td>\n",
       "      <td>Bacteria</td>\n",
       "      <td>Bacteroidetes</td>\n",
       "      <td>Cytophagia</td>\n",
       "      <td>Cytophagales</td>\n",
       "      <td>Flammeovirgaceae</td>\n",
       "      <td>Flexithrix</td>\n",
       "      <td>NaN</td>\n",
       "    </tr>\n",
       "    <tr>\n",
       "      <th>8</th>\n",
       "      <td>2573</td>\n",
       "      <td>Bacteria</td>\n",
       "      <td>Bacteroidetes</td>\n",
       "      <td>Cytophagia</td>\n",
       "      <td>Cytophagales</td>\n",
       "      <td>Flammeovirgaceae</td>\n",
       "      <td>Persicobacter</td>\n",
       "      <td>diffluens</td>\n",
       "    </tr>\n",
       "    <tr>\n",
       "      <th>9</th>\n",
       "      <td>2648</td>\n",
       "      <td>Bacteria</td>\n",
       "      <td>Bacteroidetes</td>\n",
       "      <td>[Rhodothermi]</td>\n",
       "      <td>[Rhodothermales]</td>\n",
       "      <td>Rhodothermaceae</td>\n",
       "      <td>NaN</td>\n",
       "      <td>NaN</td>\n",
       "    </tr>\n",
       "    <tr>\n",
       "      <th>10</th>\n",
       "      <td>2777</td>\n",
       "      <td>Bacteria</td>\n",
       "      <td>Planctomycetes</td>\n",
       "      <td>Planctomycetia</td>\n",
       "      <td>Pirellulales</td>\n",
       "      <td>Pirellulaceae</td>\n",
       "      <td>NaN</td>\n",
       "      <td>NaN</td>\n",
       "    </tr>\n",
       "    <tr>\n",
       "      <th>11</th>\n",
       "      <td>2787</td>\n",
       "      <td>Bacteria</td>\n",
       "      <td>Planctomycetes</td>\n",
       "      <td>Planctomycetia</td>\n",
       "      <td>Pirellulales</td>\n",
       "      <td>Pirellulaceae</td>\n",
       "      <td>NaN</td>\n",
       "      <td>NaN</td>\n",
       "    </tr>\n",
       "    <tr>\n",
       "      <th>12</th>\n",
       "      <td>2793</td>\n",
       "      <td>Bacteria</td>\n",
       "      <td>Planctomycetes</td>\n",
       "      <td>Planctomycetia</td>\n",
       "      <td>Pirellulales</td>\n",
       "      <td>Pirellulaceae</td>\n",
       "      <td>NaN</td>\n",
       "      <td>NaN</td>\n",
       "    </tr>\n",
       "    <tr>\n",
       "      <th>13</th>\n",
       "      <td>2813</td>\n",
       "      <td>Bacteria</td>\n",
       "      <td>Planctomycetes</td>\n",
       "      <td>Planctomycetia</td>\n",
       "      <td>Pirellulales</td>\n",
       "      <td>Pirellulaceae</td>\n",
       "      <td>planctomycete</td>\n",
       "      <td>DWL3I2</td>\n",
       "    </tr>\n",
       "    <tr>\n",
       "      <th>14</th>\n",
       "      <td>2818</td>\n",
       "      <td>Bacteria</td>\n",
       "      <td>Planctomycetes</td>\n",
       "      <td>Planctomycetia</td>\n",
       "      <td>Pirellulales</td>\n",
       "      <td>Pirellulaceae</td>\n",
       "      <td>NaN</td>\n",
       "      <td>NaN</td>\n",
       "    </tr>\n",
       "    <tr>\n",
       "      <th>15</th>\n",
       "      <td>2860</td>\n",
       "      <td>Bacteria</td>\n",
       "      <td>Planctomycetes</td>\n",
       "      <td>Planctomycetia</td>\n",
       "      <td>Planctomycetales</td>\n",
       "      <td>Planctomycetaceae</td>\n",
       "      <td>Planctomyces</td>\n",
       "      <td>NaN</td>\n",
       "    </tr>\n",
       "    <tr>\n",
       "      <th>16</th>\n",
       "      <td>3208</td>\n",
       "      <td>Bacteria</td>\n",
       "      <td>Cyanobacteria</td>\n",
       "      <td>Oscillatoriophycideae</td>\n",
       "      <td>Chroococcales</td>\n",
       "      <td>Xenococcaceae</td>\n",
       "      <td>Xenococcus</td>\n",
       "      <td>NaN</td>\n",
       "    </tr>\n",
       "    <tr>\n",
       "      <th>17</th>\n",
       "      <td>3450</td>\n",
       "      <td>Bacteria</td>\n",
       "      <td>Cyanobacteria</td>\n",
       "      <td>Chloroplast</td>\n",
       "      <td>Cercozoa</td>\n",
       "      <td>Chlorarachniophyceae</td>\n",
       "      <td>Chlorarachnion</td>\n",
       "      <td>reptans</td>\n",
       "    </tr>\n",
       "    <tr>\n",
       "      <th>18</th>\n",
       "      <td>3907</td>\n",
       "      <td>Bacteria</td>\n",
       "      <td>Spirochaetes</td>\n",
       "      <td>Spirochaetes</td>\n",
       "      <td>Spirochaetales</td>\n",
       "      <td>Spirochaetaceae</td>\n",
       "      <td>Treponema</td>\n",
       "      <td>NaN</td>\n",
       "    </tr>\n",
       "    <tr>\n",
       "      <th>19</th>\n",
       "      <td>3931</td>\n",
       "      <td>Bacteria</td>\n",
       "      <td>Spirochaetes</td>\n",
       "      <td>Spirochaetes</td>\n",
       "      <td>Spirochaetales</td>\n",
       "      <td>Spirochaetaceae</td>\n",
       "      <td>Treponema</td>\n",
       "      <td>NaN</td>\n",
       "    </tr>\n",
       "    <tr>\n",
       "      <th>20</th>\n",
       "      <td>4597</td>\n",
       "      <td>Bacteria</td>\n",
       "      <td>Proteobacteria</td>\n",
       "      <td>Alphaproteobacteria</td>\n",
       "      <td>Rhodospirillales</td>\n",
       "      <td>Rhodospirillaceae</td>\n",
       "      <td>NaN</td>\n",
       "      <td>NaN</td>\n",
       "    </tr>\n",
       "    <tr>\n",
       "      <th>21</th>\n",
       "      <td>4681</td>\n",
       "      <td>Bacteria</td>\n",
       "      <td>Proteobacteria</td>\n",
       "      <td>Alphaproteobacteria</td>\n",
       "      <td>Rhodospirillales</td>\n",
       "      <td>Rhodospirillaceae</td>\n",
       "      <td>NaN</td>\n",
       "      <td>NaN</td>\n",
       "    </tr>\n",
       "    <tr>\n",
       "      <th>22</th>\n",
       "      <td>4816</td>\n",
       "      <td>Bacteria</td>\n",
       "      <td>Proteobacteria</td>\n",
       "      <td>Alphaproteobacteria</td>\n",
       "      <td>Rhizobiales</td>\n",
       "      <td>NaN</td>\n",
       "      <td>NaN</td>\n",
       "      <td>NaN</td>\n",
       "    </tr>\n",
       "    <tr>\n",
       "      <th>23</th>\n",
       "      <td>5158</td>\n",
       "      <td>Bacteria</td>\n",
       "      <td>Proteobacteria</td>\n",
       "      <td>Alphaproteobacteria</td>\n",
       "      <td>Rhizobiales</td>\n",
       "      <td>Methylobacteriaceae</td>\n",
       "      <td>NaN</td>\n",
       "      <td>NaN</td>\n",
       "    </tr>\n",
       "    <tr>\n",
       "      <th>24</th>\n",
       "      <td>5266</td>\n",
       "      <td>Bacteria</td>\n",
       "      <td>Proteobacteria</td>\n",
       "      <td>Alphaproteobacteria</td>\n",
       "      <td>Rhizobiales</td>\n",
       "      <td>Rhizobiaceae</td>\n",
       "      <td>Agrobacterium</td>\n",
       "      <td>NaN</td>\n",
       "    </tr>\n",
       "    <tr>\n",
       "      <th>25</th>\n",
       "      <td>5441</td>\n",
       "      <td>Bacteria</td>\n",
       "      <td>Proteobacteria</td>\n",
       "      <td>Alphaproteobacteria</td>\n",
       "      <td>Rhizobiales</td>\n",
       "      <td>Rhizobiaceae</td>\n",
       "      <td>Agrobacterium</td>\n",
       "      <td>undicola</td>\n",
       "    </tr>\n",
       "    <tr>\n",
       "      <th>26</th>\n",
       "      <td>5683</td>\n",
       "      <td>Bacteria</td>\n",
       "      <td>Proteobacteria</td>\n",
       "      <td>Alphaproteobacteria</td>\n",
       "      <td>Rhodobacterales</td>\n",
       "      <td>Rhodobacteraceae</td>\n",
       "      <td>Phaeobacter</td>\n",
       "      <td>NaN</td>\n",
       "    </tr>\n",
       "    <tr>\n",
       "      <th>27</th>\n",
       "      <td>5808</td>\n",
       "      <td>Bacteria</td>\n",
       "      <td>Proteobacteria</td>\n",
       "      <td>Alphaproteobacteria</td>\n",
       "      <td>Rhodobacterales</td>\n",
       "      <td>Rhodobacteraceae</td>\n",
       "      <td>Amaricoccus</td>\n",
       "      <td>NaN</td>\n",
       "    </tr>\n",
       "    <tr>\n",
       "      <th>28</th>\n",
       "      <td>7619</td>\n",
       "      <td>Bacteria</td>\n",
       "      <td>Proteobacteria</td>\n",
       "      <td>Gammaproteobacteria</td>\n",
       "      <td>Chromatiales</td>\n",
       "      <td>NaN</td>\n",
       "      <td>NaN</td>\n",
       "      <td>NaN</td>\n",
       "    </tr>\n",
       "    <tr>\n",
       "      <th>29</th>\n",
       "      <td>7620</td>\n",
       "      <td>Bacteria</td>\n",
       "      <td>Proteobacteria</td>\n",
       "      <td>Gammaproteobacteria</td>\n",
       "      <td>Thiohalorhabdales</td>\n",
       "      <td>NaN</td>\n",
       "      <td>NaN</td>\n",
       "      <td>NaN</td>\n",
       "    </tr>\n",
       "    <tr>\n",
       "      <th>...</th>\n",
       "      <td>...</td>\n",
       "      <td>...</td>\n",
       "      <td>...</td>\n",
       "      <td>...</td>\n",
       "      <td>...</td>\n",
       "      <td>...</td>\n",
       "      <td>...</td>\n",
       "      <td>...</td>\n",
       "    </tr>\n",
       "    <tr>\n",
       "      <th>97903</th>\n",
       "      <td>New.ReferenceOTU9972</td>\n",
       "      <td>Bacteria</td>\n",
       "      <td>Proteobacteria</td>\n",
       "      <td>Epsilonproteobacteria</td>\n",
       "      <td>Campylobacterales</td>\n",
       "      <td>Campylobacteraceae</td>\n",
       "      <td>Arcobacter</td>\n",
       "      <td>NaN</td>\n",
       "    </tr>\n",
       "    <tr>\n",
       "      <th>97904</th>\n",
       "      <td>New.ReferenceOTU9973</td>\n",
       "      <td>Bacteria</td>\n",
       "      <td>Bacteroidetes</td>\n",
       "      <td>Flavobacteriia</td>\n",
       "      <td>Flavobacteriales</td>\n",
       "      <td>Flavobacteriaceae</td>\n",
       "      <td>Polaribacter</td>\n",
       "      <td>NaN</td>\n",
       "    </tr>\n",
       "    <tr>\n",
       "      <th>97905</th>\n",
       "      <td>New.ReferenceOTU9974</td>\n",
       "      <td>Bacteria</td>\n",
       "      <td>Proteobacteria</td>\n",
       "      <td>Gammaproteobacteria</td>\n",
       "      <td>Oceanospirillales</td>\n",
       "      <td>Oceanospirillaceae</td>\n",
       "      <td>NaN</td>\n",
       "      <td>NaN</td>\n",
       "    </tr>\n",
       "    <tr>\n",
       "      <th>97906</th>\n",
       "      <td>New.ReferenceOTU9975</td>\n",
       "      <td>Bacteria</td>\n",
       "      <td>Proteobacteria</td>\n",
       "      <td>Gammaproteobacteria</td>\n",
       "      <td>Alteromonadales</td>\n",
       "      <td>Colwelliaceae</td>\n",
       "      <td>NaN</td>\n",
       "      <td>NaN</td>\n",
       "    </tr>\n",
       "    <tr>\n",
       "      <th>97907</th>\n",
       "      <td>New.ReferenceOTU9976</td>\n",
       "      <td>Bacteria</td>\n",
       "      <td>Proteobacteria</td>\n",
       "      <td>Gammaproteobacteria</td>\n",
       "      <td>Alteromonadales</td>\n",
       "      <td>Alteromonadaceae</td>\n",
       "      <td>NaN</td>\n",
       "      <td>NaN</td>\n",
       "    </tr>\n",
       "    <tr>\n",
       "      <th>97908</th>\n",
       "      <td>New.ReferenceOTU9977</td>\n",
       "      <td>Bacteria</td>\n",
       "      <td>Proteobacteria</td>\n",
       "      <td>Gammaproteobacteria</td>\n",
       "      <td>Vibrionales</td>\n",
       "      <td>Pseudoalteromonadaceae</td>\n",
       "      <td>Pseudoalteromonas</td>\n",
       "      <td>NaN</td>\n",
       "    </tr>\n",
       "    <tr>\n",
       "      <th>97909</th>\n",
       "      <td>New.ReferenceOTU9978</td>\n",
       "      <td>Bacteria</td>\n",
       "      <td>Cyanobacteria</td>\n",
       "      <td>Synechococcophycideae</td>\n",
       "      <td>Pseudanabaenales</td>\n",
       "      <td>Pseudanabaenaceae</td>\n",
       "      <td>Leptolyngbya</td>\n",
       "      <td>NaN</td>\n",
       "    </tr>\n",
       "    <tr>\n",
       "      <th>97910</th>\n",
       "      <td>New.ReferenceOTU9979</td>\n",
       "      <td>Bacteria</td>\n",
       "      <td>Proteobacteria</td>\n",
       "      <td>Betaproteobacteria</td>\n",
       "      <td>Burkholderiales</td>\n",
       "      <td>Comamonadaceae</td>\n",
       "      <td>Delftia</td>\n",
       "      <td>NaN</td>\n",
       "    </tr>\n",
       "    <tr>\n",
       "      <th>97911</th>\n",
       "      <td>New.ReferenceOTU998</td>\n",
       "      <td>Bacteria</td>\n",
       "      <td>Proteobacteria</td>\n",
       "      <td>Gammaproteobacteria</td>\n",
       "      <td>Oceanospirillales</td>\n",
       "      <td>Oceanospirillaceae</td>\n",
       "      <td>Oleibacter</td>\n",
       "      <td>NaN</td>\n",
       "    </tr>\n",
       "    <tr>\n",
       "      <th>97912</th>\n",
       "      <td>New.ReferenceOTU9980</td>\n",
       "      <td>Noblasthit</td>\n",
       "      <td>None</td>\n",
       "      <td>None</td>\n",
       "      <td>NaN</td>\n",
       "      <td>NaN</td>\n",
       "      <td>NaN</td>\n",
       "      <td>NaN</td>\n",
       "    </tr>\n",
       "    <tr>\n",
       "      <th>97913</th>\n",
       "      <td>New.ReferenceOTU9981</td>\n",
       "      <td>Bacteria</td>\n",
       "      <td>Proteobacteria</td>\n",
       "      <td>Gammaproteobacteria</td>\n",
       "      <td>Legionellales</td>\n",
       "      <td>NaN</td>\n",
       "      <td>NaN</td>\n",
       "      <td>NaN</td>\n",
       "    </tr>\n",
       "    <tr>\n",
       "      <th>97914</th>\n",
       "      <td>New.ReferenceOTU9982</td>\n",
       "      <td>Bacteria</td>\n",
       "      <td>Proteobacteria</td>\n",
       "      <td>Gammaproteobacteria</td>\n",
       "      <td>Chromatiales</td>\n",
       "      <td>NaN</td>\n",
       "      <td>NaN</td>\n",
       "      <td>NaN</td>\n",
       "    </tr>\n",
       "    <tr>\n",
       "      <th>97915</th>\n",
       "      <td>New.ReferenceOTU9983</td>\n",
       "      <td>Bacteria</td>\n",
       "      <td>Bacteroidetes</td>\n",
       "      <td>Flavobacteriia</td>\n",
       "      <td>Flavobacteriales</td>\n",
       "      <td>Flavobacteriaceae</td>\n",
       "      <td>Flavobacterium</td>\n",
       "      <td>NaN</td>\n",
       "    </tr>\n",
       "    <tr>\n",
       "      <th>97916</th>\n",
       "      <td>New.ReferenceOTU9984</td>\n",
       "      <td>Noblasthit</td>\n",
       "      <td>None</td>\n",
       "      <td>None</td>\n",
       "      <td>NaN</td>\n",
       "      <td>NaN</td>\n",
       "      <td>NaN</td>\n",
       "      <td>NaN</td>\n",
       "    </tr>\n",
       "    <tr>\n",
       "      <th>97917</th>\n",
       "      <td>New.ReferenceOTU9985</td>\n",
       "      <td>Noblasthit</td>\n",
       "      <td>None</td>\n",
       "      <td>None</td>\n",
       "      <td>NaN</td>\n",
       "      <td>NaN</td>\n",
       "      <td>NaN</td>\n",
       "      <td>NaN</td>\n",
       "    </tr>\n",
       "    <tr>\n",
       "      <th>97918</th>\n",
       "      <td>New.ReferenceOTU9986</td>\n",
       "      <td>Bacteria</td>\n",
       "      <td>Proteobacteria</td>\n",
       "      <td>Gammaproteobacteria</td>\n",
       "      <td>Alteromonadales</td>\n",
       "      <td>NaN</td>\n",
       "      <td>NaN</td>\n",
       "      <td>NaN</td>\n",
       "    </tr>\n",
       "    <tr>\n",
       "      <th>97919</th>\n",
       "      <td>New.ReferenceOTU9987</td>\n",
       "      <td>Bacteria</td>\n",
       "      <td>Proteobacteria</td>\n",
       "      <td>Gammaproteobacteria</td>\n",
       "      <td>Oceanospirillales</td>\n",
       "      <td>Endozoicimonaceae</td>\n",
       "      <td>NaN</td>\n",
       "      <td>NaN</td>\n",
       "    </tr>\n",
       "    <tr>\n",
       "      <th>97920</th>\n",
       "      <td>New.ReferenceOTU9988</td>\n",
       "      <td>Bacteria</td>\n",
       "      <td>Bacteroidetes</td>\n",
       "      <td>Flavobacteriia</td>\n",
       "      <td>Flavobacteriales</td>\n",
       "      <td>Flavobacteriaceae</td>\n",
       "      <td>Flavobacterium</td>\n",
       "      <td>NaN</td>\n",
       "    </tr>\n",
       "    <tr>\n",
       "      <th>97921</th>\n",
       "      <td>New.ReferenceOTU9989</td>\n",
       "      <td>Bacteria</td>\n",
       "      <td>Proteobacteria</td>\n",
       "      <td>Alphaproteobacteria</td>\n",
       "      <td>BD7-3</td>\n",
       "      <td>NaN</td>\n",
       "      <td>NaN</td>\n",
       "      <td>NaN</td>\n",
       "    </tr>\n",
       "    <tr>\n",
       "      <th>97922</th>\n",
       "      <td>New.ReferenceOTU999</td>\n",
       "      <td>Bacteria</td>\n",
       "      <td>Proteobacteria</td>\n",
       "      <td>Gammaproteobacteria</td>\n",
       "      <td>[Marinicellales]</td>\n",
       "      <td>[Marinicellaceae]</td>\n",
       "      <td>NaN</td>\n",
       "      <td>NaN</td>\n",
       "    </tr>\n",
       "    <tr>\n",
       "      <th>97923</th>\n",
       "      <td>New.ReferenceOTU9990</td>\n",
       "      <td>Bacteria</td>\n",
       "      <td>Proteobacteria</td>\n",
       "      <td>Alphaproteobacteria</td>\n",
       "      <td>Rhodobacterales</td>\n",
       "      <td>Rhodobacteraceae</td>\n",
       "      <td>Thalassobius</td>\n",
       "      <td>mediterraneus</td>\n",
       "    </tr>\n",
       "    <tr>\n",
       "      <th>97924</th>\n",
       "      <td>New.ReferenceOTU9991</td>\n",
       "      <td>Bacteria</td>\n",
       "      <td>Proteobacteria</td>\n",
       "      <td>Gammaproteobacteria</td>\n",
       "      <td>Enterobacteriales</td>\n",
       "      <td>Enterobacteriaceae</td>\n",
       "      <td>NaN</td>\n",
       "      <td>NaN</td>\n",
       "    </tr>\n",
       "    <tr>\n",
       "      <th>97925</th>\n",
       "      <td>New.ReferenceOTU9992</td>\n",
       "      <td>Noblasthit</td>\n",
       "      <td>None</td>\n",
       "      <td>None</td>\n",
       "      <td>NaN</td>\n",
       "      <td>NaN</td>\n",
       "      <td>NaN</td>\n",
       "      <td>NaN</td>\n",
       "    </tr>\n",
       "    <tr>\n",
       "      <th>97926</th>\n",
       "      <td>New.ReferenceOTU9993</td>\n",
       "      <td>Bacteria</td>\n",
       "      <td>Proteobacteria</td>\n",
       "      <td>Gammaproteobacteria</td>\n",
       "      <td>Alteromonadales</td>\n",
       "      <td>Colwelliaceae</td>\n",
       "      <td>NaN</td>\n",
       "      <td>NaN</td>\n",
       "    </tr>\n",
       "    <tr>\n",
       "      <th>97927</th>\n",
       "      <td>New.ReferenceOTU9994</td>\n",
       "      <td>Bacteria</td>\n",
       "      <td>Bacteroidetes</td>\n",
       "      <td>Flavobacteriia</td>\n",
       "      <td>Flavobacteriales</td>\n",
       "      <td>Flavobacteriaceae</td>\n",
       "      <td>Mesonia</td>\n",
       "      <td>NaN</td>\n",
       "    </tr>\n",
       "    <tr>\n",
       "      <th>97928</th>\n",
       "      <td>New.ReferenceOTU9995</td>\n",
       "      <td>Bacteria</td>\n",
       "      <td>Bacteroidetes</td>\n",
       "      <td>Flavobacteriia</td>\n",
       "      <td>Flavobacteriales</td>\n",
       "      <td>Flavobacteriaceae</td>\n",
       "      <td>NaN</td>\n",
       "      <td>NaN</td>\n",
       "    </tr>\n",
       "    <tr>\n",
       "      <th>97929</th>\n",
       "      <td>New.ReferenceOTU9996</td>\n",
       "      <td>Noblasthit</td>\n",
       "      <td>None</td>\n",
       "      <td>None</td>\n",
       "      <td>NaN</td>\n",
       "      <td>NaN</td>\n",
       "      <td>NaN</td>\n",
       "      <td>NaN</td>\n",
       "    </tr>\n",
       "    <tr>\n",
       "      <th>97930</th>\n",
       "      <td>New.ReferenceOTU9997</td>\n",
       "      <td>Bacteria</td>\n",
       "      <td>Proteobacteria</td>\n",
       "      <td>Gammaproteobacteria</td>\n",
       "      <td>Enterobacteriales</td>\n",
       "      <td>Enterobacteriaceae</td>\n",
       "      <td>NaN</td>\n",
       "      <td>NaN</td>\n",
       "    </tr>\n",
       "    <tr>\n",
       "      <th>97931</th>\n",
       "      <td>New.ReferenceOTU9998</td>\n",
       "      <td>Bacteria</td>\n",
       "      <td>Proteobacteria</td>\n",
       "      <td>Epsilonproteobacteria</td>\n",
       "      <td>Campylobacterales</td>\n",
       "      <td>Campylobacteraceae</td>\n",
       "      <td>Arcobacter</td>\n",
       "      <td>cryaerophilus</td>\n",
       "    </tr>\n",
       "    <tr>\n",
       "      <th>97932</th>\n",
       "      <td>New.ReferenceOTU9999</td>\n",
       "      <td>Bacteria</td>\n",
       "      <td>GN02</td>\n",
       "      <td>NaN</td>\n",
       "      <td>NaN</td>\n",
       "      <td>NaN</td>\n",
       "      <td>NaN</td>\n",
       "      <td>NaN</td>\n",
       "    </tr>\n",
       "  </tbody>\n",
       "</table>\n",
       "<p>97933 rows × 8 columns</p>\n",
       "</div>"
      ],
      "text/plain": [
       "                      OTUID     kingdom          phylum  \\\n",
       "0                      1395    Bacteria        [Thermi]   \n",
       "1                      1422    Bacteria        [Thermi]   \n",
       "2                      1940    Bacteria   Bacteroidetes   \n",
       "3                      2255    Bacteria   Bacteroidetes   \n",
       "4                      2325    Bacteria   Bacteroidetes   \n",
       "5                      2358    Bacteria   Bacteroidetes   \n",
       "6                      2540    Bacteria   Bacteroidetes   \n",
       "7                      2568    Bacteria   Bacteroidetes   \n",
       "8                      2573    Bacteria   Bacteroidetes   \n",
       "9                      2648    Bacteria   Bacteroidetes   \n",
       "10                     2777    Bacteria  Planctomycetes   \n",
       "11                     2787    Bacteria  Planctomycetes   \n",
       "12                     2793    Bacteria  Planctomycetes   \n",
       "13                     2813    Bacteria  Planctomycetes   \n",
       "14                     2818    Bacteria  Planctomycetes   \n",
       "15                     2860    Bacteria  Planctomycetes   \n",
       "16                     3208    Bacteria   Cyanobacteria   \n",
       "17                     3450    Bacteria   Cyanobacteria   \n",
       "18                     3907    Bacteria    Spirochaetes   \n",
       "19                     3931    Bacteria    Spirochaetes   \n",
       "20                     4597    Bacteria  Proteobacteria   \n",
       "21                     4681    Bacteria  Proteobacteria   \n",
       "22                     4816    Bacteria  Proteobacteria   \n",
       "23                     5158    Bacteria  Proteobacteria   \n",
       "24                     5266    Bacteria  Proteobacteria   \n",
       "25                     5441    Bacteria  Proteobacteria   \n",
       "26                     5683    Bacteria  Proteobacteria   \n",
       "27                     5808    Bacteria  Proteobacteria   \n",
       "28                     7619    Bacteria  Proteobacteria   \n",
       "29                     7620    Bacteria  Proteobacteria   \n",
       "...                     ...         ...             ...   \n",
       "97903  New.ReferenceOTU9972    Bacteria  Proteobacteria   \n",
       "97904  New.ReferenceOTU9973    Bacteria   Bacteroidetes   \n",
       "97905  New.ReferenceOTU9974    Bacteria  Proteobacteria   \n",
       "97906  New.ReferenceOTU9975    Bacteria  Proteobacteria   \n",
       "97907  New.ReferenceOTU9976    Bacteria  Proteobacteria   \n",
       "97908  New.ReferenceOTU9977    Bacteria  Proteobacteria   \n",
       "97909  New.ReferenceOTU9978    Bacteria   Cyanobacteria   \n",
       "97910  New.ReferenceOTU9979    Bacteria  Proteobacteria   \n",
       "97911   New.ReferenceOTU998    Bacteria  Proteobacteria   \n",
       "97912  New.ReferenceOTU9980  Noblasthit            None   \n",
       "97913  New.ReferenceOTU9981    Bacteria  Proteobacteria   \n",
       "97914  New.ReferenceOTU9982    Bacteria  Proteobacteria   \n",
       "97915  New.ReferenceOTU9983    Bacteria   Bacteroidetes   \n",
       "97916  New.ReferenceOTU9984  Noblasthit            None   \n",
       "97917  New.ReferenceOTU9985  Noblasthit            None   \n",
       "97918  New.ReferenceOTU9986    Bacteria  Proteobacteria   \n",
       "97919  New.ReferenceOTU9987    Bacteria  Proteobacteria   \n",
       "97920  New.ReferenceOTU9988    Bacteria   Bacteroidetes   \n",
       "97921  New.ReferenceOTU9989    Bacteria  Proteobacteria   \n",
       "97922   New.ReferenceOTU999    Bacteria  Proteobacteria   \n",
       "97923  New.ReferenceOTU9990    Bacteria  Proteobacteria   \n",
       "97924  New.ReferenceOTU9991    Bacteria  Proteobacteria   \n",
       "97925  New.ReferenceOTU9992  Noblasthit            None   \n",
       "97926  New.ReferenceOTU9993    Bacteria  Proteobacteria   \n",
       "97927  New.ReferenceOTU9994    Bacteria   Bacteroidetes   \n",
       "97928  New.ReferenceOTU9995    Bacteria   Bacteroidetes   \n",
       "97929  New.ReferenceOTU9996  Noblasthit            None   \n",
       "97930  New.ReferenceOTU9997    Bacteria  Proteobacteria   \n",
       "97931  New.ReferenceOTU9998    Bacteria  Proteobacteria   \n",
       "97932  New.ReferenceOTU9999    Bacteria            GN02   \n",
       "\n",
       "                           c              order                  family  \\\n",
       "0                 Deinococci          Thermales              Thermaceae   \n",
       "1                 Deinococci      Deinococcales          Deinococcaceae   \n",
       "2                Bacteroidia      Bacteroidales      Porphyromonadaceae   \n",
       "3             Flavobacteriia   Flavobacteriales          Cryomorphaceae   \n",
       "4             Flavobacteriia   Flavobacteriales       Flavobacteriaceae   \n",
       "5             Flavobacteriia   Flavobacteriales       Flavobacteriaceae   \n",
       "6              [Saprospirae]    [Saprospirales]          Saprospiraceae   \n",
       "7                 Cytophagia       Cytophagales        Flammeovirgaceae   \n",
       "8                 Cytophagia       Cytophagales        Flammeovirgaceae   \n",
       "9              [Rhodothermi]   [Rhodothermales]         Rhodothermaceae   \n",
       "10            Planctomycetia       Pirellulales           Pirellulaceae   \n",
       "11            Planctomycetia       Pirellulales           Pirellulaceae   \n",
       "12            Planctomycetia       Pirellulales           Pirellulaceae   \n",
       "13            Planctomycetia       Pirellulales           Pirellulaceae   \n",
       "14            Planctomycetia       Pirellulales           Pirellulaceae   \n",
       "15            Planctomycetia   Planctomycetales       Planctomycetaceae   \n",
       "16     Oscillatoriophycideae      Chroococcales           Xenococcaceae   \n",
       "17               Chloroplast           Cercozoa    Chlorarachniophyceae   \n",
       "18              Spirochaetes     Spirochaetales         Spirochaetaceae   \n",
       "19              Spirochaetes     Spirochaetales         Spirochaetaceae   \n",
       "20       Alphaproteobacteria   Rhodospirillales       Rhodospirillaceae   \n",
       "21       Alphaproteobacteria   Rhodospirillales       Rhodospirillaceae   \n",
       "22       Alphaproteobacteria        Rhizobiales                     NaN   \n",
       "23       Alphaproteobacteria        Rhizobiales     Methylobacteriaceae   \n",
       "24       Alphaproteobacteria        Rhizobiales            Rhizobiaceae   \n",
       "25       Alphaproteobacteria        Rhizobiales            Rhizobiaceae   \n",
       "26       Alphaproteobacteria    Rhodobacterales        Rhodobacteraceae   \n",
       "27       Alphaproteobacteria    Rhodobacterales        Rhodobacteraceae   \n",
       "28       Gammaproteobacteria       Chromatiales                     NaN   \n",
       "29       Gammaproteobacteria  Thiohalorhabdales                     NaN   \n",
       "...                      ...                ...                     ...   \n",
       "97903  Epsilonproteobacteria  Campylobacterales      Campylobacteraceae   \n",
       "97904         Flavobacteriia   Flavobacteriales       Flavobacteriaceae   \n",
       "97905    Gammaproteobacteria  Oceanospirillales      Oceanospirillaceae   \n",
       "97906    Gammaproteobacteria    Alteromonadales           Colwelliaceae   \n",
       "97907    Gammaproteobacteria    Alteromonadales        Alteromonadaceae   \n",
       "97908    Gammaproteobacteria        Vibrionales  Pseudoalteromonadaceae   \n",
       "97909  Synechococcophycideae   Pseudanabaenales       Pseudanabaenaceae   \n",
       "97910     Betaproteobacteria    Burkholderiales          Comamonadaceae   \n",
       "97911    Gammaproteobacteria  Oceanospirillales      Oceanospirillaceae   \n",
       "97912                   None                NaN                     NaN   \n",
       "97913    Gammaproteobacteria      Legionellales                     NaN   \n",
       "97914    Gammaproteobacteria       Chromatiales                     NaN   \n",
       "97915         Flavobacteriia   Flavobacteriales       Flavobacteriaceae   \n",
       "97916                   None                NaN                     NaN   \n",
       "97917                   None                NaN                     NaN   \n",
       "97918    Gammaproteobacteria    Alteromonadales                     NaN   \n",
       "97919    Gammaproteobacteria  Oceanospirillales       Endozoicimonaceae   \n",
       "97920         Flavobacteriia   Flavobacteriales       Flavobacteriaceae   \n",
       "97921    Alphaproteobacteria              BD7-3                     NaN   \n",
       "97922    Gammaproteobacteria   [Marinicellales]       [Marinicellaceae]   \n",
       "97923    Alphaproteobacteria    Rhodobacterales        Rhodobacteraceae   \n",
       "97924    Gammaproteobacteria  Enterobacteriales      Enterobacteriaceae   \n",
       "97925                   None                NaN                     NaN   \n",
       "97926    Gammaproteobacteria    Alteromonadales           Colwelliaceae   \n",
       "97927         Flavobacteriia   Flavobacteriales       Flavobacteriaceae   \n",
       "97928         Flavobacteriia   Flavobacteriales       Flavobacteriaceae   \n",
       "97929                   None                NaN                     NaN   \n",
       "97930    Gammaproteobacteria  Enterobacteriales      Enterobacteriaceae   \n",
       "97931  Epsilonproteobacteria  Campylobacterales      Campylobacteraceae   \n",
       "97932                    NaN                NaN                     NaN   \n",
       "\n",
       "                   genus        species  \n",
       "0            Meiothermus            NaN  \n",
       "1            Deinococcus            NaN  \n",
       "2          Porphyromonas   endodontalis  \n",
       "3             Fluviicola            NaN  \n",
       "4         Flavobacterium            NaN  \n",
       "5          Tenacibaculum      maritimum  \n",
       "6                    NaN            NaN  \n",
       "7             Flexithrix            NaN  \n",
       "8          Persicobacter      diffluens  \n",
       "9                    NaN            NaN  \n",
       "10                   NaN            NaN  \n",
       "11                   NaN            NaN  \n",
       "12                   NaN            NaN  \n",
       "13         planctomycete         DWL3I2  \n",
       "14                   NaN            NaN  \n",
       "15          Planctomyces            NaN  \n",
       "16            Xenococcus            NaN  \n",
       "17        Chlorarachnion        reptans  \n",
       "18             Treponema            NaN  \n",
       "19             Treponema            NaN  \n",
       "20                   NaN            NaN  \n",
       "21                   NaN            NaN  \n",
       "22                   NaN            NaN  \n",
       "23                   NaN            NaN  \n",
       "24         Agrobacterium            NaN  \n",
       "25         Agrobacterium       undicola  \n",
       "26           Phaeobacter            NaN  \n",
       "27           Amaricoccus            NaN  \n",
       "28                   NaN            NaN  \n",
       "29                   NaN            NaN  \n",
       "...                  ...            ...  \n",
       "97903         Arcobacter            NaN  \n",
       "97904       Polaribacter            NaN  \n",
       "97905                NaN            NaN  \n",
       "97906                NaN            NaN  \n",
       "97907                NaN            NaN  \n",
       "97908  Pseudoalteromonas            NaN  \n",
       "97909       Leptolyngbya            NaN  \n",
       "97910            Delftia            NaN  \n",
       "97911         Oleibacter            NaN  \n",
       "97912                NaN            NaN  \n",
       "97913                NaN            NaN  \n",
       "97914                NaN            NaN  \n",
       "97915     Flavobacterium            NaN  \n",
       "97916                NaN            NaN  \n",
       "97917                NaN            NaN  \n",
       "97918                NaN            NaN  \n",
       "97919                NaN            NaN  \n",
       "97920     Flavobacterium            NaN  \n",
       "97921                NaN            NaN  \n",
       "97922                NaN            NaN  \n",
       "97923       Thalassobius  mediterraneus  \n",
       "97924                NaN            NaN  \n",
       "97925                NaN            NaN  \n",
       "97926                NaN            NaN  \n",
       "97927            Mesonia            NaN  \n",
       "97928                NaN            NaN  \n",
       "97929                NaN            NaN  \n",
       "97930                NaN            NaN  \n",
       "97931         Arcobacter  cryaerophilus  \n",
       "97932                NaN            NaN  \n",
       "\n",
       "[97933 rows x 8 columns]"
      ]
     },
     "execution_count": 93,
     "metadata": {},
     "output_type": "execute_result"
    }
   ],
   "source": [
    "gg"
   ]
  },
  {
   "cell_type": "code",
   "execution_count": 130,
   "metadata": {
    "collapsed": false
   },
   "outputs": [],
   "source": [
    "gg=gg.replace(['Noblasthit','None'], ['none', 'none'])"
   ]
  },
  {
   "cell_type": "code",
   "execution_count": 131,
   "metadata": {
    "collapsed": false
   },
   "outputs": [],
   "source": [
    "gg=gg.fillna('none')"
   ]
  },
  {
   "cell_type": "code",
   "execution_count": 165,
   "metadata": {
    "collapsed": false
   },
   "outputs": [
    {
     "data": {
      "text/plain": [
       "none                     91617\n",
       "poriferorum                699\n",
       "cryaerophilus              412\n",
       "caesariensis               350\n",
       "italica                    298\n",
       "mediterraneus              221\n",
       "ruthenica                  221\n",
       "pectinivorans              185\n",
       "caeruleus                  168\n",
       "acnes                      160\n",
       "marisrubri                 146\n",
       "parainfluenzae             138\n",
       "sediminis                  116\n",
       "qiaohouensis                99\n",
       "thalassocola                94\n",
       "gallaeciensis               85\n",
       "turnerae                    81\n",
       "phyci                       78\n",
       "enterica                    78\n",
       "hydrocarbonoclasticus       77\n",
       "maritimum                   72\n",
       "agilis                      64\n",
       "angustum                    61\n",
       "fortis                      59\n",
       "chejuensis                  57\n",
       "scottomollicae              55\n",
       "copepodicola                47\n",
       "piscicida                   44\n",
       "oryzae                      44\n",
       "salaria                     41\n",
       "                         ...  \n",
       "fragi                        1\n",
       "moabensis                    1\n",
       "blattae                      1\n",
       "cicadellinicola              1\n",
       "superstes                    1\n",
       "moniliformis                 1\n",
       "vacuolatus                   1\n",
       "undicola                     1\n",
       "melopsittaci                 1\n",
       "bacteriovorus                1\n",
       "salsilacus                   1\n",
       "zeaxanthinifaciens           1\n",
       "insecticola                  1\n",
       "harbinensis                  1\n",
       "sericea                      1\n",
       "dabanensis                   1\n",
       "acanthamoebae                1\n",
       "salinarum                    1\n",
       "punicea                      1\n",
       "cowanii                      1\n",
       "delphinicola                 1\n",
       "stationis                    1\n",
       "chalcea                      1\n",
       "asini                        1\n",
       "proteamaculans               1\n",
       "pacificus                    1\n",
       "skyensis                     1\n",
       "nasiphocae                   1\n",
       "influenzae                   1\n",
       "Iso18                        1\n",
       "Name: species, dtype: int64"
      ]
     },
     "execution_count": 165,
     "metadata": {},
     "output_type": "execute_result"
    }
   ],
   "source": [
    "gg.species.value_counts()"
   ]
  },
  {
   "cell_type": "code",
   "execution_count": 133,
   "metadata": {
    "collapsed": true
   },
   "outputs": [],
   "source": [
    "s=pd.read_csv('/Users/sarahgignoux-wolfsohn/Documents/SD1/SD1_analyses/tax_comparison/silva_tax.csv', sep=',')"
   ]
  },
  {
   "cell_type": "code",
   "execution_count": 134,
   "metadata": {
    "collapsed": false
   },
   "outputs": [],
   "source": [
    "s=s.fillna('none')"
   ]
  },
  {
   "cell_type": "code",
   "execution_count": 135,
   "metadata": {
    "collapsed": false
   },
   "outputs": [],
   "source": [
    "s=s.replace(['No'], ['none'])"
   ]
  },
  {
   "cell_type": "code",
   "execution_count": 158,
   "metadata": {
    "collapsed": false
   },
   "outputs": [
    {
     "data": {
      "text/plain": [
       "Bacteria     90156\n",
       "none          7769\n",
       "Archaea          7\n",
       "Eukaryota        1\n",
       "Name: kingdom, dtype: int64"
      ]
     },
     "execution_count": 158,
     "metadata": {},
     "output_type": "execute_result"
    }
   ],
   "source": [
    "s.kingdom.value_counts()"
   ]
  },
  {
   "cell_type": "code",
   "execution_count": 137,
   "metadata": {
    "collapsed": false
   },
   "outputs": [],
   "source": [
    "comparison=s==gg"
   ]
  },
  {
   "cell_type": "code",
   "execution_count": 138,
   "metadata": {
    "collapsed": false
   },
   "outputs": [
    {
     "name": "stdout",
     "output_type": "stream",
     "text": [
      "      OTUID kingdom phylum      c  order family  genus species\n",
      "0      True    True  False  False  False  False   True    True\n",
      "1      True    True  False  False  False  False   True    True\n",
      "2      True    True   True   True   True   True   True   False\n",
      "3      True    True   True  False   True   True   True   False\n",
      "4      True    True   True  False   True   True   True   False\n",
      "5      True    True   True  False   True   True   True   False\n",
      "6      True    True   True  False  False   True  False   False\n",
      "7      True    True   True  False  False   True   True   False\n",
      "8      True    True   True  False  False   True   True   False\n",
      "9      True    True   True  False  False   True  False   False\n",
      "10     True    True   True  False  False  False  False   False\n",
      "11     True    True   True  False  False  False  False   False\n",
      "12     True    True   True  False  False  False  False   False\n",
      "13     True    True   True  False  False  False  False   False\n",
      "14     True    True   True  False  False  False  False    True\n",
      "15     True    True   True  False   True   True   True   False\n",
      "16     True    True   True  False  False  False  False    True\n",
      "17     True    True   True   True  False  False  False   False\n",
      "18     True    True   True   True   True   True   True   False\n",
      "19     True    True   True   True   True   True   True   False\n",
      "20     True    True   True   True   True   True  False   False\n",
      "21     True    True   True   True  False  False  False    True\n",
      "22     True    True   True   True   True  False  False   False\n",
      "23     True    True   True   True   True  False  False   False\n",
      "24     True    True   True   True   True   True  False   False\n",
      "25     True    True   True   True   True   True  False   False\n",
      "26     True    True   True   True   True   True  False   False\n",
      "27     True    True   True   True   True   True   True   False\n",
      "28     True    True   True   True  False  False   True    True\n",
      "29     True    True   True   True  False  False   True    True\n",
      "...     ...     ...    ...    ...    ...    ...    ...     ...\n",
      "97903  True    True   True   True   True   True   True   False\n",
      "97904  True    True   True  False   True   True   True   False\n",
      "97905  True    True   True   True  False  False  False   False\n",
      "97906  True    True   True   True   True   True  False   False\n",
      "97907  True    True   True   True   True   True  False   False\n",
      "97908  True    True   True   True  False   True   True   False\n",
      "97909  True    True   True  False  False  False  False    True\n",
      "97910  True    True   True   True   True   True  False   False\n",
      "97911  True    True   True   True   True   True  False    True\n",
      "97912  True    True   True   True   True   True   True    True\n",
      "97913  True    True   True   True  False  False  False    True\n",
      "97914  True    True   True  False  False   True   True    True\n",
      "97915  True    True   True  False   True   True   True   False\n",
      "97916  True    True   True   True   True   True   True    True\n",
      "97917  True    True   True   True   True   True   True    True\n",
      "97918  True    True   True   True   True  False  False    True\n",
      "97919  True    True   True   True   True  False  False   False\n",
      "97920  True    True   True  False   True   True   True   False\n",
      "97921  True    True   True   True  False  False   True    True\n",
      "97922  True    True   True   True  False  False   True    True\n",
      "97923  True    True   True  False  False  False  False   False\n",
      "97924  True    True   True   True   True   True  False   False\n",
      "97925  True    True   True   True   True   True   True    True\n",
      "97926  True    True   True   True   True   True  False   False\n",
      "97927  True    True   True  False   True   True  False   False\n",
      "97928  True    True   True  False   True   True  False   False\n",
      "97929  True    True   True   True   True   True   True    True\n",
      "97930  True    True   True   True   True   True  False   False\n",
      "97931  True    True   True   True   True   True   True   False\n",
      "97932  True    True  False  False  False  False  False   False\n",
      "\n",
      "[97933 rows x 8 columns]\n"
     ]
    }
   ],
   "source": [
    "print(comparison)"
   ]
  },
  {
   "cell_type": "code",
   "execution_count": 83,
   "metadata": {
    "collapsed": false
   },
   "outputs": [],
   "source": [
    "location=np.where(comparison==False)"
   ]
  },
  {
   "cell_type": "code",
   "execution_count": 84,
   "metadata": {
    "collapsed": false
   },
   "outputs": [
    {
     "name": "stdout",
     "output_type": "stream",
     "text": [
      "(array([    0,     0,     0, ..., 97932, 97932, 97932]), array([2, 3, 4, ..., 5, 6, 7]))\n"
     ]
    }
   ],
   "source": [
    "print(location)"
   ]
  },
  {
   "cell_type": "code",
   "execution_count": 139,
   "metadata": {
    "collapsed": false,
    "scrolled": true
   },
   "outputs": [
    {
     "data": {
      "text/plain": [
       "True     97878\n",
       "False       55\n",
       "Name: kingdom, dtype: int64"
      ]
     },
     "execution_count": 139,
     "metadata": {},
     "output_type": "execute_result"
    }
   ],
   "source": [
    "comparison.kingdom.value_counts()"
   ]
  },
  {
   "cell_type": "code",
   "execution_count": 147,
   "metadata": {
    "collapsed": false
   },
   "outputs": [
    {
     "data": {
      "text/plain": [
       "0.999438391553409"
      ]
     },
     "execution_count": 147,
     "metadata": {},
     "output_type": "execute_result"
    }
   ],
   "source": [
    "97878/97933"
   ]
  },
  {
   "cell_type": "code",
   "execution_count": 141,
   "metadata": {
    "collapsed": false
   },
   "outputs": [
    {
     "data": {
      "text/plain": [
       "True     94047\n",
       "False     3886\n",
       "Name: phylum, dtype: int64"
      ]
     },
     "execution_count": 141,
     "metadata": {},
     "output_type": "execute_result"
    }
   ],
   "source": [
    "comparison.phylum.value_counts()"
   ]
  },
  {
   "cell_type": "code",
   "execution_count": 148,
   "metadata": {
    "collapsed": false
   },
   "outputs": [
    {
     "data": {
      "text/plain": [
       "0.9603198104826769"
      ]
     },
     "execution_count": 148,
     "metadata": {},
     "output_type": "execute_result"
    }
   ],
   "source": [
    "94047/97933"
   ]
  },
  {
   "cell_type": "code",
   "execution_count": 149,
   "metadata": {
    "collapsed": false
   },
   "outputs": [
    {
     "data": {
      "text/plain": [
       "True     73573\n",
       "False    24360\n",
       "Name: c, dtype: int64"
      ]
     },
     "execution_count": 149,
     "metadata": {},
     "output_type": "execute_result"
    }
   ],
   "source": [
    "comparison.c.value_counts()"
   ]
  },
  {
   "cell_type": "code",
   "execution_count": 151,
   "metadata": {
    "collapsed": false
   },
   "outputs": [
    {
     "data": {
      "text/plain": [
       "0.7512585134734971"
      ]
     },
     "execution_count": 151,
     "metadata": {},
     "output_type": "execute_result"
    }
   ],
   "source": [
    "73573/97933"
   ]
  },
  {
   "cell_type": "code",
   "execution_count": 152,
   "metadata": {
    "collapsed": false
   },
   "outputs": [
    {
     "data": {
      "text/plain": [
       "True     65390\n",
       "False    32543\n",
       "Name: order, dtype: int64"
      ]
     },
     "execution_count": 152,
     "metadata": {},
     "output_type": "execute_result"
    }
   ],
   "source": [
    "comparison.order.value_counts()"
   ]
  },
  {
   "cell_type": "code",
   "execution_count": 104,
   "metadata": {
    "collapsed": false
   },
   "outputs": [
    {
     "data": {
      "text/plain": [
       "0.6677013876834162"
      ]
     },
     "execution_count": 104,
     "metadata": {},
     "output_type": "execute_result"
    }
   ],
   "source": [
    "65390/97933"
   ]
  },
  {
   "cell_type": "code",
   "execution_count": 144,
   "metadata": {
    "collapsed": false
   },
   "outputs": [
    {
     "data": {
      "text/plain": [
       "True     56408\n",
       "False    41525\n",
       "Name: family, dtype: int64"
      ]
     },
     "execution_count": 144,
     "metadata": {},
     "output_type": "execute_result"
    }
   ],
   "source": [
    "comparison.family.value_counts()"
   ]
  },
  {
   "cell_type": "code",
   "execution_count": 105,
   "metadata": {
    "collapsed": false
   },
   "outputs": [
    {
     "data": {
      "text/plain": [
       "0.5759856228237673"
      ]
     },
     "execution_count": 105,
     "metadata": {},
     "output_type": "execute_result"
    }
   ],
   "source": [
    "56408/97933"
   ]
  },
  {
   "cell_type": "code",
   "execution_count": 145,
   "metadata": {
    "collapsed": false
   },
   "outputs": [
    {
     "data": {
      "text/plain": [
       "False    65245\n",
       "True     32688\n",
       "Name: genus, dtype: int64"
      ]
     },
     "execution_count": 145,
     "metadata": {},
     "output_type": "execute_result"
    }
   ],
   "source": [
    "comparison.genus.value_counts()"
   ]
  },
  {
   "cell_type": "code",
   "execution_count": 108,
   "metadata": {
    "collapsed": false
   },
   "outputs": [
    {
     "data": {
      "text/plain": [
       "0.3337792164030511"
      ]
     },
     "execution_count": 108,
     "metadata": {},
     "output_type": "execute_result"
    }
   ],
   "source": [
    "32688/97933"
   ]
  },
  {
   "cell_type": "code",
   "execution_count": 146,
   "metadata": {
    "collapsed": false
   },
   "outputs": [
    {
     "data": {
      "text/plain": [
       "False    74257\n",
       "True     23676\n",
       "Name: species, dtype: int64"
      ]
     },
     "execution_count": 146,
     "metadata": {},
     "output_type": "execute_result"
    }
   ],
   "source": [
    "comparison.species.value_counts()"
   ]
  },
  {
   "cell_type": "code",
   "execution_count": 109,
   "metadata": {
    "collapsed": false
   },
   "outputs": [
    {
     "data": {
      "text/plain": [
       "0.24175711966344338"
      ]
     },
     "execution_count": 109,
     "metadata": {},
     "output_type": "execute_result"
    }
   ],
   "source": [
    "23676/97933"
   ]
  },
  {
   "cell_type": "code",
   "execution_count": null,
   "metadata": {
    "collapsed": true
   },
   "outputs": [],
   "source": []
  }
 ],
 "metadata": {
  "kernelspec": {
   "display_name": "Python 3",
   "language": "python",
   "name": "python3"
  },
  "language_info": {
   "codemirror_mode": {
    "name": "ipython",
    "version": 3
   },
   "file_extension": ".py",
   "mimetype": "text/x-python",
   "name": "python",
   "nbconvert_exporter": "python",
   "pygments_lexer": "ipython3",
   "version": "3.4.4"
  }
 },
 "nbformat": 4,
 "nbformat_minor": 0
}
