{
 "metadata": {
  "name": "",
  "signature": "sha256:ce2c506fd56254c24efe7284005c38f0a889fceb8a825b25df6b439a5f18f0d8"
 },
 "nbformat": 3,
 "nbformat_minor": 0,
 "worksheets": [
  {
   "cells": [
    {
     "cell_type": "code",
     "collapsed": false,
     "input": [
      "#ran ccount to count number of sequences in each sample in unix using following command:\n",
      "#Sarahs-MacBook-Pro-2:erik-scripts sarahgignoux-wolfsohn$ ./ccount '>' /Volumes/SARAHGW_HD/SD1_overlapped/SD1_demultiplexed/* >/Volumes/SARAHGW_HD/SD1_overlapped/demultiplexed_stats"
     ],
     "language": "python",
     "metadata": {},
     "outputs": [],
     "prompt_number": 2
    },
    {
     "cell_type": "code",
     "collapsed": false,
     "input": [
      "#removed samples with less than 10,000 reads"
     ],
     "language": "python",
     "metadata": {},
     "outputs": [],
     "prompt_number": 1
    },
    {
     "cell_type": "code",
     "collapsed": false,
     "input": [
      "#edit sample names to create list of files for cat"
     ],
     "language": "python",
     "metadata": {},
     "outputs": [],
     "prompt_number": 2
    },
    {
     "cell_type": "code",
     "collapsed": false,
     "input": [
      "!awk '{gsub(\";\",\"\\n\");printf\"%s\",$0}' /Users/sarahgignoux-wolfsohn/Documents/SD1/Sample_info/SD1_files_for_qiime.csv > /Users/sarahgignoux-wolfsohn/Documents/SD1/Sample_info/SD1_files_for_qiime2.csv"
     ],
     "language": "python",
     "metadata": {},
     "outputs": [],
     "prompt_number": 5
    },
    {
     "cell_type": "code",
     "collapsed": false,
     "input": [
      "!head /Users/sarahgignoux-wolfsohn/Documents/SD1/Sample_info/SD1_files_for_qiime2.csv"
     ],
     "language": "python",
     "metadata": {},
     "outputs": [
      {
       "output_type": "stream",
       "stream": "stdout",
       "text": [
        "SD1.CK14.D3.CK14.P.T10_SD1.fasta,,\r\n",
        "\r",
        "SD1.CK14H2.CK14.P.T10_SD1.fasta,,\r\n",
        "\r",
        "SD1.CK14.D3.CK14.B.T57.H_SD1.fasta,,\r\n",
        "\r",
        "SD1.CK4.D1.CK4.O.T37.D_SD1.fasta,,\r\n",
        "\r",
        "SD1.CK14.D1_SD1.fasta,,\r\n",
        "\r",
        "SD1.CK4H3.CK14.W_SD1.fasta,,\r\n",
        "\r",
        "SD1.CK4D1.CK14.G_SD1.fasta,,\r\n",
        "\r",
        "SD1.CK4.H3.CK4.B.T22.H_SD1.fasta,,\r\n",
        "\r",
        "SD1.CK14.H1.CK14.B.T37.H_SD1.fasta,,\r\n",
        "\r",
        "SD1.CK4H2.CK4.G_SD1.fasta,,\r\n"
       ]
      }
     ],
     "prompt_number": 6
    },
    {
     "cell_type": "code",
     "collapsed": false,
     "input": [
      "!sed -e 's/,//g' /Users/sarahgignoux-wolfsohn/Documents/SD1/Sample_info/SD1_files_for_qiime2.csv > /Users/sarahgignoux-wolfsohn/Documents/SD1/Sample_info/SD1_files_for_qiime3.csv"
     ],
     "language": "python",
     "metadata": {},
     "outputs": [],
     "prompt_number": 7
    },
    {
     "cell_type": "code",
     "collapsed": false,
     "input": [
      "!head /Users/sarahgignoux-wolfsohn/Documents/SD1/Sample_info/SD1_files_for_qiime3.csv"
     ],
     "language": "python",
     "metadata": {},
     "outputs": [
      {
       "output_type": "stream",
       "stream": "stdout",
       "text": [
        "SD1.CK14.D3.CK14.P.T10_SD1.fasta\r\n",
        "\r",
        "SD1.CK14H2.CK14.P.T10_SD1.fasta\r\n",
        "\r",
        "SD1.CK14.D3.CK14.B.T57.H_SD1.fasta\r\n",
        "\r",
        "SD1.CK4.D1.CK4.O.T37.D_SD1.fasta\r\n",
        "\r",
        "SD1.CK14.D1_SD1.fasta\r\n",
        "\r",
        "SD1.CK4H3.CK14.W_SD1.fasta\r\n",
        "\r",
        "SD1.CK4D1.CK14.G_SD1.fasta\r\n",
        "\r",
        "SD1.CK4.H3.CK4.B.T22.H_SD1.fasta\r\n",
        "\r",
        "SD1.CK14.H1.CK14.B.T37.H_SD1.fasta\r\n",
        "\r",
        "SD1.CK4H2.CK4.G_SD1.fasta\r\n"
       ]
      }
     ],
     "prompt_number": 8
    },
    {
     "cell_type": "code",
     "collapsed": false,
     "input": [
      "!wc -l /Users/sarahgignoux-wolfsohn/Documents/SD1/Sample_info/SD1_files_for_qiime3.csv"
     ],
     "language": "python",
     "metadata": {},
     "outputs": [
      {
       "output_type": "stream",
       "stream": "stdout",
       "text": [
        "     276 /Users/sarahgignoux-wolfsohn/Documents/SD1/Sample_info/SD1_files_for_qiime3.csv\r\n"
       ]
      }
     ],
     "prompt_number": 9
    },
    {
     "cell_type": "code",
     "collapsed": false,
     "input": [
      "#cat all fasta files in list into one file for qiime.{}"
     ],
     "language": "python",
     "metadata": {},
     "outputs": []
    },
    {
     "cell_type": "code",
     "collapsed": false,
     "input": [
      "for file in $(cat ~/Documents/SD1/Sample_info/SD1_files_for_qiime4.csv); do cat $file>>SD1_for_qiime.fasta; done"
     ],
     "language": "python",
     "metadata": {},
     "outputs": [],
     "prompt_number": 10
    },
    {
     "cell_type": "code",
     "collapsed": false,
     "input": [],
     "language": "python",
     "metadata": {},
     "outputs": []
    }
   ],
   "metadata": {}
  }
 ]
}