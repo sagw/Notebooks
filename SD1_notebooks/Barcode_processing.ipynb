{
 "metadata": {
  "name": "",
  "signature": "sha256:33bc12efa6f965c24d21e0ec1b6779950e499c27214568027ad9c47e8afc149b"
 },
 "nbformat": 3,
 "nbformat_minor": 0,
 "worksheets": [
  {
   "cells": [
    {
     "cell_type": "code",
     "collapsed": false,
     "input": [
      "#Add newlines to csv file"
     ],
     "language": "python",
     "metadata": {},
     "outputs": []
    },
    {
     "cell_type": "code",
     "collapsed": false,
     "input": [
      "!awk '{gsub(\";\",\"\\n\");printf\"%s\",$0}' Barcodes.csv>Barcodes_newline.csv "
     ],
     "language": "python",
     "metadata": {},
     "outputs": [],
     "prompt_number": 1
    },
    {
     "cell_type": "code",
     "collapsed": false,
     "input": [
      "!head Barcodes_newline.csv"
     ],
     "language": "python",
     "metadata": {},
     "outputs": [
      {
       "output_type": "stream",
       "stream": "stdout",
       "text": [
        "sample,lbc,lprimer,rbc,rprimer,newline\r",
        "SD1_Ck4D1_Ck4_B,AACCA,V6L-0,TGGTT,V6R-0,\r\n",
        "\r",
        "SD1_Ck4D1_Ck4_G,AACCA,V6L-0,GTTGG,V6R-1,\r\n",
        "\r",
        "SD1_Ck4D1_Ck4_O,AACCA,V6L-0,CAACC,V6R-2,\r\n",
        "\r",
        "SD1_Ck4D1_Ck4_P,AACCA,V6L-0,ACCAA,V6R-3,\r\n",
        "\r",
        "SD1_Ck4D1_Ck4_W,AACCA,V6L-0,CACCT,V6R-4,\r\n",
        "\r",
        "H6,AACCA,V6L-0,GTAAG,V6R-5,\r\n",
        "\r",
        "SD1_Ck4D1_Ck14_G,AACCA,V6L-0,AGTTC,V6R-6,\r\n",
        "\r",
        "SD1_Ck4D1_Ck14_O,AACCA,V6L-0,TCGGA,V6R-7,\r\n",
        "\r",
        "SD1_Ck4D1_Ck14_P,AACCA,V6L-0,ACTGT,V6R-8,\r\n",
        "\r",
        "SD1_Ck4D2_Ck4_B,AACCA,V6L-0,GTCAC,V6R-10,\r\n"
       ]
      }
     ],
     "prompt_number": 2
    },
    {
     "cell_type": "code",
     "collapsed": false,
     "input": [
      "#Add quotes around words"
     ],
     "language": "python",
     "metadata": {},
     "outputs": []
    },
    {
     "cell_type": "code",
     "collapsed": false,
     "input": [
      "!sed -e 's/./\"/' -e 's/,/\",\"/g' Barcodes_newline.csv> Barcodes_newline_quotes.csv"
     ],
     "language": "python",
     "metadata": {},
     "outputs": [],
     "prompt_number": 4
    },
    {
     "cell_type": "code",
     "collapsed": false,
     "input": [
      "!head Barcodes_newline_quotes.csv"
     ],
     "language": "python",
     "metadata": {},
     "outputs": [
      {
       "output_type": "stream",
       "stream": "stdout",
       "text": [
        "\"Sample\",\"lbc\",\"lprimer\",\"rbc\",\"rprimer\",\"newline\",\"\r\n",
        "\"SD1_Ck4D1_Ck4_B\",\"AACCA\",\"V6L-0\",\"TGGTT\",\"V6R-0\",\"\r\n",
        "\"SD1_Ck4D1_Ck4_G\",\"AACCA\",\"V6L-0\",\"GTTGG\",\"V6R-1\",\"\r\n",
        "\"SD1_Ck4D1_Ck4_O\",\"AACCA\",\"V6L-0\",\"CAACC\",\"V6R-2\",\"\r\n",
        "\"SD1_Ck4D1_Ck4_P\",\"AACCA\",\"V6L-0\",\"ACCAA\",\"V6R-3\",\"\r\n",
        "\"SD1_Ck4D1_Ck4_W\",\"AACCA\",\"V6L-0\",\"CACCT\",\"V6R-4\",\"\r\n",
        "\"H6\",\"AACCA\",\"V6L-0\",\"GTAAG\",\"V6R-5\",\"\r\n",
        "\"SD1_Ck4D1_Ck14_G\",\"AACCA\",\"V6L-0\",\"AGTTC\",\"V6R-6\",\"\r\n",
        "\"SD1_Ck4D1_Ck14_O\",\"AACCA\",\"V6L-0\",\"TCGGA\",\"V6R-7\",\"\r\n",
        "\"SD1_Ck4D1_Ck14_P\",\"AACCA\",\"V6L-0\",\"ACTGT\",\"V6R-8\",\"\r\n"
       ]
      }
     ],
     "prompt_number": 10
    },
    {
     "cell_type": "code",
     "collapsed": false,
     "input": [
      "!wc -l Barcodes_newline_quotes.csv"
     ],
     "language": "python",
     "metadata": {},
     "outputs": [
      {
       "output_type": "stream",
       "stream": "stdout",
       "text": [
        "     358 Barcodes_newline_quotes.csv\r\n"
       ]
      }
     ],
     "prompt_number": 11
    },
    {
     "cell_type": "code",
     "collapsed": false,
     "input": [
      "#separate left and right barcodes from samples"
     ],
     "language": "python",
     "metadata": {},
     "outputs": []
    },
    {
     "cell_type": "code",
     "collapsed": false,
     "input": [
      "! cut -f2,3 -d ',' Barcodes_newline_quotes.csv > lBarcodes_only.csv"
     ],
     "language": "python",
     "metadata": {},
     "outputs": [],
     "prompt_number": 37
    },
    {
     "cell_type": "code",
     "collapsed": false,
     "input": [
      "! head lBarcodes_only.csv"
     ],
     "language": "python",
     "metadata": {},
     "outputs": [
      {
       "output_type": "stream",
       "stream": "stdout",
       "text": [
        "\"lbc\",\"lprimer\"\r\n",
        "\"AACCA\",\"V6L-0\"\r\n",
        "\"AACCA\",\"V6L-0\"\r\n",
        "\"AACCA\",\"V6L-0\"\r\n",
        "\"AACCA\",\"V6L-0\"\r\n",
        "\"AACCA\",\"V6L-0\"\r\n",
        "\"AACCA\",\"V6L-0\"\r\n",
        "\"AACCA\",\"V6L-0\"\r\n",
        "\"AACCA\",\"V6L-0\"\r\n",
        "\"AACCA\",\"V6L-0\"\r\n"
       ]
      }
     ],
     "prompt_number": 38
    },
    {
     "cell_type": "code",
     "collapsed": false,
     "input": [
      "! cut -f4,5 -d ',' Barcodes_newline_quotes.csv > rBarcodes_only.csv"
     ],
     "language": "python",
     "metadata": {},
     "outputs": [],
     "prompt_number": 40
    },
    {
     "cell_type": "code",
     "collapsed": false,
     "input": [
      "! head rBarcodes_only.csv"
     ],
     "language": "python",
     "metadata": {},
     "outputs": [
      {
       "output_type": "stream",
       "stream": "stdout",
       "text": [
        "\"rbc\",\"rprimer\"\r\n",
        "\"TGGTT\",\"V6R-0\"\r\n",
        "\"GTTGG\",\"V6R-1\"\r\n",
        "\"CAACC\",\"V6R-2\"\r\n",
        "\"ACCAA\",\"V6R-3\"\r\n",
        "\"CACCT\",\"V6R-4\"\r\n",
        "\"GTAAG\",\"V6R-5\"\r\n",
        "\"AGTTC\",\"V6R-6\"\r\n",
        "\"TCGGA\",\"V6R-7\"\r\n",
        "\"ACTGT\",\"V6R-8\"\r\n"
       ]
      }
     ],
     "prompt_number": 41
    },
    {
     "cell_type": "code",
     "collapsed": false,
     "input": [
      "#add colon in the middle and a comma at the end of each line"
     ],
     "language": "python",
     "metadata": {},
     "outputs": []
    },
    {
     "cell_type": "code",
     "collapsed": false,
     "input": [
      "! sed -e 's/,/:/' -e 's/$/,/' lBarcodes_only.csv > lBarcodes_only_colon.csv"
     ],
     "language": "python",
     "metadata": {},
     "outputs": [],
     "prompt_number": 45
    },
    {
     "cell_type": "code",
     "collapsed": false,
     "input": [
      "! head lBarcodes_only_colon.csv"
     ],
     "language": "python",
     "metadata": {},
     "outputs": [
      {
       "output_type": "stream",
       "stream": "stdout",
       "text": [
        "\"lbc\":\"lprimer\",\r\n",
        "\"AACCA\":\"V6L-0\",\r\n",
        "\"AACCA\":\"V6L-0\",\r\n",
        "\"AACCA\":\"V6L-0\",\r\n",
        "\"AACCA\":\"V6L-0\",\r\n",
        "\"AACCA\":\"V6L-0\",\r\n",
        "\"AACCA\":\"V6L-0\",\r\n",
        "\"AACCA\":\"V6L-0\",\r\n",
        "\"AACCA\":\"V6L-0\",\r\n",
        "\"AACCA\":\"V6L-0\",\r\n"
       ]
      }
     ],
     "prompt_number": 46
    },
    {
     "cell_type": "code",
     "collapsed": false,
     "input": [
      "! sed -e 's/,/:/' -e 's/$/,/'  rBarcodes_only.csv > rBarcodes_only_colon.csv"
     ],
     "language": "python",
     "metadata": {},
     "outputs": [],
     "prompt_number": 8
    },
    {
     "cell_type": "code",
     "collapsed": false,
     "input": [
      "! head rBarcodes_only_colon.csv"
     ],
     "language": "python",
     "metadata": {},
     "outputs": [
      {
       "output_type": "stream",
       "stream": "stdout",
       "text": [
        "\"rbc\":\"rprimer\",\r\n",
        "\"TGGTT\":\"V6R-0\",\r\n",
        "\"GTTGG\":\"V6R-1\",\r\n",
        "\"CAACC\":\"V6R-2\",\r\n",
        "\"ACCAA\":\"V6R-3\",\r\n",
        "\"CACCT\":\"V6R-4\",\r\n",
        "\"GTAAG\":\"V6R-5\",\r\n",
        "\"AGTTC\":\"V6R-6\",\r\n",
        "\"TCGGA\":\"V6R-7\",\r\n",
        "\"ACTGT\":\"V6R-8\",\r\n"
       ]
      }
     ],
     "prompt_number": 9
    },
    {
     "cell_type": "code",
     "collapsed": false,
     "input": [
      "#remove duplicate barcodes"
     ],
     "language": "python",
     "metadata": {},
     "outputs": []
    },
    {
     "cell_type": "code",
     "collapsed": false,
     "input": [
      "! sed '$!N; /^\\(.*\\)\\n\\1$/!P; D' lBarcodes_only_colon.csv > lBarcodes.csv"
     ],
     "language": "python",
     "metadata": {},
     "outputs": [],
     "prompt_number": 4
    },
    {
     "cell_type": "code",
     "collapsed": false,
     "input": [
      "! head lBarcodes.csv"
     ],
     "language": "python",
     "metadata": {},
     "outputs": [
      {
       "output_type": "stream",
       "stream": "stdout",
       "text": [
        "\"lbc\":\"lprimer\",\r\n",
        "\"AACCA\":\"V6L-0\",\r\n",
        "\"CCAAC\":\"V6L-1\",\r\n",
        "\"GGTTG\":\"V6L-2\",\r\n",
        "\"TTGGT\":\"V6L-3\",\r\n",
        "\"AGGTG\":\"V6L-4\",\r\n",
        "\"CTTAC\":\"V6L-5\",\r\n",
        "\"GAACT\":\"V6L-6\",\r\n",
        "\"TCCGA\":\"V6L-7\",\r\n",
        "\"ACAGT\":\"V6L-8\",\r\n"
       ]
      }
     ],
     "prompt_number": 5
    },
    {
     "cell_type": "code",
     "collapsed": false,
     "input": [
      "! sed '$!N; /^\\(.*\\)\\n\\1$/!P; D' rBarcodes_only_colon.csv > rBarcodes.csv"
     ],
     "language": "python",
     "metadata": {},
     "outputs": [],
     "prompt_number": 10
    },
    {
     "cell_type": "code",
     "collapsed": false,
     "input": [
      "! head rBarcodes.csv"
     ],
     "language": "python",
     "metadata": {},
     "outputs": [
      {
       "output_type": "stream",
       "stream": "stdout",
       "text": [
        "\"rbc\":\"rprimer\",\r\n",
        "\"TGGTT\":\"V6R-0\",\r\n",
        "\"GTTGG\":\"V6R-1\",\r\n",
        "\"CAACC\":\"V6R-2\",\r\n",
        "\"ACCAA\":\"V6R-3\",\r\n",
        "\"CACCT\":\"V6R-4\",\r\n",
        "\"GTAAG\":\"V6R-5\",\r\n",
        "\"AGTTC\":\"V6R-6\",\r\n",
        "\"TCGGA\":\"V6R-7\",\r\n",
        "\"ACTGT\":\"V6R-8\",\r\n"
       ]
      }
     ],
     "prompt_number": 11
    },
    {
     "cell_type": "code",
     "collapsed": false,
     "input": [
      "#make sample codes \n",
      "    #delete barcodes"
     ],
     "language": "python",
     "metadata": {},
     "outputs": [],
     "prompt_number": 12
    },
    {
     "cell_type": "code",
     "collapsed": false,
     "input": [
      "!cut -f1,3,5 -d ',' Barcodes_newline_quotes.csv > Samples_nobarcodes.csv"
     ],
     "language": "python",
     "metadata": {},
     "outputs": [],
     "prompt_number": 13
    },
    {
     "cell_type": "code",
     "collapsed": false,
     "input": [
      "! head Samples_nobarcodes.csv"
     ],
     "language": "python",
     "metadata": {},
     "outputs": [
      {
       "output_type": "stream",
       "stream": "stdout",
       "text": [
        "\"Sample\",\"lprimer\",\"rprimer\"\r\n",
        "\"SD1_Ck4D1_Ck4_B\",\"V6L-0\",\"V6R-0\"\r\n",
        "\"SD1_Ck4D1_Ck4_G\",\"V6L-0\",\"V6R-1\"\r\n",
        "\"SD1_Ck4D1_Ck4_O\",\"V6L-0\",\"V6R-2\"\r\n",
        "\"SD1_Ck4D1_Ck4_P\",\"V6L-0\",\"V6R-3\"\r\n",
        "\"SD1_Ck4D1_Ck4_W\",\"V6L-0\",\"V6R-4\"\r\n",
        "\"H6\",\"V6L-0\",\"V6R-5\"\r\n",
        "\"SD1_Ck4D1_Ck14_G\",\"V6L-0\",\"V6R-6\"\r\n",
        "\"SD1_Ck4D1_Ck14_O\",\"V6L-0\",\"V6R-7\"\r\n",
        "\"SD1_Ck4D1_Ck14_P\",\"V6L-0\",\"V6R-8\"\r\n"
       ]
      }
     ],
     "prompt_number": 14
    },
    {
     "cell_type": "code",
     "collapsed": false,
     "input": [
      "#Put barcode names first colon then sample names"
     ],
     "language": "python",
     "metadata": {},
     "outputs": []
    },
    {
     "cell_type": "code",
     "collapsed": false,
     "input": [
      "!awk -F \",\" '{print $2\",\" $3\":\" $1}' Samples_nobarcodes.csv > Samples_reordered.csv"
     ],
     "language": "python",
     "metadata": {},
     "outputs": [],
     "prompt_number": 19
    },
    {
     "cell_type": "code",
     "collapsed": false,
     "input": [
      "! head Samples_reordered.csv"
     ],
     "language": "python",
     "metadata": {},
     "outputs": [
      {
       "output_type": "stream",
       "stream": "stdout",
       "text": [
        "\"lprimer\",\"rprimer\":\"Sample\"\r\n",
        "\"V6L-0\",\"V6R-0\":\"SD1_Ck4D1_Ck4_B\"\r\n",
        "\"V6L-0\",\"V6R-1\":\"SD1_Ck4D1_Ck4_G\"\r\n",
        "\"V6L-0\",\"V6R-2\":\"SD1_Ck4D1_Ck4_O\"\r\n",
        "\"V6L-0\",\"V6R-3\":\"SD1_Ck4D1_Ck4_P\"\r\n",
        "\"V6L-0\",\"V6R-4\":\"SD1_Ck4D1_Ck4_W\"\r\n",
        "\"V6L-0\",\"V6R-5\":\"H6\"\r\n",
        "\"V6L-0\",\"V6R-6\":\"SD1_Ck4D1_Ck14_G\"\r\n",
        "\"V6L-0\",\"V6R-7\":\"SD1_Ck4D1_Ck14_O\"\r\n",
        "\"V6L-0\",\"V6R-8\":\"SD1_Ck4D1_Ck14_P\"\r\n"
       ]
      }
     ],
     "prompt_number": 20
    },
    {
     "cell_type": "code",
     "collapsed": false,
     "input": [
      "#delete characters in between l and r barcodes add comma to the end of the line"
     ],
     "language": "python",
     "metadata": {},
     "outputs": []
    },
    {
     "cell_type": "code",
     "collapsed": false,
     "input": [
      "!sed -e 's/\",\"//' -e 's/$/,/' Samples_reordered.csv > Samples_barcodes.csv"
     ],
     "language": "python",
     "metadata": {},
     "outputs": [],
     "prompt_number": 24
    },
    {
     "cell_type": "code",
     "collapsed": false,
     "input": [
      "!head Samples_barcodes.csv"
     ],
     "language": "python",
     "metadata": {},
     "outputs": [
      {
       "output_type": "stream",
       "stream": "stdout",
       "text": [
        "\"lprimerrprimer\":\"Sample\",\r\n",
        "\"V6L-0V6R-0\":\"SD1_Ck4D1_Ck4_B\",\r\n",
        "\"V6L-0V6R-1\":\"SD1_Ck4D1_Ck4_G\",\r\n",
        "\"V6L-0V6R-2\":\"SD1_Ck4D1_Ck4_O\",\r\n",
        "\"V6L-0V6R-3\":\"SD1_Ck4D1_Ck4_P\",\r\n",
        "\"V6L-0V6R-4\":\"SD1_Ck4D1_Ck4_W\",\r\n",
        "\"V6L-0V6R-5\":\"H6\",\r\n",
        "\"V6L-0V6R-6\":\"SD1_Ck4D1_Ck14_G\",\r\n",
        "\"V6L-0V6R-7\":\"SD1_Ck4D1_Ck14_O\",\r\n",
        "\"V6L-0V6R-8\":\"SD1_Ck4D1_Ck14_P\",\r\n"
       ]
      }
     ],
     "prompt_number": 25
    }
   ],
   "metadata": {}
  }
 ]
}