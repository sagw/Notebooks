{
 "cells": [
  {
   "cell_type": "code",
   "execution_count": 1,
   "metadata": {
    "collapsed": false
   },
   "outputs": [
    {
     "name": "stdout",
     "output_type": "stream",
     "text": [
      "gg_13_8_otus  lost+found  SD1_for_qiime.fasta  Untitled0.ipynb\r\n"
     ]
    }
   ],
   "source": [
    "!ls"
   ]
  },
  {
   "cell_type": "code",
   "execution_count": 2,
   "metadata": {
    "collapsed": false
   },
   "outputs": [
    {
     "name": "stdout",
     "output_type": "stream",
     "text": [
      "\n",
      "System information\n",
      "==================\n",
      "         Platform:\tlinux2\n",
      "   Python version:\t2.7.3 (default, Aug  1 2012, 05:14:39)  [GCC 4.6.3]\n",
      "Python executable:\t/usr/bin/python\n",
      "\n",
      "QIIME default reference information\n",
      "===================================\n",
      "For details on what files are used as QIIME's default references, see here:\n",
      " https://github.com/biocore/qiime-default-reference/releases/tag/0.1.1\n",
      "\n",
      "Dependency versions\n",
      "===================\n",
      "          QIIME library version:\t1.9.0\n",
      "           QIIME script version:\t1.9.0\n",
      "qiime-default-reference version:\t0.1.1\n",
      "                  NumPy version:\t1.9.1\n",
      "                  SciPy version:\t0.15.1\n",
      "                 pandas version:\t0.15.2\n",
      "             matplotlib version:\t1.4.3\n",
      "            biom-format version:\t2.1.3\n",
      "                   h5py version:\t2.4.0 (HDF5 version: 1.8.4)\n",
      "                   qcli version:\t0.1.1\n",
      "                   pyqi version:\t0.3.2\n",
      "             scikit-bio version:\t0.2.3\n",
      "                 PyNAST version:\t1.2.2\n",
      "                Emperor version:\t0.9.51\n",
      "                burrito version:\t0.9.0\n",
      "       burrito-fillings version:\tInstalled.\n",
      "              sortmerna version:\tSortMeRNA version 2.0, 29/11/2014\n",
      "              sumaclust version:\tSUMACLUST Version 1.0.00\n",
      "                  swarm version:\tSwarm 1.2.19 [Feb  2 2015 18:15:23]\n",
      "                          gdata:\tInstalled.\n",
      "\n",
      "QIIME config values\n",
      "===================\n",
      "For definitions of these settings and to learn how to configure QIIME, see here:\n",
      " http://qiime.org/install/qiime_config.html\n",
      " http://qiime.org/tutorials/parallel_qiime.html\n",
      "\n",
      "                     blastmat_dir:\t/qiime_software/blast-2.2.22-release/data\n",
      "      pick_otus_reference_seqs_fp:\t/usr/local/lib/python2.7/dist-packages/qiime_default_reference/gg_13_8_otus/rep_set/97_otus.fasta\n",
      "                         sc_queue:\tall.q\n",
      "      topiaryexplorer_project_dir:\tNone\n",
      "     pynast_template_alignment_fp:\t/usr/local/lib/python2.7/dist-packages/qiime_default_reference/gg_13_8_otus/rep_set_aligned/85_otus.fasta\n",
      "                  cluster_jobs_fp:\tstart_parallel_jobs.py\n",
      "pynast_template_alignment_blastdb:\tNone\n",
      "assign_taxonomy_reference_seqs_fp:\t/usr/local/lib/python2.7/dist-packages/qiime_default_reference/gg_13_8_otus/rep_set/97_otus.fasta\n",
      "                     torque_queue:\tfriendlyq\n",
      "                    jobs_to_start:\t1\n",
      "            denoiser_min_per_core:\t50\n",
      "assign_taxonomy_id_to_taxonomy_fp:\t/usr/local/lib/python2.7/dist-packages/qiime_default_reference/gg_13_8_otus/taxonomy/97_otu_taxonomy.txt\n",
      "                         temp_dir:\t/home/ubuntu/temp/\n",
      "                     slurm_memory:\tNone\n",
      "                      slurm_queue:\tNone\n",
      "                      blastall_fp:\t/qiime_software/blast-2.2.22-release/bin/blastall\n",
      "                 seconds_to_sleep:\t1\n",
      "\n",
      "QIIME base install test results\n",
      "===============================\n",
      ".........\n",
      "----------------------------------------------------------------------\n",
      "Ran 9 tests in 0.280s\n",
      "\n",
      "OK\n"
     ]
    }
   ],
   "source": [
    "!print_qiime_config.py -t"
   ]
  },
  {
   "cell_type": "code",
   "execution_count": 3,
   "metadata": {
    "collapsed": false,
    "scrolled": true
   },
   "outputs": [
    {
     "name": "stdout",
     "output_type": "stream",
     "text": [
      "/home/ubuntu/ebs\r\n"
     ]
    }
   ],
   "source": [
    "!pwd"
   ]
  },
  {
   "cell_type": "code",
   "execution_count": 4,
   "metadata": {
    "collapsed": false
   },
   "outputs": [],
   "source": [
    "!mkdir /home/ubuntu/ebs/tmp"
   ]
  },
  {
   "cell_type": "code",
   "execution_count": 5,
   "metadata": {
    "collapsed": false
   },
   "outputs": [
    {
     "name": "stdout",
     "output_type": "stream",
     "text": [
      "gg_13_8_otus  lost+found  SD1_for_qiime.fasta  SD1_Qiime.ipynb\ttmp\r\n"
     ]
    }
   ],
   "source": [
    "!ls"
   ]
  },
  {
   "cell_type": "code",
   "execution_count": 6,
   "metadata": {
    "collapsed": false
   },
   "outputs": [],
   "source": [
    "#change temp directory\n",
    "!echo -e 'temp_dir\\t/home/ubuntu/ebs/tmp' >> /qiime_software/qiime_config"
   ]
  },
  {
   "cell_type": "code",
   "execution_count": 8,
   "metadata": {
    "collapsed": false
   },
   "outputs": [
    {
     "name": "stdout",
     "output_type": "stream",
     "text": [
      "\n",
      "System information\n",
      "==================\n",
      "         Platform:\tlinux2\n",
      "   Python version:\t2.7.3 (default, Aug  1 2012, 05:14:39)  [GCC 4.6.3]\n",
      "Python executable:\t/usr/bin/python\n",
      "\n",
      "QIIME default reference information\n",
      "===================================\n",
      "For details on what files are used as QIIME's default references, see here:\n",
      " https://github.com/biocore/qiime-default-reference/releases/tag/0.1.1\n",
      "\n",
      "Dependency versions\n",
      "===================\n",
      "          QIIME library version:\t1.9.0\n",
      "           QIIME script version:\t1.9.0\n",
      "qiime-default-reference version:\t0.1.1\n",
      "                  NumPy version:\t1.9.1\n",
      "                  SciPy version:\t0.15.1\n",
      "                 pandas version:\t0.15.2\n",
      "             matplotlib version:\t1.4.3\n",
      "            biom-format version:\t2.1.3\n",
      "                   h5py version:\t2.4.0 (HDF5 version: 1.8.4)\n",
      "                   qcli version:\t0.1.1\n",
      "                   pyqi version:\t0.3.2\n",
      "             scikit-bio version:\t0.2.3\n",
      "                 PyNAST version:\t1.2.2\n",
      "                Emperor version:\t0.9.51\n",
      "                burrito version:\t0.9.0\n",
      "       burrito-fillings version:\tInstalled.\n",
      "              sortmerna version:\tSortMeRNA version 2.0, 29/11/2014\n",
      "              sumaclust version:\tSUMACLUST Version 1.0.00\n",
      "                  swarm version:\tSwarm 1.2.19 [Feb  2 2015 18:15:23]\n",
      "                          gdata:\tInstalled.\n",
      "\n",
      "QIIME config values\n",
      "===================\n",
      "For definitions of these settings and to learn how to configure QIIME, see here:\n",
      " http://qiime.org/install/qiime_config.html\n",
      " http://qiime.org/tutorials/parallel_qiime.html\n",
      "\n",
      "                     blastmat_dir:\t/qiime_software/blast-2.2.22-release/data\n",
      "      pick_otus_reference_seqs_fp:\t/usr/local/lib/python2.7/dist-packages/qiime_default_reference/gg_13_8_otus/rep_set/97_otus.fasta\n",
      "                         sc_queue:\tall.q\n",
      "      topiaryexplorer_project_dir:\tNone\n",
      "     pynast_template_alignment_fp:\t/usr/local/lib/python2.7/dist-packages/qiime_default_reference/gg_13_8_otus/rep_set_aligned/85_otus.fasta\n",
      "                  cluster_jobs_fp:\tstart_parallel_jobs.py\n",
      "pynast_template_alignment_blastdb:\tNone\n",
      "assign_taxonomy_reference_seqs_fp:\t/usr/local/lib/python2.7/dist-packages/qiime_default_reference/gg_13_8_otus/rep_set/97_otus.fasta\n",
      "                     torque_queue:\tfriendlyq\n",
      "                    jobs_to_start:\t1\n",
      "            denoiser_min_per_core:\t50\n",
      "assign_taxonomy_id_to_taxonomy_fp:\t/usr/local/lib/python2.7/dist-packages/qiime_default_reference/gg_13_8_otus/taxonomy/97_otu_taxonomy.txt\n",
      "                         temp_dir:\t/home/ubuntu/ebs/tmp\n",
      "                     slurm_memory:\tNone\n",
      "                      slurm_queue:\tNone\n",
      "                      blastall_fp:\t/qiime_software/blast-2.2.22-release/bin/blastall\n",
      "                 seconds_to_sleep:\t1\n",
      "\n",
      "QIIME base install test results\n",
      "===============================\n",
      ".........\n",
      "----------------------------------------------------------------------\n",
      "Ran 9 tests in 0.064s\n",
      "\n",
      "OK\n"
     ]
    }
   ],
   "source": [
    "!print_qiime_config.py -t"
   ]
  },
  {
   "cell_type": "code",
   "execution_count": null,
   "metadata": {
    "collapsed": false
   },
   "outputs": [],
   "source": [
    "!top"
   ]
  },
  {
   "cell_type": "code",
   "execution_count": null,
   "metadata": {
    "collapsed": true
   },
   "outputs": [],
   "source": [
    "!pick_open_reference_otus.py -i /home/ubuntu/ebs/SD1_for_qiime.fasta -r /home/ubuntu/ebs/gg_13_8_otus -s 1 --suppress_taxonomy_assignment  --suppress_align_and_tree -o /home/ubuntu/ebs/SD1_otus_97"
   ]
  }
 ],
 "metadata": {
  "kernelspec": {
   "display_name": "Python 3",
   "language": "python",
   "name": "python3"
  },
  "language_info": {
   "codemirror_mode": {
    "name": "ipython",
    "version": 3
   },
   "file_extension": ".py",
   "mimetype": "text/x-python",
   "name": "python",
   "nbconvert_exporter": "python",
   "pygments_lexer": "ipython3",
   "version": "3.4.4"
  }
 },
 "nbformat": 4,
 "nbformat_minor": 0
}
