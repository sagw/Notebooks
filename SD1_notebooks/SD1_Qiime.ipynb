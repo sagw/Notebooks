{
 "metadata": {
  "name": "",
  "signature": "sha256:6e6269fcc39026f6ff42b3802aa744ec54917484be6854fc7fdc99bbe65e337b"
 },
 "nbformat": 3,
 "nbformat_minor": 0,
 "worksheets": [
  {
   "cells": [
    {
     "cell_type": "code",
     "collapsed": false,
     "input": [
      "!ls"
     ],
     "language": "python",
     "metadata": {},
     "outputs": [
      {
       "output_type": "stream",
       "stream": "stdout",
       "text": [
        "gg_13_8_otus  lost+found  SD1_for_qiime.fasta  Untitled0.ipynb\r\n"
       ]
      }
     ],
     "prompt_number": 1
    },
    {
     "cell_type": "code",
     "collapsed": false,
     "input": [
      "!print_qiime_config.py -t"
     ],
     "language": "python",
     "metadata": {},
     "outputs": [
      {
       "output_type": "stream",
       "stream": "stdout",
       "text": [
        "\r\n",
        "System information\r\n",
        "==================\r\n",
        "         Platform:\tlinux2\r\n",
        "   Python version:\t2.7.3 (default, Aug  1 2012, 05:14:39)  [GCC 4.6.3]\r\n",
        "Python executable:\t/usr/bin/python\r\n",
        "\r\n",
        "QIIME default reference information\r\n",
        "===================================\r\n",
        "For details on what files are used as QIIME's default references, see here:\r\n",
        " https://github.com/biocore/qiime-default-reference/releases/tag/0.1.1\r\n"
       ]
      },
      {
       "output_type": "stream",
       "stream": "stdout",
       "text": [
        "\r\n",
        "Dependency versions\r\n",
        "===================\r\n",
        "          QIIME library version:\t1.9.0\r\n",
        "           QIIME script version:\t1.9.0\r\n",
        "qiime-default-reference version:\t0.1.1\r\n",
        "                  NumPy version:\t1.9.1\r\n",
        "                  SciPy version:\t0.15.1\r\n",
        "                 pandas version:\t0.15.2\r\n",
        "             matplotlib version:\t1.4.3\r\n",
        "            biom-format version:\t2.1.3\r\n",
        "                   h5py version:\t2.4.0 (HDF5 version: 1.8.4)\r\n",
        "                   qcli version:\t0.1.1\r\n",
        "                   pyqi version:\t0.3.2\r\n",
        "             scikit-bio version:\t0.2.3\r\n",
        "                 PyNAST version:\t1.2.2\r\n",
        "                Emperor version:\t0.9.51\r\n",
        "                burrito version:\t0.9.0\r\n",
        "       burrito-fillings version:\tInstalled.\r\n",
        "              sortmerna version:\tSortMeRNA version 2.0, 29/11/2014\r\n",
        "              sumaclust version:\tSUMACLUST Version 1.0.00\r\n",
        "                  swarm version:\tSwarm 1.2.19 [Feb  2 2015 18:15:23]\r\n",
        "                          gdata:\tInstalled.\r\n",
        "\r\n",
        "QIIME config values\r\n",
        "===================\r\n",
        "For definitions of these settings and to learn how to configure QIIME, see here:\r\n",
        " http://qiime.org/install/qiime_config.html\r\n",
        " http://qiime.org/tutorials/parallel_qiime.html\r\n",
        "\r\n",
        "                     blastmat_dir:\t/qiime_software/blast-2.2.22-release/data\r\n",
        "      pick_otus_reference_seqs_fp:\t/usr/local/lib/python2.7/dist-packages/qiime_default_reference/gg_13_8_otus/rep_set/97_otus.fasta\r\n",
        "                         sc_queue:\tall.q\r\n",
        "      topiaryexplorer_project_dir:\tNone\r\n",
        "     pynast_template_alignment_fp:\t/usr/local/lib/python2.7/dist-packages/qiime_default_reference/gg_13_8_otus/rep_set_aligned/85_otus.fasta\r\n",
        "                  cluster_jobs_fp:\tstart_parallel_jobs.py\r\n",
        "pynast_template_alignment_blastdb:\tNone\r\n",
        "assign_taxonomy_reference_seqs_fp:\t/usr/local/lib/python2.7/dist-packages/qiime_default_reference/gg_13_8_otus/rep_set/97_otus.fasta\r\n",
        "                     torque_queue:\tfriendlyq\r\n",
        "                    jobs_to_start:\t1\r\n",
        "            denoiser_min_per_core:\t50\r\n",
        "assign_taxonomy_id_to_taxonomy_fp:\t/usr/local/lib/python2.7/dist-packages/qiime_default_reference/gg_13_8_otus/taxonomy/97_otu_taxonomy.txt\r\n",
        "                         temp_dir:\t/home/ubuntu/temp/\r\n",
        "                     slurm_memory:\tNone\r\n",
        "                      slurm_queue:\tNone\r\n",
        "                      blastall_fp:\t/qiime_software/blast-2.2.22-release/bin/blastall\r\n",
        "                 seconds_to_sleep:\t1\r\n",
        "\r\n",
        "QIIME base install test results\r\n",
        "===============================\r\n"
       ]
      },
      {
       "output_type": "stream",
       "stream": "stdout",
       "text": [
        "........"
       ]
      },
      {
       "output_type": "stream",
       "stream": "stdout",
       "text": [
        ".\r\n",
        "----------------------------------------------------------------------\r\n",
        "Ran 9 tests in 0.280s\r\n",
        "\r\n",
        "OK\r\n"
       ]
      }
     ],
     "prompt_number": 2
    },
    {
     "cell_type": "code",
     "collapsed": false,
     "input": [
      "!pwd"
     ],
     "language": "python",
     "metadata": {},
     "outputs": [
      {
       "output_type": "stream",
       "stream": "stdout",
       "text": [
        "/home/ubuntu/ebs\r\n"
       ]
      }
     ],
     "prompt_number": 3
    },
    {
     "cell_type": "code",
     "collapsed": false,
     "input": [
      "!mkdir /home/ubuntu/ebs/tmp"
     ],
     "language": "python",
     "metadata": {},
     "outputs": [],
     "prompt_number": 4
    },
    {
     "cell_type": "code",
     "collapsed": false,
     "input": [
      "!ls"
     ],
     "language": "python",
     "metadata": {},
     "outputs": [
      {
       "output_type": "stream",
       "stream": "stdout",
       "text": [
        "gg_13_8_otus  lost+found  SD1_for_qiime.fasta  SD1_Qiime.ipynb\ttmp\r\n"
       ]
      }
     ],
     "prompt_number": 5
    },
    {
     "cell_type": "code",
     "collapsed": false,
     "input": [
      "#change temp directory\n",
      "!echo -e 'temp_dir\\t/home/ubuntu/ebs/tmp' >> /qiime_software/qiime_config"
     ],
     "language": "python",
     "metadata": {},
     "outputs": [],
     "prompt_number": 6
    },
    {
     "cell_type": "code",
     "collapsed": false,
     "input": [
      "!print_qiime_config.py -t"
     ],
     "language": "python",
     "metadata": {},
     "outputs": [
      {
       "output_type": "stream",
       "stream": "stdout",
       "text": [
        "\r\n",
        "System information\r\n",
        "==================\r\n",
        "         Platform:\tlinux2\r\n",
        "   Python version:\t2.7.3 (default, Aug  1 2012, 05:14:39)  [GCC 4.6.3]\r\n",
        "Python executable:\t/usr/bin/python\r\n",
        "\r\n",
        "QIIME default reference information\r\n",
        "===================================\r\n",
        "For details on what files are used as QIIME's default references, see here:\r\n",
        " https://github.com/biocore/qiime-default-reference/releases/tag/0.1.1\r\n"
       ]
      },
      {
       "output_type": "stream",
       "stream": "stdout",
       "text": [
        "\r\n",
        "Dependency versions\r\n",
        "===================\r\n",
        "          QIIME library version:\t1.9.0\r\n",
        "           QIIME script version:\t1.9.0\r\n",
        "qiime-default-reference version:\t0.1.1\r\n",
        "                  NumPy version:\t1.9.1\r\n",
        "                  SciPy version:\t0.15.1\r\n",
        "                 pandas version:\t0.15.2\r\n",
        "             matplotlib version:\t1.4.3\r\n",
        "            biom-format version:\t2.1.3\r\n",
        "                   h5py version:\t2.4.0 (HDF5 version: 1.8.4)\r\n",
        "                   qcli version:\t0.1.1\r\n",
        "                   pyqi version:\t0.3.2\r\n",
        "             scikit-bio version:\t0.2.3\r\n",
        "                 PyNAST version:\t1.2.2\r\n",
        "                Emperor version:\t0.9.51\r\n",
        "                burrito version:\t0.9.0\r\n",
        "       burrito-fillings version:\tInstalled.\r\n",
        "              sortmerna version:\tSortMeRNA version 2.0, 29/11/2014\r\n",
        "              sumaclust version:\tSUMACLUST Version 1.0.00\r\n",
        "                  swarm version:\tSwarm 1.2.19 [Feb  2 2015 18:15:23]\r\n",
        "                          gdata:\tInstalled.\r\n",
        "\r\n",
        "QIIME config values\r\n",
        "===================\r\n",
        "For definitions of these settings and to learn how to configure QIIME, see here:\r\n",
        " http://qiime.org/install/qiime_config.html\r\n",
        " http://qiime.org/tutorials/parallel_qiime.html\r\n",
        "\r\n",
        "                     blastmat_dir:\t/qiime_software/blast-2.2.22-release/data\r\n",
        "      pick_otus_reference_seqs_fp:\t/usr/local/lib/python2.7/dist-packages/qiime_default_reference/gg_13_8_otus/rep_set/97_otus.fasta\r\n",
        "                         sc_queue:\tall.q\r\n",
        "      topiaryexplorer_project_dir:\tNone\r\n",
        "     pynast_template_alignment_fp:\t/usr/local/lib/python2.7/dist-packages/qiime_default_reference/gg_13_8_otus/rep_set_aligned/85_otus.fasta\r\n",
        "                  cluster_jobs_fp:\tstart_parallel_jobs.py\r\n",
        "pynast_template_alignment_blastdb:\tNone\r\n",
        "assign_taxonomy_reference_seqs_fp:\t/usr/local/lib/python2.7/dist-packages/qiime_default_reference/gg_13_8_otus/rep_set/97_otus.fasta\r\n",
        "                     torque_queue:\tfriendlyq\r\n",
        "                    jobs_to_start:\t1\r\n",
        "            denoiser_min_per_core:\t50\r\n",
        "assign_taxonomy_id_to_taxonomy_fp:\t/usr/local/lib/python2.7/dist-packages/qiime_default_reference/gg_13_8_otus/taxonomy/97_otu_taxonomy.txt\r\n",
        "                         temp_dir:\t/home/ubuntu/ebs/tmp\r\n",
        "                     slurm_memory:\tNone\r\n",
        "                      slurm_queue:\tNone\r\n",
        "                      blastall_fp:\t/qiime_software/blast-2.2.22-release/bin/blastall\r\n",
        "                 seconds_to_sleep:\t1\r\n",
        "\r\n",
        "QIIME base install test results\r\n",
        "===============================\r\n"
       ]
      },
      {
       "output_type": "stream",
       "stream": "stdout",
       "text": [
        "........"
       ]
      },
      {
       "output_type": "stream",
       "stream": "stdout",
       "text": [
        ".\r\n",
        "----------------------------------------------------------------------\r\n",
        "Ran 9 tests in 0.064s\r\n",
        "\r\n",
        "OK\r\n"
       ]
      }
     ],
     "prompt_number": 8
    },
    {
     "cell_type": "code",
     "collapsed": false,
     "input": [
      "!top"
     ],
     "language": "python",
     "metadata": {},
     "outputs": []
    },
    {
     "cell_type": "code",
     "collapsed": false,
     "input": [],
     "language": "python",
     "metadata": {},
     "outputs": []
    }
   ],
   "metadata": {}
  }
 ]
}