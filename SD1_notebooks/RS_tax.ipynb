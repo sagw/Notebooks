{
 "cells": [
  {
   "cell_type": "code",
   "execution_count": 1,
   "metadata": {
    "collapsed": false
   },
   "outputs": [],
   "source": [
    "!assign_taxonomy.py -i /Users/sarahgignoux-wolfsohn/Documents/TE_all/cbbs4_te/Taxonomy/step2_rep_set.fna -o /Users/sarahgignoux-wolfsohn/Documents/TE_all/cbbs4_te/Taxonomy/rep_set_tax_assignments_silva -t /Users/sarahgignoux-wolfsohn/Documents/gg/silva/silva_104/Silva_taxa_mapping_104set_97_otus.txt -r /Users/sarahgignoux-wolfsohn/Documents/gg/silva/silva_104/silva_104_rep_set.fasta -m blast"
   ]
  },
  {
   "cell_type": "code",
   "execution_count": 3,
   "metadata": {
    "collapsed": false
   },
   "outputs": [
    {
     "name": "stdout",
     "output_type": "stream",
     "text": [
      "New.ReferenceOTU4890\tNo blast hit\tNone\tNone\r\n",
      "New.ReferenceOTU5856\tNo blast hit\tNone\tNone\r\n",
      "New.ReferenceOTU6472\tNo blast hit\tNone\tNone\r\n",
      "New.ReferenceOTU792\tBacteria;Cyanobacteria;4C0d-2;uncultured\t1e-13\t28622\r\n",
      "New.ReferenceOTU9202\tNo blast hit\tNone\tNone\r\n",
      "New.ReferenceOTU19774\tNo blast hit\tNone\tNone\r\n",
      "New.ReferenceOTU19775\tBacteria;Proteobacteria;Gammaproteobacteria;Oceanospirillales;Hahellaceae;Endozoicomonas;uncultured\t4e-26\t62387\r\n",
      "New.ReferenceOTU19776\tNo blast hit\tNone\tNone\r\n",
      "New.ReferenceOTU19777\tBacteria;Proteobacteria;Gammaproteobacteria;Pseudomonadales;Pseudomonadaceae;Pseudomonas;uncultured\t4e-26\t59326\r\n",
      "New.ReferenceOTU19770\tBacteria;Proteobacteria;Gammaproteobacteria;Oceanospirillales;Oceanospirillaceae;Neptuniibacter\t2e-28\t42155\r\n"
     ]
    }
   ],
   "source": [
    "!head /Users/sarahgignoux-wolfsohn/Documents/TE_all/cbbs4_te/Taxonomy/rep_set_tax_assignments_silva.csv/step2_rep_set_tax_assignments.txt"
   ]
  },
  {
   "cell_type": "code",
   "execution_count": 4,
   "metadata": {
    "collapsed": false
   },
   "outputs": [
    {
     "name": "stdout",
     "output_type": "stream",
     "text": [
      "   20698 /Users/sarahgignoux-wolfsohn/Documents/TE_all/cbbs4_te/Taxonomy/rep_set_tax_assignments_silva.csv/step2_rep_set_tax_assignments.txt\r\n"
     ]
    }
   ],
   "source": [
    "!wc -l /Users/sarahgignoux-wolfsohn/Documents/TE_all/cbbs4_te/Taxonomy/rep_set_tax_assignments_silva.csv/step2_rep_set_tax_assignments.txt"
   ]
  },
  {
   "cell_type": "code",
   "execution_count": 5,
   "metadata": {
    "collapsed": true
   },
   "outputs": [],
   "source": [
    "## have to do this in terminal convert to csv using sed -e 's/ctr+v+tab/,/g'"
   ]
  },
  {
   "cell_type": "code",
   "execution_count": 6,
   "metadata": {
    "collapsed": false
   },
   "outputs": [
    {
     "name": "stdout",
     "output_type": "stream",
     "text": [
      "New.ReferenceOTU4890,No blast hit,None,None\r\n",
      "New.ReferenceOTU5856,No blast hit,None,None\r\n",
      "New.ReferenceOTU6472,No blast hit,None,None\r\n",
      "New.ReferenceOTU792,Bacteria;Cyanobacteria;4C0d-2;uncultured,1e-13,28622\r\n",
      "New.ReferenceOTU9202,No blast hit,None,None\r\n",
      "New.ReferenceOTU19774,No blast hit,None,None\r\n",
      "New.ReferenceOTU19775,Bacteria;Proteobacteria;Gammaproteobacteria;Oceanospirillales;Hahellaceae;Endozoicomonas;uncultured,4e-26,62387\r\n",
      "New.ReferenceOTU19776,No blast hit,None,None\r\n",
      "New.ReferenceOTU19777,Bacteria;Proteobacteria;Gammaproteobacteria;Pseudomonadales;Pseudomonadaceae;Pseudomonas;uncultured,4e-26,59326\r\n",
      "New.ReferenceOTU19770,Bacteria;Proteobacteria;Gammaproteobacteria;Oceanospirillales;Oceanospirillaceae;Neptuniibacter,2e-28,42155\r\n"
     ]
    }
   ],
   "source": [
    "! head /Users/sarahgignoux-wolfsohn/Documents/TE_all/cbbs4_te/Taxonomy/rep_set_tax_assignments_silva.csv/te_silva_tax.csv"
   ]
  },
  {
   "cell_type": "code",
   "execution_count": 7,
   "metadata": {
    "collapsed": true
   },
   "outputs": [],
   "source": [
    "f=open('/Users/sarahgignoux-wolfsohn/Documents/TE_all/cbbs4_te/Taxonomy/rep_set_tax_assignments_silva.csv/te_silva_tax.csv', 'r')"
   ]
  },
  {
   "cell_type": "code",
   "execution_count": 8,
   "metadata": {
    "collapsed": true
   },
   "outputs": [],
   "source": [
    "o=open('/Users/sarahgignoux-wolfsohn/Documents/TE_all/cbbs4_te/Taxonomy/rep_set_tax_assignments_silva.csv/te_silva_tax_clean.csv', 'w')"
   ]
  },
  {
   "cell_type": "code",
   "execution_count": 9,
   "metadata": {
    "collapsed": false
   },
   "outputs": [
    {
     "name": "stdout",
     "output_type": "stream",
     "text": [
      "New.ReferenceOTU3748,Bacteria;Actinobacteria;Actinobacteria;Actinomycetales;Frankineae;Sporichthyaceae;hgcI,1e-26,86665\n",
      "\n",
      "New.ReferenceOTU17721,Bacteria;Actinobacteria;Actinobacteria;Solirubrobacterales;Conexibacteraceae;Conexibacter;Conexibacter,8e-12,53059\n",
      "\n",
      "New.ReferenceOTU12971,Bacteria;Actinobacteria;Actinobacteria;Actinomycetales;Corynebacterineae;uncultured;uncultured,3e-26,30745\n",
      "\n",
      "New.ReferenceOTU12919,Bacteria;Actinobacteria;Actinobacteria;Acidimicrobiales;Acidimicrobineae;uncultured;uncultured,1e-26,96079\n",
      "\n",
      "New.ReferenceOTU13571,Bacteria;Actinobacteria;Actinobacteria;Acidimicrobiales;Acidimicrobineae;uncultured;uncultured,6e-28,48975\n",
      "\n",
      "New.ReferenceOTU5956,Bacteria;Actinobacteria;Actinobacteria;Actinomycetales;Micrococcineae;Demequina;uncultured,2e-21,3154\n",
      "\n",
      "New.ReferenceOTU17843,Bacteria;Actinobacteria;Actinobacteria;Acidimicrobiales;Acidimicrobineae;Acidimicrobiaceae;CL500-29,1e-19,84752\n",
      "\n",
      "New.ReferenceOTU14212,Bacteria;Actinobacteria;Actinobacteria;Actinomycetales;Frankineae;uncultured;uncultured,6e-31,83016\n",
      "\n",
      "New.ReferenceOTU15049,Bacteria;Actinobacteria;Actinobacteria;Acidimicrobiales;Acidimicrobineae;Acidimicrobiaceae;CL500-29,4e-29,84752\n",
      "\n",
      "New.ReferenceOTU3928,Bacteria;Actinobacteria;Actinobacteria;Bifidobacteriales;Bifidobacteriaceae;Metascardovia;Metascardovia,6e-28,34988\n",
      "\n",
      "New.ReferenceOTU14438,Bacteria;Actinobacteria;Actinobacteria;Bifidobacteriales;Bifidobacteriaceae;Bifidobacterium;Bifidobacterium,6e-28,84386\n",
      "\n",
      "New.ReferenceOTU13142,Bacteria;Actinobacteria;Actinobacteria;Actinomycetales;Corynebacterineae;uncultured;uncultured,6e-21,30745\n",
      "\n",
      "New.ReferenceOTU18050,Bacteria;Actinobacteria;Actinobacteria;Acidimicrobiales;Acidimicrobineae;Acidimicrobiaceae;CL500-29,8e-09,84752\n",
      "\n",
      "New.ReferenceOTU11390,Bacteria;Actinobacteria;Actinobacteria;Bifidobacteriales;Bifidobacteriaceae;Gardnerella;Gardnerella,1e-32,57595\n",
      "\n",
      "New.ReferenceOTU11143,Bacteria;Actinobacteria;Actinobacteria;Acidimicrobiales;Acidimicrobineae;uncultured;uncultured,4e-23,98076\n",
      "\n",
      "New.ReferenceOTU19202,Bacteria;Actinobacteria;Actinobacteria;Bifidobacteriales;Bifidobacteriaceae;Gardnerella;Gardnerella,2e-27,57595\n",
      "\n",
      "New.ReferenceOTU17267,Bacteria;Actinobacteria;Actinobacteria;Acidimicrobiales;Acidimicrobineae;uncultured;uncultured,1e-11,40599\n",
      "\n",
      "New.ReferenceOTU1496,Bacteria;Actinobacteria;Actinobacteria;Acidimicrobiales;Acidimicrobineae;uncultured;uncultured,4e-19,96079\n",
      "\n",
      "New.ReferenceOTU18366,Bacteria;Actinobacteria;Actinobacteria;Acidimicrobiales;Acidimicrobineae;Acidimicrobiaceae;CL500-29,1e-23,84752\n",
      "\n"
     ]
    }
   ],
   "source": [
    "for line in f:\n",
    "    scount=line.count(';')\n",
    "    if scount==6:\n",
    "        o.write(line)\n",
    "    elif 0<=scount<6:\n",
    "        groups=line.split(',')\n",
    "        lineplus=','.join(groups[:2])+''.join([';']*(6-scount))+','+ ','.join(groups[2:])\n",
    "        o.write(lineplus)  \n",
    "    else:\n",
    "        groups2=line.split(';')\n",
    "        if \"Myxococcales\" in line: \n",
    "            lineplus=';'.join(groups2[:4])+ ';'+';'.join(groups2[5:])\n",
    "            o.write(lineplus) \n",
    "        elif scount==8:\n",
    "            lineplus=';'.join(groups2[:3])+';'+(groups2[4])+';'+ ';'.join(groups2[6:])\n",
    "            o.write(lineplus) \n",
    "        else:\n",
    "            lineplus=';'.join(groups2[:3])+';'+ ';'.join(groups2[4:])\n",
    "            o.write(lineplus) \n",
    "            print(lineplus)\n",
    "o.close()\n",
    "    "
   ]
  },
  {
   "cell_type": "code",
   "execution_count": 10,
   "metadata": {
    "collapsed": false
   },
   "outputs": [
    {
     "name": "stdout",
     "output_type": "stream",
     "text": [
      "   20698 /Users/sarahgignoux-wolfsohn/Documents/TE_all/cbbs4_te/Taxonomy/rep_set_tax_assignments_silva.csv/te_silva_tax_clean.csv\r\n"
     ]
    }
   ],
   "source": [
    "! wc -l /Users/sarahgignoux-wolfsohn/Documents/TE_all/cbbs4_te/Taxonomy/rep_set_tax_assignments_silva.csv/te_silva_tax_clean.csv"
   ]
  },
  {
   "cell_type": "code",
   "execution_count": 11,
   "metadata": {
    "collapsed": false
   },
   "outputs": [
    {
     "name": "stdout",
     "output_type": "stream",
     "text": [
      "New.ReferenceOTU4890,No blast hit;;;;;;,None,None\r\n",
      "New.ReferenceOTU5856,No blast hit;;;;;;,None,None\r\n",
      "New.ReferenceOTU6472,No blast hit;;;;;;,None,None\r\n",
      "New.ReferenceOTU792,Bacteria;Cyanobacteria;4C0d-2;uncultured;;;,1e-13,28622\r\n",
      "New.ReferenceOTU9202,No blast hit;;;;;;,None,None\r\n",
      "New.ReferenceOTU19774,No blast hit;;;;;;,None,None\r\n",
      "New.ReferenceOTU19775,Bacteria;Proteobacteria;Gammaproteobacteria;Oceanospirillales;Hahellaceae;Endozoicomonas;uncultured,4e-26,62387\r\n",
      "New.ReferenceOTU19776,No blast hit;;;;;;,None,None\r\n",
      "New.ReferenceOTU19777,Bacteria;Proteobacteria;Gammaproteobacteria;Pseudomonadales;Pseudomonadaceae;Pseudomonas;uncultured,4e-26,59326\r\n",
      "New.ReferenceOTU19770,Bacteria;Proteobacteria;Gammaproteobacteria;Oceanospirillales;Oceanospirillaceae;Neptuniibacter;,2e-28,42155\r\n"
     ]
    }
   ],
   "source": [
    "!head /Users/sarahgignoux-wolfsohn/Documents/TE_all/cbbs4_te/Taxonomy/rep_set_tax_assignments_silva.csv/te_silva_tax_clean.csv"
   ]
  },
  {
   "cell_type": "code",
   "execution_count": 12,
   "metadata": {
    "collapsed": true
   },
   "outputs": [],
   "source": [
    "! sed 's/;/,/g' /Users/sarahgignoux-wolfsohn/Documents/TE_all/cbbs4_te/Taxonomy/rep_set_tax_assignments_silva.csv/te_silva_tax_clean.csv> /Users/sarahgignoux-wolfsohn/Documents/TE_all/cbbs4_te/Taxonomy/rep_set_tax_assignments_silva.csv/te_silva_tax_clean2.csv"
   ]
  },
  {
   "cell_type": "code",
   "execution_count": 13,
   "metadata": {
    "collapsed": false
   },
   "outputs": [
    {
     "name": "stdout",
     "output_type": "stream",
     "text": [
      "New.ReferenceOTU4890,No blast hit,,,,,,,None,None\r\n",
      "New.ReferenceOTU5856,No blast hit,,,,,,,None,None\r\n",
      "New.ReferenceOTU6472,No blast hit,,,,,,,None,None\r\n",
      "New.ReferenceOTU792,Bacteria,Cyanobacteria,4C0d-2,uncultured,,,,1e-13,28622\r\n",
      "New.ReferenceOTU9202,No blast hit,,,,,,,None,None\r\n",
      "New.ReferenceOTU19774,No blast hit,,,,,,,None,None\r\n",
      "New.ReferenceOTU19775,Bacteria,Proteobacteria,Gammaproteobacteria,Oceanospirillales,Hahellaceae,Endozoicomonas,uncultured,4e-26,62387\r\n",
      "New.ReferenceOTU19776,No blast hit,,,,,,,None,None\r\n",
      "New.ReferenceOTU19777,Bacteria,Proteobacteria,Gammaproteobacteria,Pseudomonadales,Pseudomonadaceae,Pseudomonas,uncultured,4e-26,59326\r\n",
      "New.ReferenceOTU19770,Bacteria,Proteobacteria,Gammaproteobacteria,Oceanospirillales,Oceanospirillaceae,Neptuniibacter,,2e-28,42155\r\n"
     ]
    }
   ],
   "source": [
    "!head /Users/sarahgignoux-wolfsohn/Documents/TE_all/cbbs4_te/Taxonomy/rep_set_tax_assignments_silva.csv/te_silva_tax_clean2.csv"
   ]
  },
  {
   "cell_type": "code",
   "execution_count": 14,
   "metadata": {
    "collapsed": false
   },
   "outputs": [
    {
     "name": "stdout",
     "output_type": "stream",
     "text": [
      "   20698 /Users/sarahgignoux-wolfsohn/Documents/TE_all/cbbs4_te/Taxonomy/rep_set_tax_assignments_silva.csv/te_silva_tax_clean2.csv\r\n"
     ]
    }
   ],
   "source": [
    "! wc -l /Users/sarahgignoux-wolfsohn/Documents/TE_all/cbbs4_te/Taxonomy/rep_set_tax_assignments_silva.csv/te_silva_tax_clean2.csv"
   ]
  },
  {
   "cell_type": "code",
   "execution_count": 15,
   "metadata": {
    "collapsed": true
   },
   "outputs": [],
   "source": [
    "!assign_taxonomy.py -i /Users/sarahgignoux-wolfsohn/Documents/TE_all/cbbs4_te/Taxonomy/step2_rep_set.fna -o /Users/sarahgignoux-wolfsohn/Documents/TE_all/cbbs4_te/Taxonomy/rep_set_tax_assignments_gg -t /Users/sarahgignoux-wolfsohn/Documents/gg/gg_13_8_otus/taxonomy/97_otu_taxonomy.txt -r /Users/sarahgignoux-wolfsohn/Documents/gg/gg_13_8_otus/rep_set/97_otus.fasta -m blast"
   ]
  },
  {
   "cell_type": "code",
   "execution_count": 16,
   "metadata": {
    "collapsed": false
   },
   "outputs": [
    {
     "name": "stdout",
     "output_type": "stream",
     "text": [
      "New.ReferenceOTU4890\tNo blast hit\tNone\tNone\r\n",
      "New.ReferenceOTU5856\tNo blast hit\tNone\tNone\r\n",
      "New.ReferenceOTU6472\tk__Bacteria; p__Verrucomicrobia; c__Verrucomicrobiae; o__Verrucomicrobiales; f__Verrucomicrobiaceae; g__Rubritalea; s__\t6e-28\t2873833\r\n",
      "New.ReferenceOTU792\tk__Bacteria; p__Cyanobacteria; c__4C0d-2; o__SM2F09; f__; g__; s__\t1e-13\t577018\r\n",
      "New.ReferenceOTU9202\tNo blast hit\tNone\tNone\r\n",
      "New.ReferenceOTU19774\tNo blast hit\tNone\tNone\r\n",
      "New.ReferenceOTU19775\tk__Bacteria; p__Proteobacteria; c__Gammaproteobacteria; o__Oceanospirillales; f__Endozoicimonaceae; g__; s__\t1e-28\t564590\r\n",
      "New.ReferenceOTU19776\tNo blast hit\tNone\tNone\r\n",
      "New.ReferenceOTU19777\tk__Bacteria; p__Proteobacteria; c__Gammaproteobacteria; o__Oceanospirillales; f__Oceanospirillaceae; g__Oleispira; s__\t4e-26\t244721\r\n",
      "New.ReferenceOTU19770\tk__Bacteria; p__Proteobacteria; c__Gammaproteobacteria; o__Alteromonadales; f__; g__; s__\t4e-29\t1111895\r\n"
     ]
    }
   ],
   "source": [
    "!head /Users/sarahgignoux-wolfsohn/Documents/TE_all/cbbs4_te/Taxonomy/rep_set_tax_assignments_gg/step2_rep_set_tax_assignments.txt"
   ]
  },
  {
   "cell_type": "code",
   "execution_count": 17,
   "metadata": {
    "collapsed": false
   },
   "outputs": [
    {
     "name": "stdout",
     "output_type": "stream",
     "text": [
      "   20698 /Users/sarahgignoux-wolfsohn/Documents/TE_all/cbbs4_te/Taxonomy/rep_set_tax_assignments_gg/step2_rep_set_tax_assignments.txt\r\n"
     ]
    }
   ],
   "source": [
    "!wc -l /Users/sarahgignoux-wolfsohn/Documents/TE_all/cbbs4_te/Taxonomy/rep_set_tax_assignments_gg/step2_rep_set_tax_assignments.txt"
   ]
  },
  {
   "cell_type": "code",
   "execution_count": null,
   "metadata": {
    "collapsed": true
   },
   "outputs": [],
   "source": [
    "## have to do this in terminal convert to csv using sed -e 's/ctr+v+tab/,/g'"
   ]
  },
  {
   "cell_type": "code",
   "execution_count": 18,
   "metadata": {
    "collapsed": false
   },
   "outputs": [
    {
     "name": "stdout",
     "output_type": "stream",
     "text": [
      "New.ReferenceOTU4890,No blast hit,None,None\r\n",
      "New.ReferenceOTU5856,No blast hit,None,None\r\n",
      "New.ReferenceOTU6472,k__Bacteria; p__Verrucomicrobia; c__Verrucomicrobiae; o__Verrucomicrobiales; f__Verrucomicrobiaceae; g__Rubritalea; s__,6e-28,2873833\r\n",
      "New.ReferenceOTU792,k__Bacteria; p__Cyanobacteria; c__4C0d-2; o__SM2F09; f__; g__; s__,1e-13,577018\r\n",
      "New.ReferenceOTU9202,No blast hit,None,None\r\n",
      "New.ReferenceOTU19774,No blast hit,None,None\r\n",
      "New.ReferenceOTU19775,k__Bacteria; p__Proteobacteria; c__Gammaproteobacteria; o__Oceanospirillales; f__Endozoicimonaceae; g__; s__,1e-28,564590\r\n",
      "New.ReferenceOTU19776,No blast hit,None,None\r\n",
      "New.ReferenceOTU19777,k__Bacteria; p__Proteobacteria; c__Gammaproteobacteria; o__Oceanospirillales; f__Oceanospirillaceae; g__Oleispira; s__,4e-26,244721\r\n",
      "New.ReferenceOTU19770,k__Bacteria; p__Proteobacteria; c__Gammaproteobacteria; o__Alteromonadales; f__; g__; s__,4e-29,1111895\r\n"
     ]
    }
   ],
   "source": [
    "!head /Users/sarahgignoux-wolfsohn/Documents/TE_all/cbbs4_te/Taxonomy/rep_set_tax_assignments_gg/TE_gg_tax.csv"
   ]
  },
  {
   "cell_type": "code",
   "execution_count": 19,
   "metadata": {
    "collapsed": true
   },
   "outputs": [],
   "source": [
    "! sed 's/;/,/g' /Users/sarahgignoux-wolfsohn/Documents/TE_all/cbbs4_te/Taxonomy/rep_set_tax_assignments_gg/TE_gg_tax.csv > /Users/sarahgignoux-wolfsohn/Documents/TE_all/cbbs4_te/Taxonomy/rep_set_tax_assignments_gg/TE_gg_tax_clean.csv"
   ]
  },
  {
   "cell_type": "code",
   "execution_count": 20,
   "metadata": {
    "collapsed": false
   },
   "outputs": [
    {
     "name": "stdout",
     "output_type": "stream",
     "text": [
      "New.ReferenceOTU4890,No blast hit,None,None\r\n",
      "New.ReferenceOTU5856,No blast hit,None,None\r\n",
      "New.ReferenceOTU6472,k__Bacteria, p__Verrucomicrobia, c__Verrucomicrobiae, o__Verrucomicrobiales, f__Verrucomicrobiaceae, g__Rubritalea, s__,6e-28,2873833\r\n",
      "New.ReferenceOTU792,k__Bacteria, p__Cyanobacteria, c__4C0d-2, o__SM2F09, f__, g__, s__,1e-13,577018\r\n",
      "New.ReferenceOTU9202,No blast hit,None,None\r\n",
      "New.ReferenceOTU19774,No blast hit,None,None\r\n",
      "New.ReferenceOTU19775,k__Bacteria, p__Proteobacteria, c__Gammaproteobacteria, o__Oceanospirillales, f__Endozoicimonaceae, g__, s__,1e-28,564590\r\n",
      "New.ReferenceOTU19776,No blast hit,None,None\r\n",
      "New.ReferenceOTU19777,k__Bacteria, p__Proteobacteria, c__Gammaproteobacteria, o__Oceanospirillales, f__Oceanospirillaceae, g__Oleispira, s__,4e-26,244721\r\n",
      "New.ReferenceOTU19770,k__Bacteria, p__Proteobacteria, c__Gammaproteobacteria, o__Alteromonadales, f__, g__, s__,4e-29,1111895\r\n"
     ]
    }
   ],
   "source": [
    "!head /Users/sarahgignoux-wolfsohn/Documents/TE_all/cbbs4_te/Taxonomy/rep_set_tax_assignments_gg/TE_gg_tax_clean.csv"
   ]
  },
  {
   "cell_type": "code",
   "execution_count": 21,
   "metadata": {
    "collapsed": true
   },
   "outputs": [],
   "source": [
    "!sed 's/.__//g' /Users/sarahgignoux-wolfsohn/Documents/TE_all/cbbs4_te/Taxonomy/rep_set_tax_assignments_gg/TE_gg_tax_clean.csv> /Users/sarahgignoux-wolfsohn/Documents/TE_all/cbbs4_te/Taxonomy/rep_set_tax_assignments_gg/TE_gg_tax_clean2.csv"
   ]
  },
  {
   "cell_type": "code",
   "execution_count": 22,
   "metadata": {
    "collapsed": false
   },
   "outputs": [
    {
     "name": "stdout",
     "output_type": "stream",
     "text": [
      "New.ReferenceOTU4890,No blast hit,None,None\r\n",
      "New.ReferenceOTU5856,No blast hit,None,None\r\n",
      "New.ReferenceOTU6472,Bacteria, Verrucomicrobia, Verrucomicrobiae, Verrucomicrobiales, Verrucomicrobiaceae, Rubritalea, ,6e-28,2873833\r\n",
      "New.ReferenceOTU792,Bacteria, Cyanobacteria, 4C0d-2, SM2F09, , , ,1e-13,577018\r\n",
      "New.ReferenceOTU9202,No blast hit,None,None\r\n",
      "New.ReferenceOTU19774,No blast hit,None,None\r\n",
      "New.ReferenceOTU19775,Bacteria, Proteobacteria, Gammaproteobacteria, Oceanospirillales, Endozoicimonaceae, , ,1e-28,564590\r\n",
      "New.ReferenceOTU19776,No blast hit,None,None\r\n",
      "New.ReferenceOTU19777,Bacteria, Proteobacteria, Gammaproteobacteria, Oceanospirillales, Oceanospirillaceae, Oleispira, ,4e-26,244721\r\n",
      "New.ReferenceOTU19770,Bacteria, Proteobacteria, Gammaproteobacteria, Alteromonadales, , , ,4e-29,1111895\r\n"
     ]
    }
   ],
   "source": [
    "!head /Users/sarahgignoux-wolfsohn/Documents/TE_all/cbbs4_te/Taxonomy/rep_set_tax_assignments_gg/TE_gg_tax_clean2.csv"
   ]
  },
  {
   "cell_type": "code",
   "execution_count": null,
   "metadata": {
    "collapsed": true
   },
   "outputs": [],
   "source": []
  }
 ],
 "metadata": {
  "kernelspec": {
   "display_name": "Python 3",
   "language": "python",
   "name": "python3"
  },
  "language_info": {
   "codemirror_mode": {
    "name": "ipython",
    "version": 3
   },
   "file_extension": ".py",
   "mimetype": "text/x-python",
   "name": "python",
   "nbconvert_exporter": "python",
   "pygments_lexer": "ipython3",
   "version": "3.4.4"
  }
 },
 "nbformat": 4,
 "nbformat_minor": 0
}
