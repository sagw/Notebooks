{
 "cells": [
  {
   "cell_type": "code",
   "execution_count": 3,
   "metadata": {
    "collapsed": false
   },
   "outputs": [],
   "source": [
    "!cat /Users/sarahgignoux-wolfsohn/Documents/Miami_WBD/Miami_WBD_demultiplexed/* > /Users/sarahgignoux-wolfsohn/Documents/Miami_WBD/Miami_qiime.fasta"
   ]
  },
  {
   "cell_type": "code",
   "execution_count": 4,
   "metadata": {
    "collapsed": false
   },
   "outputs": [
    {
     "name": "stdout",
     "output_type": "stream",
     "text": [
      ">D10_1:ILLUMINA-D00365:412:HCMTVADXX:1:1101:20687:2141 1:N:0:CAGATC\r\n",
      "CTACGCGAAGAACCTTACCAAGTCTTGACATGTTAGTCGTATGATTAGGAAACTAGTCAG\r\n",
      "TCAGTTCGGCTGGACTATCACAGGTGTTGCATGGCTGTCGTCAGCTCGTGTTGT\r\n",
      ">D10_2:ILLUMINA-D00365:412:HCMTVADXX:1:1101:10508:2483 1:N:0:CAGATC\r\n",
      "CAACGCGAAGAACCTTACCAAGTCTTGACATGTTAGTCGTATGATTAGGAAACTAGTCAG\r\n",
      "TCAGTTCGGCTGGACTATCACAGGTGTTGCATGGCTGTCGTCAGCTCGTGTCGT\r\n",
      ">D10_3:ILLUMINA-D00365:412:HCMTVADXX:1:1101:10987:2469 1:N:0:CAGATC\r\n",
      "CTACGCGAAGAACCTTACCAAGTCTTGACATGTTAGTCGTATGATTAGGAAACTAGTCAG\r\n",
      "TCAGTTCGGCTGGACTATCACAGGTGTTGCATGGCTGTCGTCAGCTCGTGTCGT\r\n",
      ">D10_4:ILLUMINA-D00365:412:HCMTVADXX:1:1101:19853:3309 1:N:0:CAGATC\r\n"
     ]
    }
   ],
   "source": [
    "!head /Users/sarahgignoux-wolfsohn/Documents/Miami_WBD/Miami_qiime.fasta"
   ]
  },
  {
   "cell_type": "code",
   "execution_count": 5,
   "metadata": {
    "collapsed": false
   },
   "outputs": [
    {
     "name": "stdout",
     "output_type": "stream",
     "text": [
      " 2063769 /Users/sarahgignoux-wolfsohn/Documents/Miami_WBD/Miami_qiime.fasta\r\n"
     ]
    }
   ],
   "source": [
    "!wc -l /Users/sarahgignoux-wolfsohn/Documents/Miami_WBD/Miami_qiime.fasta"
   ]
  },
  {
   "cell_type": "code",
   "execution_count": 2,
   "metadata": {
    "collapsed": false
   },
   "outputs": [],
   "source": [
    "!pick_open_reference_otus.py -i /Users/sarahgignoux-wolfsohn/Documents/Miami_WBD/Miami_qiime.fasta -r /Users/sarahgignoux-wolfsohn/Documents/gg/gg_13_8_otus/rep_set/97_otus.fasta -s 1 --suppress_taxonomy_assignment  --suppress_align_and_tree -o /Users/sarahgignoux-wolfsohn/Documents/Miami_WBD/Miami_97_otus"
   ]
  },
  {
   "cell_type": "code",
   "execution_count": 6,
   "metadata": {
    "collapsed": false
   },
   "outputs": [
    {
     "name": "stdout",
     "output_type": "stream",
     "text": [
      "Num samples: 10\r\n",
      "Num observations: 6605\r\n",
      "Total count: 684925.0\r\n",
      "Table density (fraction of non-zero values): 0.2462\r\n",
      "Table md5 (unzipped): e33600cf5c7b4d4f8ce92bc431cdbd81\r\n",
      "\r\n",
      "Counts/sample summary:\r\n",
      " Min: 15544.0\r\n",
      " Max: 139981.0\r\n",
      " Median: 67796.0\r\n",
      " Mean: 68492.5\r\n",
      " Std. dev.: 40415.1287868\r\n",
      " Sample Metadata Categories: None provided\r\n",
      " Observation Metadata Categories: None provided\r\n",
      "\r\n",
      "Counts/sample detail:\r\n",
      " D10: 15544.0\r\n",
      " H6: 26067.0\r\n",
      " H8: 30065.0\r\n",
      " H7: 40888.0\r\n",
      " H9: 65985.0\r\n",
      " D6: 69607.0\r\n",
      " SD1.CK14D2.CK14.O: 73324.0\r\n",
      " D9: 94255.0\r\n",
      " D7: 129209.0\r\n",
      " D8: 139981.0\r\n"
     ]
    }
   ],
   "source": [
    "!print_biom_table_summary.py -i /Users/sarahgignoux-wolfsohn/Documents/Miami_WBD/Miami_97_otus/otu_table_mc2.biom"
   ]
  },
  {
   "cell_type": "code",
   "execution_count": 1,
   "metadata": {
    "collapsed": false
   },
   "outputs": [],
   "source": [
    "#need to rename H10"
   ]
  },
  {
   "cell_type": "code",
   "execution_count": 8,
   "metadata": {
    "collapsed": false
   },
   "outputs": [],
   "source": [
    "!sed 's/SD1.CK14D2.CK14.O/H10/' /Users/sarahgignoux-wolfsohn/Documents/Miami_WBD/Miami_97_otus/otu_table_mc2.biom > /Users/sarahgignoux-wolfsohn/Documents/Miami_WBD/Miami_97_otus/otu_table_mc2_2.biom"
   ]
  },
  {
   "cell_type": "code",
   "execution_count": 10,
   "metadata": {
    "collapsed": false
   },
   "outputs": [
    {
     "name": "stdout",
     "output_type": "stream",
     "text": [
      "Num samples: 10\r\n",
      "Num observations: 6605\r\n",
      "Total count: 684925.0\r\n",
      "Table density (fraction of non-zero values): 0.2462\r\n",
      "Table md5 (unzipped): 70b329438f3ae1139fba0287b6045db2\r\n",
      "\r\n",
      "Counts/sample summary:\r\n",
      " Min: 15544.0\r\n",
      " Max: 139981.0\r\n",
      " Median: 67796.0\r\n",
      " Mean: 68492.5\r\n",
      " Std. dev.: 40415.1287868\r\n",
      " Sample Metadata Categories: None provided\r\n",
      " Observation Metadata Categories: None provided\r\n",
      "\r\n",
      "Counts/sample detail:\r\n",
      " D10: 15544.0\r\n",
      " H6: 26067.0\r\n",
      " H8: 30065.0\r\n",
      " H7: 40888.0\r\n",
      " H9: 65985.0\r\n",
      " D6: 69607.0\r\n",
      " H10: 73324.0\r\n",
      " D9: 94255.0\r\n",
      " D7: 129209.0\r\n",
      " D8: 139981.0\r\n"
     ]
    }
   ],
   "source": [
    "!print_biom_table_summary.py -i /Users/sarahgignoux-wolfsohn/Documents/Miami_WBD/Miami_97_otus/otu_table_mc2_2.biom"
   ]
  },
  {
   "cell_type": "code",
   "execution_count": 13,
   "metadata": {
    "collapsed": false
   },
   "outputs": [],
   "source": [
    "!assign_taxonomy.py -m blast -i /Users/sarahgignoux-wolfsohn/Documents/Miami_WBD/Miami_97_otus/rep_set.fna -r /Users/sarahgignoux-wolfsohn/Documents/gg/gg_13_8_otus/rep_set/97_otus.fasta -t /Users/sarahgignoux-wolfsohn/Documents/gg/gg_13_8_otus/taxonomy/97_otu_taxonomy.txt -o /Users/sarahgignoux-wolfsohn/Documents/Miami_WBD/Miami_97_otus/tax"
   ]
  },
  {
   "cell_type": "code",
   "execution_count": 14,
   "metadata": {
    "collapsed": false
   },
   "outputs": [
    {
     "name": "stdout",
     "output_type": "stream",
     "text": [
      "New.ReferenceOTU911\tk__Bacteria; p__WS3; c__PRR-12; o__LD1-PA13; f__; g__; s__\t5e-17\t4348975\r\n",
      "561174\tk__Bacteria; p__Proteobacteria; c__Alphaproteobacteria; o__Rhodobacterales; f__Rhodobacteraceae; g__; s__\t2e-53\t2729077\r\n",
      "114788\tk__Bacteria; p__Verrucomicrobia; c__Opitutae; o__Opitutales; f__Opitutaceae; g__Opitutus; s__\t8e-50\t114788\r\n",
      "New.ReferenceOTU6627\tk__Bacteria; p__Proteobacteria; c__Deltaproteobacteria; o__GMD14H09; f__; g__; s__\t1e-33\t242171\r\n",
      "New.ReferenceOTU915\tNo blast hit\tNone\tNone\r\n",
      "New.ReferenceOTU6626\tk__Bacteria; p__Caldithrix; c__Caldithrixae; o__Caldithrixales; f__BA059; g__; s__\t7e-41\t690132\r\n",
      "New.ReferenceOTU916\tk__Bacteria; p__Proteobacteria; c__Deltaproteobacteria; o__Spirobacillales; f__; g__; s__\t4e-27\t4173596\r\n",
      "4461722\tk__Bacteria; p__Proteobacteria; c__Gammaproteobacteria; o__Oceanospirillales; f__Halomonadaceae; g__; s__\t2e-50\t4461722\r\n",
      "New.ReferenceOTU5405\tk__Bacteria; p__Proteobacteria; c__Gammaproteobacteria; o__Oceanospirillales; f__Endozoicimonaceae; g__; s__\t8e-50\t564590\r\n",
      "New.ReferenceOTU5406\tk__Bacteria; p__Proteobacteria; c__TA18; o__PHOS-HD29; f__; g__; s__\t8e-47\t4473823\r\n"
     ]
    }
   ],
   "source": [
    "!head /Users/sarahgignoux-wolfsohn/Documents/Miami_WBD/Miami_97_otus/tax/rep_set_tax_assignments.txt"
   ]
  },
  {
   "cell_type": "code",
   "execution_count": 15,
   "metadata": {
    "collapsed": false
   },
   "outputs": [
    {
     "name": "stdout",
     "output_type": "stream",
     "text": [
      "    6605 /Users/sarahgignoux-wolfsohn/Documents/Miami_WBD/Miami_97_otus/tax/rep_set_tax_assignments.txt\r\n"
     ]
    }
   ],
   "source": [
    "!wc -l /Users/sarahgignoux-wolfsohn/Documents/Miami_WBD/Miami_97_otus/tax/rep_set_tax_assignments.txt"
   ]
  },
  {
   "cell_type": "code",
   "execution_count": 59,
   "metadata": {
    "collapsed": false
   },
   "outputs": [
    {
     "name": "stdout",
     "output_type": "stream",
     "text": [
      "usearch_i86osx32 v6.0.307, 4.0Gb RAM (8.6Gb total), 4 cores\n",
      "(C) Copyright 2010-12 Robert C. Edgar, all rights reserved.\n",
      "http://drive5.com/usearch\n",
      "\n",
      "Licensed to: gw.sarah@gmail.com\n",
      "\n",
      "00:00 933.9kb Reading /Users/sarahgignoux-wolfsohn/Documents/Miami_WBD/Miami_97_otus/rep_set.fna, 1.2Mb\n",
      "00:00 2.2Mb 6605 seqs, min 16, avg 109, max 275nt\n",
      "00:00 2.3Mb Reading /Users/sarahgignoux-wolfsohn/Documents/SD1/SD1_otus_97/SD1_otus_97_tax/Chimeras/chimera_ref.fa, 30Mb\n",
      "00:00  32Mb 20098 (20.1k) seqs, min 320, avg 1443, max 2210nt\n",
      "00:01  32Mb  100.0% Masking\n",
      "00:02  33Mb  100.0% Word stats\n",
      "00:04 153Mb  100.0% Build index\n",
      "00:14 196Mb  100.0% Search 52/6605 chimeras found (0.8%)\n",
      "00:15 196Mb  100.0% Writing hits\n",
      "00:15 196Mb  100.0% Writing 52 chimeras\n"
     ]
    }
   ],
   "source": [
    "!usearch -uchime_ref /Users/sarahgignoux-wolfsohn/Documents/Miami_WBD/Miami_97_otus/rep_set.fna -db /Users/sarahgignoux-wolfsohn/Documents/SD1/SD1_otus_97/SD1_otus_97_tax/Chimeras/chimera_ref.fa -uchimeout /Users/sarahgignoux-wolfsohn/Documents/Miami_WBD/Miami_97_otus/uchime_out -strand plus -chimeras /Users/sarahgignoux-wolfsohn/Documents/Miami_WBD/Miami_97_otus/chimeras.txt"
   ]
  },
  {
   "cell_type": "code",
   "execution_count": 60,
   "metadata": {
    "collapsed": false
   },
   "outputs": [
    {
     "name": "stdout",
     "output_type": "stream",
     "text": [
      ">101015\r\n",
      "CAACGCGAGGAACCTTACCTACTCTTGACATCCTCGGAACTTTCCAGAGATGGATTGGTGCCTTCGGGAACCGAGTGACA\r\n",
      "GGTGCTGCATGGCTGTCGTCAGCTCGTGTCGT\r\n",
      ">146400\r\n",
      "CTACGCGAAGAACCTTACCAGACCTTGACATACCAATCGCGGTTTTCAGAGATGAATTCCTTCAGTTCGGCTGGATTGGA\r\n",
      "TACAGGTGCTGCATGGCTGTCGTCAGCTCGTGTCGT\r\n",
      ">319044\r\n",
      "CTACGCGAGGAACCTTACCTGGTCTTGACATCCCGAGAATCTCTTGGAAACAAGAGAGTGCACTTCGGTGAACTCGGTGA\r\n",
      "CAGGTGCTGCATGGCTGTCGTCAGCTCGTGTCGT\r\n",
      ">572337\r\n"
     ]
    }
   ],
   "source": [
    "!head /Users/sarahgignoux-wolfsohn/Documents/Miami_WBD/Miami_97_otus/chimeras.txt"
   ]
  },
  {
   "cell_type": "code",
   "execution_count": 61,
   "metadata": {
    "collapsed": false
   },
   "outputs": [
    {
     "name": "stdout",
     "output_type": "stream",
     "text": [
      "     156 /Users/sarahgignoux-wolfsohn/Documents/Miami_WBD/Miami_97_otus/chimeras.txt\r\n"
     ]
    }
   ],
   "source": [
    "!wc -l /Users/sarahgignoux-wolfsohn/Documents/Miami_WBD/Miami_97_otus/chimeras.txt"
   ]
  },
  {
   "cell_type": "code",
   "execution_count": 86,
   "metadata": {
    "collapsed": false
   },
   "outputs": [],
   "source": [
    "!sed -n '/^>/p' /Users/sarahgignoux-wolfsohn/Documents/Miami_WBD/Miami_97_otus/chimeras.txt > /Users/sarahgignoux-wolfsohn/Documents/Miami_WBD/Miami_97_otus/chimeras2.txt"
   ]
  },
  {
   "cell_type": "code",
   "execution_count": 87,
   "metadata": {
    "collapsed": false
   },
   "outputs": [
    {
     "name": "stdout",
     "output_type": "stream",
     "text": [
      ">101015\r\n",
      ">146400\r\n",
      ">319044\r\n",
      ">572337\r\n",
      ">846727\r\n",
      ">New.ReferenceOTU1068\r\n",
      ">New.ReferenceOTU1192\r\n",
      ">New.ReferenceOTU1223\r\n",
      ">New.ReferenceOTU1368\r\n",
      ">New.ReferenceOTU1728\r\n"
     ]
    }
   ],
   "source": [
    "!head /Users/sarahgignoux-wolfsohn/Documents/Miami_WBD/Miami_97_otus/chimeras2.txt"
   ]
  },
  {
   "cell_type": "code",
   "execution_count": 88,
   "metadata": {
    "collapsed": false
   },
   "outputs": [],
   "source": [
    "!sed 's/>//g' /Users/sarahgignoux-wolfsohn/Documents/Miami_WBD/Miami_97_otus/chimeras2.txt > /Users/sarahgignoux-wolfsohn/Documents/Miami_WBD/Miami_97_otus/chimeras3.txt"
   ]
  },
  {
   "cell_type": "code",
   "execution_count": 89,
   "metadata": {
    "collapsed": false
   },
   "outputs": [
    {
     "name": "stdout",
     "output_type": "stream",
     "text": [
      "101015\r\n",
      "146400\r\n",
      "319044\r\n",
      "572337\r\n",
      "846727\r\n",
      "New.ReferenceOTU1068\r\n",
      "New.ReferenceOTU1192\r\n",
      "New.ReferenceOTU1223\r\n",
      "New.ReferenceOTU1368\r\n",
      "New.ReferenceOTU1728\r\n"
     ]
    }
   ],
   "source": [
    "!head /Users/sarahgignoux-wolfsohn/Documents/Miami_WBD/Miami_97_otus/chimeras3.txt"
   ]
  },
  {
   "cell_type": "code",
   "execution_count": 90,
   "metadata": {
    "collapsed": false
   },
   "outputs": [
    {
     "name": "stdout",
     "output_type": "stream",
     "text": [
      "      52 /Users/sarahgignoux-wolfsohn/Documents/Miami_WBD/Miami_97_otus/chimeras3.txt\r\n"
     ]
    }
   ],
   "source": [
    "!wc -l /Users/sarahgignoux-wolfsohn/Documents/Miami_WBD/Miami_97_otus/chimeras3.txt"
   ]
  },
  {
   "cell_type": "code",
   "execution_count": 37,
   "metadata": {
    "collapsed": false
   },
   "outputs": [],
   "source": [
    "!convert_biom.py -b -i /Users/sarahgignoux-wolfsohn/Documents/Miami_WBD/Miami_97_otus/otu_table_mc2_2.biom -o /Users/sarahgignoux-wolfsohn/Documents/Miami_WBD/Miami_97_otus/otu_table_mc2_2.txt"
   ]
  },
  {
   "cell_type": "code",
   "execution_count": 38,
   "metadata": {
    "collapsed": false
   },
   "outputs": [
    {
     "name": "stdout",
     "output_type": "stream",
     "text": [
      "# Constructed from biom file\r\n",
      "#OTU ID\tD7\tD9\tD8\tD6\tH9\tH6\tD10\tH10\tH8\tH7\r\n",
      "248442\t34.0\t1.0\t0.0\t0.0\t0.0\t0.0\t0.0\t0.0\t0.0\t0.0\r\n",
      "114788\t8.0\t0.0\t0.0\t0.0\t0.0\t0.0\t0.0\t0.0\t0.0\t0.0\r\n",
      "4409039\t0.0\t0.0\t9.0\t0.0\t0.0\t0.0\t0.0\t0.0\t0.0\t0.0\r\n",
      "172411\t0.0\t0.0\t0.0\t12.0\t0.0\t0.0\t0.0\t0.0\t0.0\t0.0\r\n",
      "96373\t1.0\t0.0\t0.0\t0.0\t1.0\t0.0\t0.0\t0.0\t0.0\t0.0\r\n",
      "4327205\t0.0\t0.0\t2.0\t2.0\t0.0\t1.0\t0.0\t0.0\t0.0\t0.0\r\n",
      "573599\t11.0\t68.0\t331.0\t16.0\t136.0\t501.0\t181.0\t270.0\t417.0\t7.0\r\n",
      "3209311\t0.0\t0.0\t0.0\t7.0\t0.0\t0.0\t0.0\t0.0\t0.0\t0.0\r\n"
     ]
    }
   ],
   "source": [
    "!head /Users/sarahgignoux-wolfsohn/Documents/Miami_WBD/Miami_97_otus/otu_table_mc2_2.txt"
   ]
  },
  {
   "cell_type": "code",
   "execution_count": 57,
   "metadata": {
    "collapsed": false
   },
   "outputs": [],
   "source": [
    "!sed -e 's/OTU ID/OTUID/' -e 's/[[:blank:]]/,/g' /Users/sarahgignoux-wolfsohn/Documents/Miami_WBD/Miami_97_otus/otu_table_mc2_2.txt>/Users/sarahgignoux-wolfsohn/Documents/Miami_WBD/Miami_97_otus/otu_table_mc2_2.csv"
   ]
  },
  {
   "cell_type": "code",
   "execution_count": 58,
   "metadata": {
    "collapsed": false
   },
   "outputs": [
    {
     "name": "stdout",
     "output_type": "stream",
     "text": [
      "#,Constructed,from,biom,file\r\n",
      "#OTUID,D7,D9,D8,D6,H9,H6,D10,H10,H8,H7\r\n",
      "248442,34.0,1.0,0.0,0.0,0.0,0.0,0.0,0.0,0.0,0.0\r\n",
      "114788,8.0,0.0,0.0,0.0,0.0,0.0,0.0,0.0,0.0,0.0\r\n",
      "4409039,0.0,0.0,9.0,0.0,0.0,0.0,0.0,0.0,0.0,0.0\r\n",
      "172411,0.0,0.0,0.0,12.0,0.0,0.0,0.0,0.0,0.0,0.0\r\n",
      "96373,1.0,0.0,0.0,0.0,1.0,0.0,0.0,0.0,0.0,0.0\r\n",
      "4327205,0.0,0.0,2.0,2.0,0.0,1.0,0.0,0.0,0.0,0.0\r\n",
      "573599,11.0,68.0,331.0,16.0,136.0,501.0,181.0,270.0,417.0,7.0\r\n",
      "3209311,0.0,0.0,0.0,7.0,0.0,0.0,0.0,0.0,0.0,0.0\r\n"
     ]
    }
   ],
   "source": [
    "!head /Users/sarahgignoux-wolfsohn/Documents/Miami_WBD/Miami_97_otus/otu_table_mc2_2.csv"
   ]
  },
  {
   "cell_type": "code",
   "execution_count": 107,
   "metadata": {
    "collapsed": false
   },
   "outputs": [
    {
     "name": "stdout",
     "output_type": "stream",
     "text": [
      "usage: tr [-Ccsu] string1 string2\r\n",
      "       tr [-Ccu] -d string1\r\n",
      "       tr [-Ccu] -s string1\r\n",
      "       tr [-Ccu] -ds string1 string2\r\n"
     ]
    }
   ],
   "source": [
    "## had to do this not in ipython...!sed -e 's/ctr+v+t/,/g' /Users/sarahgignoux-wolfsohn/Documents/Miami_WBD/Miami_97_otus/tax/rep_set_tax_assignments.txt>/Users/sarahgignoux-wolfsohn/Documents/Miami_WBD/Miami_97_otus/tax/rep_set_tax_assignments.csv"
   ]
  },
  {
   "cell_type": "code",
   "execution_count": 110,
   "metadata": {
    "collapsed": false
   },
   "outputs": [
    {
     "name": "stdout",
     "output_type": "stream",
     "text": [
      "New.ReferenceOTU911,k__Bacteria; p__WS3; c__PRR-12; o__LD1-PA13; f__; g__; s__,5e-17,4348975\r\n",
      "561174,k__Bacteria; p__Proteobacteria; c__Alphaproteobacteria; o__Rhodobacterales; f__Rhodobacteraceae; g__; s__,2e-53,2729077\r\n",
      "114788,k__Bacteria; p__Verrucomicrobia; c__Opitutae; o__Opitutales; f__Opitutaceae; g__Opitutus; s__,8e-50,114788\r\n",
      "New.ReferenceOTU6627,k__Bacteria; p__Proteobacteria; c__Deltaproteobacteria; o__GMD14H09; f__; g__; s__,1e-33,242171\r\n",
      "New.ReferenceOTU915,No blast hit,None,None\r\n",
      "New.ReferenceOTU6626,k__Bacteria; p__Caldithrix; c__Caldithrixae; o__Caldithrixales; f__BA059; g__; s__,7e-41,690132\r\n",
      "New.ReferenceOTU916,k__Bacteria; p__Proteobacteria; c__Deltaproteobacteria; o__Spirobacillales; f__; g__; s__,4e-27,4173596\r\n",
      "4461722,k__Bacteria; p__Proteobacteria; c__Gammaproteobacteria; o__Oceanospirillales; f__Halomonadaceae; g__; s__,2e-50,4461722\r\n",
      "New.ReferenceOTU5405,k__Bacteria; p__Proteobacteria; c__Gammaproteobacteria; o__Oceanospirillales; f__Endozoicimonaceae; g__; s__,8e-50,564590\r\n",
      "New.ReferenceOTU5406,k__Bacteria; p__Proteobacteria; c__TA18; o__PHOS-HD29; f__; g__; s__,8e-47,4473823\r\n"
     ]
    }
   ],
   "source": [
    "!head /Users/sarahgignoux-wolfsohn/Documents/Miami_WBD/Miami_97_otus/tax/rep_set_tax_assignments.csv"
   ]
  },
  {
   "cell_type": "code",
   "execution_count": 5,
   "metadata": {
    "collapsed": false
   },
   "outputs": [],
   "source": [
    "!sed -e 's/;/,/g' -e 's/'.__'//g' -e 's/ //g' /Users/sarahgignoux-wolfsohn/Documents/Miami_WBD/Miami_97_otus/tax/rep_set_tax_assignments.csv > /Users/sarahgignoux-wolfsohn/Documents/Miami_WBD/Miami_97_otus/tax/rep_set_tax_assignments_clean.csv "
   ]
  },
  {
   "cell_type": "code",
   "execution_count": 6,
   "metadata": {
    "collapsed": false
   },
   "outputs": [
    {
     "name": "stdout",
     "output_type": "stream",
     "text": [
      "New.ReferenceOTU911,Bacteria,WS3,PRR-12,LD1-PA13,,,,5e-17,4348975\r\n",
      "561174,Bacteria,Proteobacteria,Alphaproteobacteria,Rhodobacterales,Rhodobacteraceae,,,2e-53,2729077\r\n",
      "114788,Bacteria,Verrucomicrobia,Opitutae,Opitutales,Opitutaceae,Opitutus,,8e-50,114788\r\n",
      "New.ReferenceOTU6627,Bacteria,Proteobacteria,Deltaproteobacteria,GMD14H09,,,,1e-33,242171\r\n",
      "New.ReferenceOTU915,Noblasthit,None,None\r\n",
      "New.ReferenceOTU6626,Bacteria,Caldithrix,Caldithrixae,Caldithrixales,BA059,,,7e-41,690132\r\n",
      "New.ReferenceOTU916,Bacteria,Proteobacteria,Deltaproteobacteria,Spirobacillales,,,,4e-27,4173596\r\n",
      "4461722,Bacteria,Proteobacteria,Gammaproteobacteria,Oceanospirillales,Halomonadaceae,,,2e-50,4461722\r\n",
      "New.ReferenceOTU5405,Bacteria,Proteobacteria,Gammaproteobacteria,Oceanospirillales,Endozoicimonaceae,,,8e-50,564590\r\n",
      "New.ReferenceOTU5406,Bacteria,Proteobacteria,TA18,PHOS-HD29,,,,8e-47,4473823\r\n"
     ]
    }
   ],
   "source": [
    "!head /Users/sarahgignoux-wolfsohn/Documents/Miami_WBD/Miami_97_otus/tax/rep_set_tax_assignments_clean.csv"
   ]
  },
  {
   "cell_type": "code",
   "execution_count": null,
   "metadata": {
    "collapsed": true
   },
   "outputs": [],
   "source": []
  }
 ],
 "metadata": {
  "kernelspec": {
   "display_name": "Python 3",
   "language": "python",
   "name": "python3"
  },
  "language_info": {
   "codemirror_mode": {
    "name": "ipython",
    "version": 3
   },
   "file_extension": ".py",
   "mimetype": "text/x-python",
   "name": "python",
   "nbconvert_exporter": "python",
   "pygments_lexer": "ipython3",
   "version": "3.4.3"
  }
 },
 "nbformat": 4,
 "nbformat_minor": 0
}
