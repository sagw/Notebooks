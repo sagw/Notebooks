{
 "metadata": {
  "name": "",
  "signature": "sha256:4f3e943f6a6293c743d5f805a1a76b199b469a9a733f8b46c8beab07a59cddb7"
 },
 "nbformat": 3,
 "nbformat_minor": 0,
 "worksheets": [
  {
   "cells": [
    {
     "cell_type": "code",
     "collapsed": false,
     "input": [
      "!cat /Users/sarahgignoux-wolfsohn/Documents/Miami_WBD/Miami_WBD_demultiplexed/* > /Users/sarahgignoux-wolfsohn/Documents/Miami_WBD/Miami_qiime.fasta"
     ],
     "language": "python",
     "metadata": {},
     "outputs": [],
     "prompt_number": 3
    },
    {
     "cell_type": "code",
     "collapsed": false,
     "input": [
      "!head /Users/sarahgignoux-wolfsohn/Documents/Miami_WBD/Miami_qiime.fasta"
     ],
     "language": "python",
     "metadata": {},
     "outputs": [
      {
       "output_type": "stream",
       "stream": "stdout",
       "text": [
        ">D10_1:ILLUMINA-D00365:412:HCMTVADXX:1:1101:20687:2141 1:N:0:CAGATC\r\n",
        "CTACGCGAAGAACCTTACCAAGTCTTGACATGTTAGTCGTATGATTAGGAAACTAGTCAG\r\n",
        "TCAGTTCGGCTGGACTATCACAGGTGTTGCATGGCTGTCGTCAGCTCGTGTTGT\r\n",
        ">D10_2:ILLUMINA-D00365:412:HCMTVADXX:1:1101:10508:2483 1:N:0:CAGATC\r\n",
        "CAACGCGAAGAACCTTACCAAGTCTTGACATGTTAGTCGTATGATTAGGAAACTAGTCAG\r\n",
        "TCAGTTCGGCTGGACTATCACAGGTGTTGCATGGCTGTCGTCAGCTCGTGTCGT\r\n",
        ">D10_3:ILLUMINA-D00365:412:HCMTVADXX:1:1101:10987:2469 1:N:0:CAGATC\r\n",
        "CTACGCGAAGAACCTTACCAAGTCTTGACATGTTAGTCGTATGATTAGGAAACTAGTCAG\r\n",
        "TCAGTTCGGCTGGACTATCACAGGTGTTGCATGGCTGTCGTCAGCTCGTGTCGT\r\n",
        ">D10_4:ILLUMINA-D00365:412:HCMTVADXX:1:1101:19853:3309 1:N:0:CAGATC\r\n"
       ]
      }
     ],
     "prompt_number": 4
    },
    {
     "cell_type": "code",
     "collapsed": false,
     "input": [
      "!wc -l /Users/sarahgignoux-wolfsohn/Documents/Miami_WBD/Miami_qiime.fasta"
     ],
     "language": "python",
     "metadata": {},
     "outputs": [
      {
       "output_type": "stream",
       "stream": "stdout",
       "text": [
        " 2063769 /Users/sarahgignoux-wolfsohn/Documents/Miami_WBD/Miami_qiime.fasta\r\n"
       ]
      }
     ],
     "prompt_number": 5
    },
    {
     "cell_type": "code",
     "collapsed": false,
     "input": [
      "!pick_open_reference_otus.py -i /Users/sarahgignoux-wolfsohn/Documents/Miami_WBD/Miami_qiime.fasta -r /Users/sarahgignoux-wolfsohn/Documents/gg/gg_13_8_otus/rep_set/97_otus.fasta -s 1 --suppress_taxonomy_assignment  --suppress_align_and_tree -o /Users/sarahgignoux-wolfsohn/Documents/Miami_WBD/Miami_97_otus"
     ],
     "language": "python",
     "metadata": {},
     "outputs": [],
     "prompt_number": 2
    },
    {
     "cell_type": "code",
     "collapsed": false,
     "input": [
      "!print_biom_table_summary.py -i /Users/sarahgignoux-wolfsohn/Documents/Miami_WBD/Miami_97_otus/otu_table_mc2.biom"
     ],
     "language": "python",
     "metadata": {},
     "outputs": [
      {
       "output_type": "stream",
       "stream": "stdout",
       "text": [
        "Num samples: 10\r\n",
        "Num observations: 6605\r\n",
        "Total count: 684925.0\r\n",
        "Table density (fraction of non-zero values): 0.2462\r\n",
        "Table md5 (unzipped): e33600cf5c7b4d4f8ce92bc431cdbd81\r\n",
        "\r\n",
        "Counts/sample summary:\r\n",
        " Min: 15544.0\r\n",
        " Max: 139981.0\r\n",
        " Median: 67796.0\r\n",
        " Mean: 68492.5\r\n",
        " Std. dev.: 40415.1287868\r\n",
        " Sample Metadata Categories: None provided\r\n",
        " Observation Metadata Categories: None provided\r\n",
        "\r\n",
        "Counts/sample detail:\r\n",
        " D10: 15544.0\r\n",
        " H6: 26067.0\r\n",
        " H8: 30065.0\r\n",
        " H7: 40888.0\r\n",
        " H9: 65985.0\r\n",
        " D6: 69607.0\r\n",
        " SD1.CK14D2.CK14.O: 73324.0\r\n",
        " D9: 94255.0\r\n",
        " D7: 129209.0\r\n",
        " D8: 139981.0\r\n"
       ]
      }
     ],
     "prompt_number": 6
    },
    {
     "cell_type": "code",
     "collapsed": false,
     "input": [
      "#need to rename H10"
     ],
     "language": "python",
     "metadata": {},
     "outputs": [],
     "prompt_number": 1
    },
    {
     "cell_type": "code",
     "collapsed": false,
     "input": [
      "!sed 's/SD1.CK14D2.CK14.O/H10/' /Users/sarahgignoux-wolfsohn/Documents/Miami_WBD/Miami_97_otus/otu_table_mc2.biom > /Users/sarahgignoux-wolfsohn/Documents/Miami_WBD/Miami_97_otus/otu_table_mc2_2.biom"
     ],
     "language": "python",
     "metadata": {},
     "outputs": [],
     "prompt_number": 8
    },
    {
     "cell_type": "code",
     "collapsed": false,
     "input": [
      "!print_biom_table_summary.py -i /Users/sarahgignoux-wolfsohn/Documents/Miami_WBD/Miami_97_otus/otu_table_mc2_2.biom"
     ],
     "language": "python",
     "metadata": {},
     "outputs": [
      {
       "output_type": "stream",
       "stream": "stdout",
       "text": [
        "Num samples: 10\r\n",
        "Num observations: 6605\r\n",
        "Total count: 684925.0\r\n",
        "Table density (fraction of non-zero values): 0.2462\r\n",
        "Table md5 (unzipped): 70b329438f3ae1139fba0287b6045db2\r\n",
        "\r\n",
        "Counts/sample summary:\r\n",
        " Min: 15544.0\r\n",
        " Max: 139981.0\r\n",
        " Median: 67796.0\r\n",
        " Mean: 68492.5\r\n",
        " Std. dev.: 40415.1287868\r\n",
        " Sample Metadata Categories: None provided\r\n",
        " Observation Metadata Categories: None provided\r\n",
        "\r\n",
        "Counts/sample detail:\r\n",
        " D10: 15544.0\r\n",
        " H6: 26067.0\r\n",
        " H8: 30065.0\r\n",
        " H7: 40888.0\r\n",
        " H9: 65985.0\r\n",
        " D6: 69607.0\r\n",
        " H10: 73324.0\r\n",
        " D9: 94255.0\r\n",
        " D7: 129209.0\r\n",
        " D8: 139981.0\r\n"
       ]
      }
     ],
     "prompt_number": 10
    },
    {
     "cell_type": "code",
     "collapsed": false,
     "input": [
      "!assign_taxonomy.py -m blast -i /Users/sarahgignoux-wolfsohn/Documents/Miami_WBD/Miami_97_otus/rep_set.fna -r /Users/sarahgignoux-wolfsohn/Documents/gg/gg_13_8_otus/rep_set/97_otus.fasta -t /Users/sarahgignoux-wolfsohn/Documents/gg/gg_13_8_otus/taxonomy/97_otu_taxonomy.txt -o /Users/sarahgignoux-wolfsohn/Documents/Miami_WBD/Miami_97_otus/tax"
     ],
     "language": "python",
     "metadata": {},
     "outputs": [],
     "prompt_number": 13
    },
    {
     "cell_type": "code",
     "collapsed": false,
     "input": [
      "!head /Users/sarahgignoux-wolfsohn/Documents/Miami_WBD/Miami_97_otus/tax/rep_set_tax_assignments.txt"
     ],
     "language": "python",
     "metadata": {},
     "outputs": [
      {
       "output_type": "stream",
       "stream": "stdout",
       "text": [
        "New.ReferenceOTU911\tk__Bacteria; p__WS3; c__PRR-12; o__LD1-PA13; f__; g__; s__\t5e-17\t4348975\r\n",
        "561174\tk__Bacteria; p__Proteobacteria; c__Alphaproteobacteria; o__Rhodobacterales; f__Rhodobacteraceae; g__; s__\t2e-53\t2729077\r\n",
        "114788\tk__Bacteria; p__Verrucomicrobia; c__Opitutae; o__Opitutales; f__Opitutaceae; g__Opitutus; s__\t8e-50\t114788\r\n",
        "New.ReferenceOTU6627\tk__Bacteria; p__Proteobacteria; c__Deltaproteobacteria; o__GMD14H09; f__; g__; s__\t1e-33\t242171\r\n",
        "New.ReferenceOTU915\tNo blast hit\tNone\tNone\r\n",
        "New.ReferenceOTU6626\tk__Bacteria; p__Caldithrix; c__Caldithrixae; o__Caldithrixales; f__BA059; g__; s__\t7e-41\t690132\r\n",
        "New.ReferenceOTU916\tk__Bacteria; p__Proteobacteria; c__Deltaproteobacteria; o__Spirobacillales; f__; g__; s__\t4e-27\t4173596\r\n",
        "4461722\tk__Bacteria; p__Proteobacteria; c__Gammaproteobacteria; o__Oceanospirillales; f__Halomonadaceae; g__; s__\t2e-50\t4461722\r\n",
        "New.ReferenceOTU5405\tk__Bacteria; p__Proteobacteria; c__Gammaproteobacteria; o__Oceanospirillales; f__Endozoicimonaceae; g__; s__\t8e-50\t564590\r\n",
        "New.ReferenceOTU5406\tk__Bacteria; p__Proteobacteria; c__TA18; o__PHOS-HD29; f__; g__; s__\t8e-47\t4473823\r\n"
       ]
      }
     ],
     "prompt_number": 14
    },
    {
     "cell_type": "code",
     "collapsed": false,
     "input": [
      "!wc -l /Users/sarahgignoux-wolfsohn/Documents/Miami_WBD/Miami_97_otus/tax/rep_set_tax_assignments.txt"
     ],
     "language": "python",
     "metadata": {},
     "outputs": [
      {
       "output_type": "stream",
       "stream": "stdout",
       "text": [
        "    6605 /Users/sarahgignoux-wolfsohn/Documents/Miami_WBD/Miami_97_otus/tax/rep_set_tax_assignments.txt\r\n"
       ]
      }
     ],
     "prompt_number": 15
    },
    {
     "cell_type": "code",
     "collapsed": false,
     "input": [
      "!usearch -uchime_ref /Users/sarahgignoux-wolfsohn/Documents/Miami_WBD/Miami_97_otus/rep_set.fna -db /Users/sarahgignoux-wolfsohn/Documents/SD1/SD1_otus_97/SD1_otus_97_tax/Chimeras/chimera_ref.fa -uchimeout /Users/sarahgignoux-wolfsohn/Documents/Miami_WBD/Miami_97_otus/uchime_out -strand plus -chimeras /Users/sarahgignoux-wolfsohn/Documents/Miami_WBD/Miami_97_otus/chimeras.txt"
     ],
     "language": "python",
     "metadata": {},
     "outputs": [
      {
       "output_type": "stream",
       "stream": "stdout",
       "text": [
        "usearch_i86osx32 v6.0.307, 4.0Gb RAM (8.6Gb total), 4 cores\r\n",
        "(C) Copyright 2010-12 Robert C. Edgar, all rights reserved.\r\n",
        "http://drive5.com/usearch\r\n",
        "\r\n",
        "Licensed to: gw.sarah@gmail.com\r\n",
        "\r\n",
        "00:00 933.9kb Reading /Users/sarahgignoux-wolfsohn/Documents/Miami_WBD/Miami_97_otus/rep_set.fna, 1.2Mb\r\n",
        "00:00 2.2Mb 6605 seqs, min 16, avg 109, max 275nt\r\n",
        "00:00 2.3Mb Reading /Users/sarahgignoux-wolfsohn/Documents/SD1/SD1_otus_97/SD1_otus_97_tax/Chimeras/chimera_ref.fa, 30Mb\r\n"
       ]
      },
      {
       "output_type": "stream",
       "stream": "stdout",
       "text": [
        "00:00  32Mb 20098 (20.1k) seqs"
       ]
      },
      {
       "output_type": "stream",
       "stream": "stdout",
       "text": [
        ", min 320, avg 1443, max 2210nt\r\n",
        "00:00  32Mb    0.0% Masking\r"
       ]
      },
      {
       "output_type": "stream",
       "stream": "stdout",
       "text": [
        "00:01  32Mb    4.2% Masking\r"
       ]
      },
      {
       "output_type": "stream",
       "stream": "stdout",
       "text": [
        "00:01  32Mb  100.0% Masking\r",
        "\r\n",
        "00:01  33Mb    0.0% Word stats\r"
       ]
      },
      {
       "output_type": "stream",
       "stream": "stdout",
       "text": [
        "00:02  33Mb   31.4% Word stats\r"
       ]
      },
      {
       "output_type": "stream",
       "stream": "stdout",
       "text": [
        "00:02  33Mb  100.0% Word stats\r",
        "\r\n"
       ]
      },
      {
       "output_type": "stream",
       "stream": "stdout",
       "text": [
        "00:02 108Mb    0.0% Build index\r"
       ]
      },
      {
       "output_type": "stream",
       "stream": "stdout",
       "text": [
        "00:03 122Mb   24.4% Build index\r"
       ]
      },
      {
       "output_type": "stream",
       "stream": "stdout",
       "text": [
        "00:04 152Mb   91.1% Build index\r"
       ]
      },
      {
       "output_type": "stream",
       "stream": "stdout",
       "text": [
        "00:04 153Mb  100.0% Build index\r",
        "\r\n",
        "00:04 153Mb    0.0% Search 0/1 chimeras found (0.0%)\r"
       ]
      },
      {
       "output_type": "stream",
       "stream": "stdout",
       "text": [
        "00:05 161Mb   17.5% Search 3/1153 chimeras found (0.3%)\r"
       ]
      },
      {
       "output_type": "stream",
       "stream": "stdout",
       "text": [
        "00:06 166Mb   28.3% Search 9/1869 chimeras found (0.5%)\r"
       ]
      },
      {
       "output_type": "stream",
       "stream": "stdout",
       "text": [
        "00:07 170Mb   38.3% Search 14/2533 chimeras found (0.6%)\r"
       ]
      },
      {
       "output_type": "stream",
       "stream": "stdout",
       "text": [
        "00:08 173Mb   46.3% Search 20/3057 chimeras found (0.7%)\r"
       ]
      },
      {
       "output_type": "stream",
       "stream": "stdout",
       "text": [
        "00:09 176Mb   54.1% Search 25/3577 chimeras found (0.7%)\r"
       ]
      },
      {
       "output_type": "stream",
       "stream": "stdout",
       "text": [
        "00:10 181Mb   63.3% Search 29/4181 chimeras found (0.7%)\r"
       ]
      },
      {
       "output_type": "stream",
       "stream": "stdout",
       "text": [
        "00:11 184Mb   71.2% Search 32/4705 chimeras found (0.7%)\r"
       ]
      },
      {
       "output_type": "stream",
       "stream": "stdout",
       "text": [
        "00:12 188Mb   78.2% Search 38/5169 chimeras found (0.7%)\r"
       ]
      },
      {
       "output_type": "stream",
       "stream": "stdout",
       "text": [
        "00:13 191Mb   86.3% Search 42/5701 chimeras found (0.7%)\r"
       ]
      },
      {
       "output_type": "stream",
       "stream": "stdout",
       "text": [
        "00:14 194Mb   94.4% Search 46/6233 chimeras found (0.7%)\r"
       ]
      },
      {
       "output_type": "stream",
       "stream": "stdout",
       "text": [
        "00:14 196Mb  100.0% Search 52/6605 chimeras found (0.8%)\r",
        "\r\n",
        "00:14 196Mb    0.0% Writing hits                        \r",
        "00:15 196Mb   25.4% Writing hits\r",
        "00:15 196Mb  100.0% Writing hits\r",
        "\r\n",
        "00:15 196Mb    0.0% Writing 52 chimeras\r",
        "00:15 196Mb  100.0% Writing 52 chimeras\r",
        "\r\n"
       ]
      }
     ],
     "prompt_number": 59
    },
    {
     "cell_type": "code",
     "collapsed": false,
     "input": [
      "!head /Users/sarahgignoux-wolfsohn/Documents/Miami_WBD/Miami_97_otus/chimeras.txt"
     ],
     "language": "python",
     "metadata": {},
     "outputs": [
      {
       "output_type": "stream",
       "stream": "stdout",
       "text": [
        ">101015\r\n",
        "CAACGCGAGGAACCTTACCTACTCTTGACATCCTCGGAACTTTCCAGAGATGGATTGGTGCCTTCGGGAACCGAGTGACA\r\n",
        "GGTGCTGCATGGCTGTCGTCAGCTCGTGTCGT\r\n",
        ">146400\r\n",
        "CTACGCGAAGAACCTTACCAGACCTTGACATACCAATCGCGGTTTTCAGAGATGAATTCCTTCAGTTCGGCTGGATTGGA\r\n",
        "TACAGGTGCTGCATGGCTGTCGTCAGCTCGTGTCGT\r\n",
        ">319044\r\n",
        "CTACGCGAGGAACCTTACCTGGTCTTGACATCCCGAGAATCTCTTGGAAACAAGAGAGTGCACTTCGGTGAACTCGGTGA\r\n",
        "CAGGTGCTGCATGGCTGTCGTCAGCTCGTGTCGT\r\n",
        ">572337\r\n"
       ]
      }
     ],
     "prompt_number": 60
    },
    {
     "cell_type": "code",
     "collapsed": false,
     "input": [
      "!wc -l /Users/sarahgignoux-wolfsohn/Documents/Miami_WBD/Miami_97_otus/chimeras.txt"
     ],
     "language": "python",
     "metadata": {},
     "outputs": [
      {
       "output_type": "stream",
       "stream": "stdout",
       "text": [
        "     156 /Users/sarahgignoux-wolfsohn/Documents/Miami_WBD/Miami_97_otus/chimeras.txt\r\n"
       ]
      }
     ],
     "prompt_number": 61
    },
    {
     "cell_type": "code",
     "collapsed": false,
     "input": [
      "!sed -n '/^>/p' /Users/sarahgignoux-wolfsohn/Documents/Miami_WBD/Miami_97_otus/chimeras.txt > /Users/sarahgignoux-wolfsohn/Documents/Miami_WBD/Miami_97_otus/chimeras2.txt"
     ],
     "language": "python",
     "metadata": {},
     "outputs": [],
     "prompt_number": 86
    },
    {
     "cell_type": "code",
     "collapsed": false,
     "input": [
      "!head /Users/sarahgignoux-wolfsohn/Documents/Miami_WBD/Miami_97_otus/chimeras2.txt"
     ],
     "language": "python",
     "metadata": {},
     "outputs": [
      {
       "output_type": "stream",
       "stream": "stdout",
       "text": [
        ">101015\r\n",
        ">146400\r\n",
        ">319044\r\n",
        ">572337\r\n",
        ">846727\r\n",
        ">New.ReferenceOTU1068\r\n",
        ">New.ReferenceOTU1192\r\n",
        ">New.ReferenceOTU1223\r\n",
        ">New.ReferenceOTU1368\r\n",
        ">New.ReferenceOTU1728\r\n"
       ]
      }
     ],
     "prompt_number": 87
    },
    {
     "cell_type": "code",
     "collapsed": false,
     "input": [
      "!sed 's/>//g' /Users/sarahgignoux-wolfsohn/Documents/Miami_WBD/Miami_97_otus/chimeras2.txt > /Users/sarahgignoux-wolfsohn/Documents/Miami_WBD/Miami_97_otus/chimeras3.txt"
     ],
     "language": "python",
     "metadata": {},
     "outputs": [],
     "prompt_number": 88
    },
    {
     "cell_type": "code",
     "collapsed": false,
     "input": [
      "!head /Users/sarahgignoux-wolfsohn/Documents/Miami_WBD/Miami_97_otus/chimeras3.txt"
     ],
     "language": "python",
     "metadata": {},
     "outputs": [
      {
       "output_type": "stream",
       "stream": "stdout",
       "text": [
        "101015\r\n",
        "146400\r\n",
        "319044\r\n",
        "572337\r\n",
        "846727\r\n",
        "New.ReferenceOTU1068\r\n",
        "New.ReferenceOTU1192\r\n",
        "New.ReferenceOTU1223\r\n",
        "New.ReferenceOTU1368\r\n",
        "New.ReferenceOTU1728\r\n"
       ]
      }
     ],
     "prompt_number": 89
    },
    {
     "cell_type": "code",
     "collapsed": false,
     "input": [
      "!wc -l /Users/sarahgignoux-wolfsohn/Documents/Miami_WBD/Miami_97_otus/chimeras3.txt"
     ],
     "language": "python",
     "metadata": {},
     "outputs": [
      {
       "output_type": "stream",
       "stream": "stdout",
       "text": [
        "      52 /Users/sarahgignoux-wolfsohn/Documents/Miami_WBD/Miami_97_otus/chimeras3.txt\r\n"
       ]
      }
     ],
     "prompt_number": 90
    },
    {
     "cell_type": "code",
     "collapsed": false,
     "input": [
      "!convert_biom.py -b -i /Users/sarahgignoux-wolfsohn/Documents/Miami_WBD/Miami_97_otus/otu_table_mc2_2.biom -o /Users/sarahgignoux-wolfsohn/Documents/Miami_WBD/Miami_97_otus/otu_table_mc2_2.txt"
     ],
     "language": "python",
     "metadata": {},
     "outputs": [],
     "prompt_number": 37
    },
    {
     "cell_type": "code",
     "collapsed": false,
     "input": [
      "!head /Users/sarahgignoux-wolfsohn/Documents/Miami_WBD/Miami_97_otus/otu_table_mc2_2.txt"
     ],
     "language": "python",
     "metadata": {},
     "outputs": [
      {
       "output_type": "stream",
       "stream": "stdout",
       "text": [
        "# Constructed from biom file\r\n",
        "#OTU ID\tD7\tD9\tD8\tD6\tH9\tH6\tD10\tH10\tH8\tH7\r\n",
        "248442\t34.0\t1.0\t0.0\t0.0\t0.0\t0.0\t0.0\t0.0\t0.0\t0.0\r\n",
        "114788\t8.0\t0.0\t0.0\t0.0\t0.0\t0.0\t0.0\t0.0\t0.0\t0.0\r\n",
        "4409039\t0.0\t0.0\t9.0\t0.0\t0.0\t0.0\t0.0\t0.0\t0.0\t0.0\r\n",
        "172411\t0.0\t0.0\t0.0\t12.0\t0.0\t0.0\t0.0\t0.0\t0.0\t0.0\r\n",
        "96373\t1.0\t0.0\t0.0\t0.0\t1.0\t0.0\t0.0\t0.0\t0.0\t0.0\r\n",
        "4327205\t0.0\t0.0\t2.0\t2.0\t0.0\t1.0\t0.0\t0.0\t0.0\t0.0\r\n",
        "573599\t11.0\t68.0\t331.0\t16.0\t136.0\t501.0\t181.0\t270.0\t417.0\t7.0\r\n",
        "3209311\t0.0\t0.0\t0.0\t7.0\t0.0\t0.0\t0.0\t0.0\t0.0\t0.0\r\n"
       ]
      }
     ],
     "prompt_number": 38
    },
    {
     "cell_type": "code",
     "collapsed": false,
     "input": [
      "!sed -e 's/OTU ID/OTUID/' -e 's/[[:blank:]]/,/g' /Users/sarahgignoux-wolfsohn/Documents/Miami_WBD/Miami_97_otus/otu_table_mc2_2.txt>/Users/sarahgignoux-wolfsohn/Documents/Miami_WBD/Miami_97_otus/otu_table_mc2_2.csv"
     ],
     "language": "python",
     "metadata": {},
     "outputs": [],
     "prompt_number": 57
    },
    {
     "cell_type": "code",
     "collapsed": false,
     "input": [
      "!head /Users/sarahgignoux-wolfsohn/Documents/Miami_WBD/Miami_97_otus/otu_table_mc2_2.csv"
     ],
     "language": "python",
     "metadata": {},
     "outputs": [
      {
       "output_type": "stream",
       "stream": "stdout",
       "text": [
        "#,Constructed,from,biom,file\r\n",
        "#OTUID,D7,D9,D8,D6,H9,H6,D10,H10,H8,H7\r\n",
        "248442,34.0,1.0,0.0,0.0,0.0,0.0,0.0,0.0,0.0,0.0\r\n",
        "114788,8.0,0.0,0.0,0.0,0.0,0.0,0.0,0.0,0.0,0.0\r\n",
        "4409039,0.0,0.0,9.0,0.0,0.0,0.0,0.0,0.0,0.0,0.0\r\n",
        "172411,0.0,0.0,0.0,12.0,0.0,0.0,0.0,0.0,0.0,0.0\r\n",
        "96373,1.0,0.0,0.0,0.0,1.0,0.0,0.0,0.0,0.0,0.0\r\n",
        "4327205,0.0,0.0,2.0,2.0,0.0,1.0,0.0,0.0,0.0,0.0\r\n",
        "573599,11.0,68.0,331.0,16.0,136.0,501.0,181.0,270.0,417.0,7.0\r\n",
        "3209311,0.0,0.0,0.0,7.0,0.0,0.0,0.0,0.0,0.0,0.0\r\n"
       ]
      }
     ],
     "prompt_number": 58
    },
    {
     "cell_type": "code",
     "collapsed": false,
     "input": [
      "## had to do this not in ipython...!sed -e 's/ctr+v+t/,/g' /Users/sarahgignoux-wolfsohn/Documents/Miami_WBD/Miami_97_otus/tax/rep_set_tax_assignments.txt>/Users/sarahgignoux-wolfsohn/Documents/Miami_WBD/Miami_97_otus/tax/rep_set_tax_assignments.csv"
     ],
     "language": "python",
     "metadata": {},
     "outputs": [
      {
       "output_type": "stream",
       "stream": "stdout",
       "text": [
        "usage: tr [-Ccsu] string1 string2\r\n",
        "       tr [-Ccu] -d string1\r\n",
        "       tr [-Ccu] -s string1\r\n",
        "       tr [-Ccu] -ds string1 string2\r\n"
       ]
      }
     ],
     "prompt_number": 107
    },
    {
     "cell_type": "code",
     "collapsed": false,
     "input": [
      "!head /Users/sarahgignoux-wolfsohn/Documents/Miami_WBD/Miami_97_otus/tax/rep_set_tax_assignments.csv"
     ],
     "language": "python",
     "metadata": {},
     "outputs": [
      {
       "output_type": "stream",
       "stream": "stdout",
       "text": [
        "New.ReferenceOTU911,k__Bacteria; p__WS3; c__PRR-12; o__LD1-PA13; f__; g__; s__,5e-17,4348975\r\n",
        "561174,k__Bacteria; p__Proteobacteria; c__Alphaproteobacteria; o__Rhodobacterales; f__Rhodobacteraceae; g__; s__,2e-53,2729077\r\n",
        "114788,k__Bacteria; p__Verrucomicrobia; c__Opitutae; o__Opitutales; f__Opitutaceae; g__Opitutus; s__,8e-50,114788\r\n",
        "New.ReferenceOTU6627,k__Bacteria; p__Proteobacteria; c__Deltaproteobacteria; o__GMD14H09; f__; g__; s__,1e-33,242171\r\n",
        "New.ReferenceOTU915,No blast hit,None,None\r\n",
        "New.ReferenceOTU6626,k__Bacteria; p__Caldithrix; c__Caldithrixae; o__Caldithrixales; f__BA059; g__; s__,7e-41,690132\r\n",
        "New.ReferenceOTU916,k__Bacteria; p__Proteobacteria; c__Deltaproteobacteria; o__Spirobacillales; f__; g__; s__,4e-27,4173596\r\n",
        "4461722,k__Bacteria; p__Proteobacteria; c__Gammaproteobacteria; o__Oceanospirillales; f__Halomonadaceae; g__; s__,2e-50,4461722\r\n",
        "New.ReferenceOTU5405,k__Bacteria; p__Proteobacteria; c__Gammaproteobacteria; o__Oceanospirillales; f__Endozoicimonaceae; g__; s__,8e-50,564590\r\n",
        "New.ReferenceOTU5406,k__Bacteria; p__Proteobacteria; c__TA18; o__PHOS-HD29; f__; g__; s__,8e-47,4473823\r\n"
       ]
      }
     ],
     "prompt_number": 110
    },
    {
     "cell_type": "code",
     "collapsed": false,
     "input": [],
     "language": "python",
     "metadata": {},
     "outputs": []
    }
   ],
   "metadata": {}
  }
 ]
}